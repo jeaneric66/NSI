{
 "cells": [
  {
   "cell_type": "markdown",
   "metadata": {},
   "source": [
    "# Langage Python\n",
    "\n",
    "![logo](python.png)"
   ]
  },
  {
   "cell_type": "markdown",
   "metadata": {},
   "source": [
    ">Python est un langage de programmation, développé en **1989** par **Guido Von Rossum**, à l'université d'Amsterdam.\n",
    "Il est simple d’usage, concis, libre et gratuit, multiplateforme, largement répandu, riche de bibliothèques adaptées et bénéficiant d’une vaste communauté d’auteurs dans le monde éducatif.\n",
    "\n",
    "Il permet d'interagir avec la machine à l'aide d'un programme appelé *interprète Python*. On peut l'utiliser de deux façons différentes. La première méthode consiste en un *dialogue avec l'interprète*. c'est le mode **interactif**.\n",
    "\n",
    "Le second consiste à *écrire un programme ou code source dans un fichier*, c'est à dire une suite d'instructions, puis à le faire exécuter par l'interprète Python. C'est le **mode programme**.\n",
    "\n",
    "On peut utiliser différents environnements de développement : Iddle, Pyzo, Spyder, Pyscripter..., qui permettent d'utiliser les deux modes simultanément.\n",
    "\n",
    "Mais dans un premier temps, vous allez le faire directement dans ce **notebook**, au fur et à mesure du cours.\n"
   ]
  },
  {
   "cell_type": "markdown",
   "metadata": {},
   "source": [
    "<a id=\"som\"></a>\n",
    "\n",
    "## Sommaire\n",
    "\n",
    ">[1. Les opérateurs](#op)\n",
    "\n",
    ">[2. Commandes de bases](#com)\n",
    "\n",
    ">[3. Les conditions](#cond)\n",
    "\n",
    ">[4. Les boucles](#bou)\n",
    "\n",
    ">[5. Les fonctions](#fonc)\n",
    "\n",
    ">[6. Les chaînes de caractères](#ch)\n",
    "\n",
    ">[7. Les booléens](#boo)"
   ]
  },
  {
   "cell_type": "markdown",
   "metadata": {},
   "source": [
    "<a id=\"op\"></a>\n",
    "\n",
    "## 1. Les opérateurs"
   ]
  },
  {
   "cell_type": "markdown",
   "metadata": {},
   "source": [
    "On peut utilser l'interpréteur Python comme une simple machine à écrire :"
   ]
  },
  {
   "cell_type": "code",
   "execution_count": null,
   "metadata": {},
   "outputs": [],
   "source": [
    "5+3"
   ]
  },
  {
   "cell_type": "code",
   "execution_count": null,
   "metadata": {},
   "outputs": [],
   "source": [
    "7-8"
   ]
  },
  {
   "cell_type": "code",
   "execution_count": null,
   "metadata": {},
   "outputs": [],
   "source": [
    "16/5"
   ]
  },
  {
   "cell_type": "markdown",
   "metadata": {},
   "source": [
    "Maintenant certaines opérations un peu moins classiques sont à connaître :"
   ]
  },
  {
   "cell_type": "code",
   "execution_count": null,
   "metadata": {},
   "outputs": [],
   "source": [
    "5**3"
   ]
  },
  {
   "cell_type": "code",
   "execution_count": null,
   "metadata": {},
   "outputs": [],
   "source": [
    "16//5"
   ]
  },
  {
   "cell_type": "code",
   "execution_count": null,
   "metadata": {},
   "outputs": [],
   "source": [
    "16%5"
   ]
  },
  {
   "cell_type": "markdown",
   "metadata": {},
   "source": [
    "$\\underline{Exercice} 1 :$ Précisez ce que font les opérateurs : \n",
    "\n",
    "** \n",
    "\n",
    "//\n",
    "\n",
    "%"
   ]
  },
  {
   "cell_type": "markdown",
   "metadata": {},
   "source": [
    "**Opérateurs de comparaison**\n",
    "- x == y     : test d'égalité\n",
    "- x != y     : différent\n",
    "- x > y      : supérieur\n",
    "- x >= y     : supérieur ou égal\n",
    "- x < y      : inférieur\n",
    "- x <= y     : inférieur ou égal"
   ]
  },
  {
   "cell_type": "markdown",
   "metadata": {},
   "source": [
    "<a id=\"com\"></a>\n",
    "\n",
    "## 2. Commandes de base\n"
   ]
  },
  {
   "cell_type": "markdown",
   "metadata": {},
   "source": [
    "Afficher un message de bienvenue avec **print()**."
   ]
  },
  {
   "cell_type": "code",
   "execution_count": null,
   "metadata": {},
   "outputs": [],
   "source": [
    "print(\"Hello world !\")"
   ]
  },
  {
   "cell_type": "markdown",
   "metadata": {},
   "source": [
    "$\\underline{Remarque :}$ Nous sommes dans un interpréteur, il est inutile de d'utiliser **print()**."
   ]
  },
  {
   "cell_type": "code",
   "execution_count": null,
   "metadata": {},
   "outputs": [],
   "source": [
    "\"Hello world !\""
   ]
  },
  {
   "cell_type": "markdown",
   "metadata": {},
   "source": [
    "On demande une donnée (valeur numérique, texte) à l'utilisateur avec **input()**."
   ]
  },
  {
   "cell_type": "code",
   "execution_count": null,
   "metadata": {},
   "outputs": [],
   "source": [
    "input(\"quel est ton prénom ?\")"
   ]
  },
  {
   "cell_type": "markdown",
   "metadata": {},
   "source": [
    "$\\underline{Remarque :}$\n",
    "\n",
    "L'ordinateur affiche votre réponse, mais ne la garde pas en mémoire ! Impossible d'utiliser cette réponse par la suite...\n",
    "\n",
    "C'est pourquoi on utilise des **variables** dans les programmes.\n",
    "\n",
    "On leur donne un nom, mais pour l'ordinateur il s'agit d'une référence désignant une **adresse mémoire**, c'est à dire un emplacement précis de la mémoire. A cet emplacement est stocké une valeur bien déterminée.\n",
    "\n",
    "\n",
    "Pour **affecter** une valeur à une variable, on utilise le symbole **=**."
   ]
  },
  {
   "cell_type": "code",
   "execution_count": null,
   "metadata": {},
   "outputs": [],
   "source": [
    "var = input(\"Quel est ton nom ?\")"
   ]
  },
  {
   "cell_type": "markdown",
   "metadata": {},
   "source": [
    "Maintenant, on peut récupérer la réponse donnée en appelant la variable dans laquelle on l'a stockée :"
   ]
  },
  {
   "cell_type": "code",
   "execution_count": null,
   "metadata": {},
   "outputs": [],
   "source": [
    "var"
   ]
  },
  {
   "cell_type": "code",
   "execution_count": null,
   "metadata": {},
   "outputs": [],
   "source": [
    "print(\"Bonjour \",var)"
   ]
  },
  {
   "cell_type": "markdown",
   "metadata": {},
   "source": [
    "$\\underline{Remarques :}$\n",
    "\n",
    "Pour afficher un texte, on l'écrit entre guillemets \" \", mais pour afficher une variable on écrit simplement son nom. On peut les afficher simultanément en les séparant par une virgule.\n",
    "\n",
    "Un nom de variable respecte la syntaxe suivante: \n",
    "- commence par une lettre\n",
    "- ne contient que des lettres (sans accents), des chiffres et le caractère _.\n",
    "\n",
    "Python est sensible à la casse (c'est à dire l'emploi des majuscules et des minuscules) et a des mots clé réservés. \n",
    "\n",
    "Par convention on nomme les variables avec des lettres minuscules, mais on peut ajouter une majuscule pour une meilleure lisibilité. \n",
    "\n",
    "Par exemple : **monPrenom**"
   ]
  },
  {
   "cell_type": "markdown",
   "metadata": {},
   "source": [
    "On peut combiner plusieurs instructions :"
   ]
  },
  {
   "cell_type": "code",
   "execution_count": null,
   "metadata": {},
   "outputs": [],
   "source": [
    "print(\"8+4 =\",8+4)"
   ]
  },
  {
   "cell_type": "markdown",
   "metadata": {},
   "source": [
    "### Les variables\n",
    "\n",
    "Il en existe différents types, par exemple :\n",
    " \n",
    " - les nombres entiers, sont les **integer**, notés **int**\n",
    " \n",
    " - les nombres décimaux, sont les **float**.\n",
    " \n",
    " - les chaînes de caractères constituées de caractères alphabétiques, de mots, de phrases ou de suites de symboles quelconques, sont les **strings**, notées **str** <i>(Ce qui est noté\n",
    "    entre guillemets simples ou doubles (voir triples) est automatiquement de type str.)</i>\n",
    "  \n",
    " - les booléens, notés *bool*, qui ne prennent que deux valeurs : True ou False. Ils permettent de tester si une expression logique est vraie ou fausse.\n",
    "\n",
    "\n",
    "Pour connaitre le type d'une variable, il suffit de taper **type(variable)**.\n"
   ]
  },
  {
   "cell_type": "code",
   "execution_count": null,
   "metadata": {},
   "outputs": [],
   "source": [
    "a = 2.5   #on utilise le . pour noter les nombres décimaux\n",
    "type(a)"
   ]
  },
  {
   "cell_type": "code",
   "execution_count": null,
   "metadata": {},
   "outputs": [],
   "source": [
    "b = 10\n",
    "a < b    #le test est vrai, python renvoie un booléen"
   ]
  },
  {
   "cell_type": "markdown",
   "metadata": {},
   "source": [
    "On peut changer le type d'une variable :"
   ]
  },
  {
   "cell_type": "code",
   "execution_count": null,
   "metadata": {},
   "outputs": [],
   "source": [
    "c = 2\n",
    "d = float(2)  #d est un nombre réel\n",
    "d"
   ]
  },
  {
   "cell_type": "code",
   "execution_count": null,
   "metadata": {},
   "outputs": [],
   "source": [
    "e = '2'      #e est une chaîne de caractères\n",
    "print(type(e))\n",
    "e = int(e)  #e devient un entier\n",
    "print(type(e))"
   ]
  },
  {
   "cell_type": "markdown",
   "metadata": {},
   "source": [
    "Pour tester si deux variables sont égales ou non, on utlise  **==** (à ne pas confondre avec l'affectation) ou **!=**\n",
    "\n",
    "La réponse retournée est sous la forme d'un booléen."
   ]
  },
  {
   "cell_type": "code",
   "execution_count": null,
   "metadata": {},
   "outputs": [],
   "source": [
    "print(a == 2)   #est-ce que a est égal à 2 ?\n",
    "print(b == False)\n",
    "print(a != 5)   #est-ce que a est différent de 5 ?\n",
    "print(b != 0)"
   ]
  },
  {
   "cell_type": "markdown",
   "metadata": {},
   "source": [
    "$\\underline{Remarque :}$\n",
    "\n",
    "Il est très important de commenter vos programmes, pour que d'autres puissent les comprendre et que vous-même puissiez y revenir plus tard sans être perdu.\n",
    "\n",
    "Pour cela on utilise le symbole **#**. Tout ce qui suit ce caractère ne sera pas exécuté, c'est un commentaire."
   ]
  },
  {
   "cell_type": "markdown",
   "metadata": {},
   "source": [
    "$\\underline{Exercice}$ 2 : Ecrire ci-dessous un programme demandant deux nombres entiers et affichant la somme de ces nombres."
   ]
  },
  {
   "cell_type": "code",
   "execution_count": null,
   "metadata": {},
   "outputs": [],
   "source": [
    "#code"
   ]
  },
  {
   "cell_type": "markdown",
   "metadata": {},
   "source": [
    "$\\underline{Remarques :}$\n",
    "\n",
    "La commande <i>input()</i> donne une chaîne de caractère, même si l'on entre un nombre.\n",
    "\n",
    "Il vaut mieux utiliser <i>eval(input())</i> qui reconnaît si la variable donnée est un nombre ou une chaîne de caractères."
   ]
  },
  {
   "cell_type": "code",
   "execution_count": null,
   "metadata": {},
   "outputs": [],
   "source": [
    "a = eval(input(\"Donner un nombre :\"))\n",
    "b = eval(input(\"Donner un nombre :\"))\n",
    "a+b"
   ]
  },
  {
   "cell_type": "markdown",
   "metadata": {},
   "source": [
    "On peut faire des affectations multiples :"
   ]
  },
  {
   "cell_type": "code",
   "execution_count": null,
   "metadata": {},
   "outputs": [],
   "source": [
    "x = y = 2\n",
    "print(\"x = \",x,\" y = \",y)"
   ]
  },
  {
   "cell_type": "markdown",
   "metadata": {},
   "source": [
    "On peut affecter des valeurs à plusieurs variables en même temps :"
   ]
  },
  {
   "cell_type": "code",
   "execution_count": null,
   "metadata": {},
   "outputs": [],
   "source": [
    "a,b = 3,5\n",
    "print(\"a =\",a,\" et b = \",b)"
   ]
  },
  {
   "cell_type": "markdown",
   "metadata": {},
   "source": [
    "$\\underline{Exercice}$ 3 : Compléter le code ci-dessous pour échanger les valeurs des variables a et b, puis les afficher."
   ]
  },
  {
   "cell_type": "code",
   "execution_count": null,
   "metadata": {},
   "outputs": [],
   "source": [
    "a = 10\n",
    "b = 15\n",
    "#suite du code"
   ]
  },
  {
   "cell_type": "markdown",
   "metadata": {},
   "source": [
    "Il peut être nécessaire d'**incrémenter** une variable (l'augmenter d'une certaine valeur) ou de la décrémenter (la diminuer d'une certaine valeur)."
   ]
  },
  {
   "cell_type": "code",
   "execution_count": null,
   "metadata": {},
   "outputs": [],
   "source": [
    "nb = 5\n",
    "nb = nb + 1   #on augmente nb de 1\n",
    "print(nb)\n",
    "nb += 1       #même chose\n",
    "print(nb)\n",
    "nb -= 2       #on diminue nb de 2\n",
    "print(nb)"
   ]
  },
  {
   "cell_type": "markdown",
   "metadata": {},
   "source": [
    "$\\underline{Remarques :}$\n",
    "\n",
    "$\\bullet$ Les instructions d'un programme s'exécutent dans l'ordre où elles sont écrites !\n",
    "\n",
    "$\\bullet$ Lorsque l'on fait de la programmation on commet des erreurs (des **bugs**), et l'ensemble des techniques pour les détecter et les corriger s'appelle **debug**.\n",
    "\n",
    "Il y a trois types d'erreurs :\n",
    "\n",
    "$-$ les **erreurs de syntaxe** : les règles du langage n'ont pas été respectées (oublie d'une parenthèse, erreur de frappe...) et produisent un arrêt de fonctionnement ;\n",
    "\n",
    "$-$ les **erreurs sémantiques** : le programme s'exécute parfaitement, pas de message d'erreur, mais le résultat n'est pas celui que l'on attend ;\n",
    "\n",
    "$-$ les **erreurs à l'exécution** : le programme fonctionne, mais des circonstances particulières (par exemple unfichier déplacé...) se présentent et une erreur se produit.\n",
    "\n",
    ">Il faudra sans cesse modifier et corriger vos programmes ! Pour vous y aider, l'interpréteur Pyhton affiche des messages d'erreurs, précisant le type de l'erreur et la ligne où elle s'est produite."
   ]
  },
  {
   "cell_type": "markdown",
   "metadata": {},
   "source": [
    "### Les modules\n",
    "\n",
    "  Beaucoup de programmes ont déjà été écrit sous Pyhton. On en a regroupé certains dans des fichiers appelés **modules** ou **bibliothèques**.\n",
    "\n",
    "Certains sont installés en même temps que Python. Mais on peut ensuite en utiliser d'autres, suivant nos besoins. Il suffit de les \"appeler\" en début de programme.\n",
    "\n",
    "Par exemple, il existe un module de mathématiques (math) contenant des fonctions comme cosinus et sinus, des nombres tels que pi...\n",
    "\n",
    "Pour utiliser ces modules, on tape la commande : <b>from le-nom-du-module import*</b>"
   ]
  },
  {
   "cell_type": "code",
   "execution_count": null,
   "metadata": {},
   "outputs": [],
   "source": [
    "from math import*\n",
    "print(pi)   #on affiche une valeur approchée de pi\n",
    "print(sqrt(25))  #on obtient la racine carré de 25"
   ]
  },
  {
   "cell_type": "markdown",
   "metadata": {},
   "source": [
    "Un autre module très utile est **random**, car il permet de générer des nombres aléatoires."
   ]
  },
  {
   "cell_type": "code",
   "execution_count": null,
   "metadata": {},
   "outputs": [],
   "source": [
    "from random import*\n",
    "randint(1,50)   #obtenir un nombre entier au hasard entre 1 et 50"
   ]
  },
  {
   "cell_type": "markdown",
   "metadata": {},
   "source": [
    "<a id=\"cond\"></a>\n",
    "\n",
    "## 3. Les conditions\n",
    "\n",
    "Pour tester une certaine condition et modifier le comportement du programme en conséquence, on utilise l'instruction **if** (si). \n",
    "\n",
    "$\\underline{Exercice}$ 4 : Tester le programme ci-dessous avec différentes valeurs :"
   ]
  },
  {
   "cell_type": "code",
   "execution_count": null,
   "metadata": {},
   "outputs": [],
   "source": [
    "nombre = eval(input(\"Donner un nombre :\"))\n",
    "if (nombre < 0):\n",
    "    print(\"Le nombre est négatif.\")"
   ]
  },
  {
   "cell_type": "markdown",
   "metadata": {},
   "source": [
    "Si la condition indiquée est vraie, ici le nombre est négatif, alors on exécute l'instruction d'affichage.\n",
    "\n",
    "On peut rajouter une instruction pour le cas où la condition est fausse, voir rajouter d'autres cas."
   ]
  },
  {
   "cell_type": "code",
   "execution_count": null,
   "metadata": {},
   "outputs": [],
   "source": [
    "nombre = eval(input(\"Donner un nombre :\"))\n",
    "if (nombre < 0):\n",
    "    print(\"Le nombre est négatif.\")\n",
    "elif (nombre > 0):\n",
    "    print(\"Le nombre est positif\")\n",
    "else:\n",
    "    print(\"Le nombre est nul.\")"
   ]
  },
  {
   "cell_type": "markdown",
   "metadata": {},
   "source": [
    "$\\underline{Remarques :}$\n",
    "\n",
    "Le décalage à droite se nomme l'**indentation**. Il est obligatoire pour signifier que les instructions suivantes sont dans la condition.\n",
    "\n",
    "Les parenthèses autour de la condition ne sont pas obligatoires."
   ]
  },
  {
   "cell_type": "markdown",
   "metadata": {},
   "source": [
    "$\\underline{Exercice}$ 5 : \n",
    "\n",
    "Ecrire un programme qui permet de tester si un nombre donné est pair ou impair, et qui l'affiche."
   ]
  },
  {
   "cell_type": "code",
   "execution_count": null,
   "metadata": {},
   "outputs": [],
   "source": [
    "#code"
   ]
  },
  {
   "cell_type": "markdown",
   "metadata": {},
   "source": [
    "<a id=\"bou\"></a>\n",
    "\n",
    "## 4. Les boucles"
   ]
  },
  {
   "cell_type": "markdown",
   "metadata": {},
   "source": [
    "L'une des tâches que les machines font le mieux est la répétition de tâches identiques.\n",
    "\n",
    "Pour cela on peut utiliser une boucle **while** (tant que).\n",
    "\n",
    "*Tant que la condition indiquée est vraie*, on répète le bloc d'instructions de la boucle, que l'on repère grâce à l'indentation des lignes. Si la *condition est fausse*, le bloc d'instruction est ignoré."
   ]
  },
  {
   "cell_type": "code",
   "execution_count": null,
   "metadata": {},
   "outputs": [],
   "source": [
    "z = 0\n",
    "while (z < 7):\n",
    "    z += 1\n",
    "    print(z,end = \" \")"
   ]
  },
  {
   "cell_type": "markdown",
   "metadata": {},
   "source": [
    "$\\underline{Remarques :}$\n",
    "\n",
    "L'instruction **end = \"  \"** signifie que l'on veut afficher les nombres sur la même ligne, séparés d'un espace.\n",
    "\n",
    "La variable évaluée dans la condition doit exister au préalable.\n",
    "\n",
    "Si la condition reste *toujours vraie*, alors le corps de la boucle est répété indéfiniment (jusqu'à ce que Python cesse de fonctionner). Il faut absoluement l'éviter !"
   ]
  },
  {
   "cell_type": "markdown",
   "metadata": {},
   "source": [
    "$\\underline{Exercice}$ 6 : \n",
    "\n",
    "Ecrire un programme qui affiche les 20 premiers termes de la table de multiplication de 8."
   ]
  },
  {
   "cell_type": "code",
   "execution_count": null,
   "metadata": {},
   "outputs": [],
   "source": [
    "#code"
   ]
  },
  {
   "cell_type": "markdown",
   "metadata": {},
   "source": [
    "$\\underline{Exercice}$ 7 : \n",
    "\n",
    "On lance deux dés à 6 faces parfaitement équilibrés et on additionne les deux résultats obtenus.\n",
    "\n",
    "Ecrire un programme  qui simule cette expérience et indique le nombre de lancés nécessaires pour que la somme soit égale à 12."
   ]
  },
  {
   "cell_type": "code",
   "execution_count": null,
   "metadata": {},
   "outputs": [],
   "source": [
    "#code"
   ]
  },
  {
   "cell_type": "markdown",
   "metadata": {},
   "source": [
    "Une autre boucle, la boucle **for** (pour).\n",
    "\n",
    "On répète un certain nombre de fois le bloc d'instructions"
   ]
  },
  {
   "cell_type": "code",
   "execution_count": null,
   "metadata": {},
   "outputs": [],
   "source": [
    "for i in range(10):\n",
    "    print(i,end = \";\")"
   ]
  },
  {
   "cell_type": "markdown",
   "metadata": {},
   "source": [
    "$\\underline{Remarques :}$\n",
    "\n",
    "i est ce qu'on appelle un **compteur**, qui prendra successivement les valeurs entières de 0 à 9. \n",
    "\n",
    "Et à chaque fois, on exécuter le bloc d'instructions de la boucle."
   ]
  },
  {
   "cell_type": "markdown",
   "metadata": {},
   "source": [
    "Quelques variantes :"
   ]
  },
  {
   "cell_type": "code",
   "execution_count": null,
   "metadata": {},
   "outputs": [],
   "source": [
    "for i in range(1,10):\n",
    "    print(i,end = \";\")"
   ]
  },
  {
   "cell_type": "code",
   "execution_count": null,
   "metadata": {},
   "outputs": [],
   "source": [
    "for i in range(1,20,2):\n",
    "    print(i,end = \";\")"
   ]
  },
  {
   "cell_type": "markdown",
   "metadata": {},
   "source": [
    "$\\underline{Exercice}$ 8 :\n",
    "\n",
    "Ecrire un programme qui calcule la somme des 25 premiers nombres entiers."
   ]
  },
  {
   "cell_type": "code",
   "execution_count": null,
   "metadata": {},
   "outputs": [],
   "source": [
    "#code"
   ]
  },
  {
   "cell_type": "markdown",
   "metadata": {},
   "source": [
    "$\\underline{Exercice}$ 9 :\n",
    "    \n",
    "Ecrire un programme faisant deviner un nombre entier compris entre 1 et 100.\n",
    "\n",
    "Ce nombre sera choisi au hasard par l'ordinateur ; on indiquera si le nombre proposé est trop grand ou trop petit, ainsi que le nombre de propositions faites jusque-là.\n",
    "\n",
    "Si l'on dépasse les 6 propositions, on arrête le jeu et on affiche Game Over."
   ]
  },
  {
   "cell_type": "code",
   "execution_count": null,
   "metadata": {},
   "outputs": [],
   "source": [
    "#code"
   ]
  },
  {
   "cell_type": "markdown",
   "metadata": {},
   "source": [
    "<a id=\"fonc\"></a>\n",
    "\n",
    "## 5. Les fonctions"
   ]
  },
  {
   "cell_type": "markdown",
   "metadata": {},
   "source": [
    "$\\underline{Remarque :}$ Les mots suivants ne peuvent être utilisés comme nom de variables, ni comme noms de fonctions : \n",
    "    \n",
    ">and ; as ; assert ; break ; class ; continue ; def ; del ; elif ; else ; except ; False ; finally ;\n",
    "    for ; from ; global ; if ; import ; in ; is ; lambda ; None ; nonlocal ; not ; or ; pass ; raise ;\n",
    "    return ; True ; try ; while  ; with ; yield"
   ]
  },
  {
   "cell_type": "markdown",
   "metadata": {},
   "source": [
    "On a déjà utilisé certaines **fonctions** préprogrammées, comme **print()**, **input()**, certaines sont regroupées dans des *modules*... ; on peut également en écrire de nouvelles.\n",
    "\n",
    "Ce sont des suites d'instructions que l'on isolent du reste du programme, auxquelles on donne un nom, ce qui permet d'appeler la fonction par ce nom à n'importe quel endroit du programme.\n",
    "\n",
    "On peut ainsi utiliser ces fonctions sans avoir à les réécrire, et autant de fois qu'on le souhaite. Elles permettent de rendre le code du programme plus court et plus facile à comprendre.\n",
    "\n",
    "La syntaxe d'une fonction :\n",
    "\n",
    "**def nom_fonction(paramètres):**\n",
    "\n",
    ">Bloc d'instructions"
   ]
  },
  {
   "cell_type": "markdown",
   "metadata": {},
   "source": [
    "$\\underline{Remarques :}$\n",
    "\n",
    " - il faut indenter les instructions de la fonction\n",
    " \n",
    " - on peut donner un ou plusieurs paramètres nécessaires à l'exécution des instructions\n",
    " \n",
    " - une fonction ne fait rien tant qu'elle n'a pas été appelée ; on l'appelle par son nom"
   ]
  },
  {
   "cell_type": "code",
   "execution_count": null,
   "metadata": {},
   "outputs": [],
   "source": [
    "def table_de_7():              #une fonction sans paramètre\n",
    "    for i in range(11):\n",
    "        print(\"7*\",i,\"=\",7*i,end =\" ; \")"
   ]
  },
  {
   "cell_type": "code",
   "execution_count": null,
   "metadata": {},
   "outputs": [],
   "source": [
    "table_de_7()     #on appelle la fonction"
   ]
  },
  {
   "cell_type": "code",
   "execution_count": null,
   "metadata": {},
   "outputs": [],
   "source": [
    "def table_mul(nb,max):   #on utilise deux paramètres\n",
    "    \"\"\"paramètres :      \n",
    "       nb : la table demandée\n",
    "       max : la valeur maximale de la table\"\"\"\n",
    "    for i in range(max+1):\n",
    "        print(nb,\"*\",i,\"=\",nb*i,end =\" ; \")    \n"
   ]
  },
  {
   "cell_type": "code",
   "execution_count": null,
   "metadata": {},
   "outputs": [],
   "source": [
    "table_mul(8,20)"
   ]
  },
  {
   "cell_type": "markdown",
   "metadata": {},
   "source": [
    "$\\underline{Remarque :}$ Les triples guillemets dans une fonction, permettent de faire un commentaire où l'on précise les paramètres attendus."
   ]
  },
  {
   "cell_type": "markdown",
   "metadata": {},
   "source": [
    "Maintenant, une fonction est créée avant tout pour *renvoyer une valeur*, ce qui se fait avec la commande **return**."
   ]
  },
  {
   "cell_type": "code",
   "execution_count": null,
   "metadata": {},
   "outputs": [],
   "source": [
    "def carre(x):\n",
    "    return x**2  #cette fonction donne le carré du nombre x donné"
   ]
  },
  {
   "cell_type": "code",
   "execution_count": null,
   "metadata": {},
   "outputs": [],
   "source": [
    "carre(5)"
   ]
  },
  {
   "cell_type": "markdown",
   "metadata": {},
   "source": [
    "$\\underline{Exercice}$ 10 :\n",
    "\n",
    "Ecrire une fonction qui permet de trouver les diviseurs d'un nombre entier positif non nul, et qui les affiche."
   ]
  },
  {
   "cell_type": "code",
   "execution_count": null,
   "metadata": {},
   "outputs": [],
   "source": [
    "def diviseurs(n):\n",
    "    pass            #compléter le code"
   ]
  },
  {
   "cell_type": "markdown",
   "metadata": {},
   "source": [
    "### Variables locales et variables globales"
   ]
  },
  {
   "cell_type": "markdown",
   "metadata": {},
   "source": [
    "Lorsque des variables sont définies à l'intérieur du corps d'une fonction, ces variables ne sont accessibles qu'à la fonction elle-même : ce sont des **variables locales** ;\n",
    "\n",
    "Lorsque des variables sont définies à l'extérieur d'une fonction : ce sont des **variables globales**. Leur contenu est visible à l'intérieur d'une fonction, mais la fonction ne peut pas les modifier.\n",
    "\n"
   ]
  },
  {
   "cell_type": "markdown",
   "metadata": {},
   "source": [
    "$\\underline{Exercice}$ 11 :\n",
    "\n",
    "Testez les exemples suivants."
   ]
  },
  {
   "cell_type": "code",
   "execution_count": null,
   "metadata": {},
   "outputs": [],
   "source": [
    "def monter():\n",
    "    v = 5\n",
    "    return a*2\n",
    "\n",
    "print(v)  #La variable locale v est inconnue à l'extérieur de la fonction "
   ]
  },
  {
   "cell_type": "code",
   "execution_count": null,
   "metadata": {},
   "outputs": [],
   "source": [
    "m = 2\n",
    "def test():\n",
    "    return m+1  #on a accès à la variable globale  dans la fonction\n",
    "\n",
    "test()"
   ]
  },
  {
   "cell_type": "code",
   "execution_count": null,
   "metadata": {},
   "outputs": [],
   "source": [
    "def test_2():\n",
    "    m = m + 8   #on ne peut modifier la variable globale m dans la fonction\n",
    "    return m\n",
    "\n",
    "test_2()"
   ]
  },
  {
   "cell_type": "code",
   "execution_count": null,
   "metadata": {},
   "outputs": [],
   "source": [
    "def test_2():\n",
    "    global m    #cette déclaration permet de modifier la variable globale dans cette fonction\n",
    "    m = m + 8   \n",
    "    return m\n",
    "\n",
    "test_2()"
   ]
  },
  {
   "cell_type": "markdown",
   "metadata": {},
   "source": [
    "<a id=\"ch\"></a>\n",
    "\n",
    "## 6. Chaînes de caractère"
   ]
  },
  {
   "cell_type": "markdown",
   "metadata": {},
   "source": [
    "Les chaînes de caractères (string) sont des types de données *composites*, car elles rassemblent dans une seule structure un ensemble d'entités plus simples : des caractères. Ainsi on peut la traiter comme un seul objet, ou bien comme une *séquence* de caractères distincts. On doit donc pouvoir **accéder séparément à chacun des caractères** de la chaîne. \n",
    "\n",
    "Pour cela on utilise la syntaxe suivante :\n",
    "\n",
    "**nom_de_chaîne[indice]** où l'indice correspond à la position du caractère dans la chaîne. (Attention, la numérotation commence à 0)"
   ]
  },
  {
   "cell_type": "code",
   "execution_count": null,
   "metadata": {},
   "outputs": [],
   "source": [
    "ch = \"Bienvenue sur Mars !\"           \n",
    "print(ch[0])            #on accède au premier caractère\n",
    "print(ch[4],\"-\",ch[9],\"-\")  #l'espace est un caractère que l'on peut afficher\n",
    "print(ch[1:4])          #on affiche une partie de la chaîne : de l'indice 1 à l'indice 3!!\n",
    "print(ch[-1])           #on affiche le dernier\n",
    "print(ch[10:])           #on affiche toute la chaîne à partir de l'indice 10"
   ]
  },
  {
   "cell_type": "markdown",
   "metadata": {},
   "source": [
    "On peut écrire un texte long sur plusieurs lignes grâce au symbole **\\** (*antislash*).\n",
    "\n",
    "Dans une chaîne de caractères, la séquence **\\n** provoque un saut de ligne, lorsqu'on utilise la fonction **print()**."
   ]
  },
  {
   "cell_type": "code",
   "execution_count": null,
   "metadata": {},
   "outputs": [],
   "source": [
    "phrase = \"Je vais essayer de ne pas \\\n",
    "faire de fautes d'ortographe, \\n \\\n",
    "mais c'est très difficile !\"\n",
    "\n",
    "print(phrase)"
   ]
  },
  {
   "cell_type": "markdown",
   "metadata": {},
   "source": [
    "Il existe de nombreuses fonctions permettant de traiter les chaînes de caractères, que l'on appelle **méthodes**.\n",
    "\n",
    "La syntaxe pour les utiliser : **nom-chaine.methode()**"
   ]
  },
  {
   "cell_type": "code",
   "execution_count": null,
   "metadata": {},
   "outputs": [],
   "source": [
    "print(ch.upper())     #tous les caractères s'écrivent en majuscules\n",
    "print(ch.lower())     #tous les caractères s'écrivent en minuscules\n",
    "print(ch.count('e'))  #on indique le nombre de fois où le caractère e apparaît dans la chaîne\n",
    "print(ch.find('v'))   #on cherche l'indice de la première occurence du caractère v"
   ]
  },
  {
   "cell_type": "markdown",
   "metadata": {},
   "source": [
    "Parmi les fonctions les plus utiles on retrouve également  **len(nom_chaine)** qui indique la longueur de la chaîne."
   ]
  },
  {
   "cell_type": "code",
   "execution_count": null,
   "metadata": {},
   "outputs": [],
   "source": [
    "len(ch)"
   ]
  },
  {
   "cell_type": "markdown",
   "metadata": {},
   "source": [
    "On peut choisir un caractère au hasard dans la chaîne, avec le module **random** et la fonction **choice()** :"
   ]
  },
  {
   "cell_type": "code",
   "execution_count": null,
   "metadata": {},
   "outputs": [],
   "source": [
    "from random import choice  #on importe seulement la fonction choice !\n",
    "choice(ch)"
   ]
  },
  {
   "cell_type": "markdown",
   "metadata": {},
   "source": [
    "On peut assembler deux chaînes de caractères, ce qu'on appelle la **concaténation**, en utilisant l'opérateur **+**."
   ]
  },
  {
   "cell_type": "code",
   "execution_count": null,
   "metadata": {},
   "outputs": [],
   "source": [
    "ch2 = \"Il y fait un peu chaud !!\"\n",
    "ch + ch2"
   ]
  },
  {
   "cell_type": "markdown",
   "metadata": {},
   "source": [
    "On peut **répéter** une partie de la chaîne :"
   ]
  },
  {
   "cell_type": "code",
   "execution_count": null,
   "metadata": {},
   "outputs": [],
   "source": [
    "ch[0:4]*5"
   ]
  },
  {
   "cell_type": "markdown",
   "metadata": {},
   "source": [
    "$\\underline{Exercice}$ 12 :\n",
    "\n",
    "Ecrire un script qui recopie une chaîne (dans une nouvelle variable), en insérant des astérisques entre les caractères."
   ]
  },
  {
   "cell_type": "code",
   "execution_count": null,
   "metadata": {},
   "outputs": [],
   "source": [
    "#code"
   ]
  },
  {
   "cell_type": "markdown",
   "metadata": {},
   "source": [
    "$\\underline{Remarque :}$\n",
    "\n",
    "Les chaînes sont des séquences **non modifiables** de caractères. \n"
   ]
  },
  {
   "cell_type": "markdown",
   "metadata": {},
   "source": [
    "$\\underline{Exercice}$ 13 :\n",
    "\n",
    "Créer un jeu dans lequel un joueur entre un mot, l'ordinateur mélange les lettres, et affiche le mot mélangé.\n",
    "\n",
    "Un second joueur doit alors proposer le mot donné par le premier joueur.\n",
    "\n",
    "*Aide* : Pour mélanger les lettres on pourra commencer par mélanger deux d'entre elles au hasard, puis répéter l'opération plusieurs fois."
   ]
  },
  {
   "cell_type": "code",
   "execution_count": null,
   "metadata": {},
   "outputs": [],
   "source": [
    "#code        "
   ]
  },
  {
   "cell_type": "markdown",
   "metadata": {},
   "source": [
    "Une chaîne de caractères étant une *séquence*, on peut la parcourir avec le couple d'instructions **for ... in ...**"
   ]
  },
  {
   "cell_type": "code",
   "execution_count": null,
   "metadata": {},
   "outputs": [],
   "source": [
    "nom = \"Obelix\"\n",
    "for caractere in nom:  #on traite successivement tous les caractères de la chaîne\n",
    "    print(caractere)"
   ]
  },
  {
   "cell_type": "markdown",
   "metadata": {},
   "source": [
    "On peut de la même manière chercher si un caractère appartient à la chaîne."
   ]
  },
  {
   "cell_type": "code",
   "execution_count": null,
   "metadata": {},
   "outputs": [],
   "source": [
    "manger = \"sanglier\"\n",
    "lettre = \"o\"\n",
    "if lettre in manger: #on compare chaque caractère de la chaîne à la lettre proposée\n",
    "    print(\"Trouvé !\")\n",
    "else:\n",
    "    print(\"Inconnu !\")"
   ]
  },
  {
   "cell_type": "markdown",
   "metadata": {},
   "source": [
    "<a id=\"boo\"></a>\n",
    "\n",
    "## 7. Booléens"
   ]
  },
  {
   "cell_type": "markdown",
   "metadata": {},
   "source": [
    "Les comparaisons et tests d'égalité sont des expressions qui produisent un résultat **booléen** : vrai (True) ou faux (False).\n",
    "\n",
    "On peut **affecter un booléen** à une variable."
   ]
  },
  {
   "cell_type": "code",
   "execution_count": null,
   "metadata": {},
   "outputs": [],
   "source": [
    "continuer = True\n",
    "while continuer:              #la condition est vraie, on exécute le bloc de la boucle while\n",
    "    print(\"ok\")\n",
    "    poursuivre = input(\"Voulez-vous continuer ? o/n \")\n",
    "    if poursuivre.lower() == 'n':\n",
    "        continuer = False     #la condition est fausse, on sort de la boucle"
   ]
  },
  {
   "cell_type": "markdown",
   "metadata": {},
   "source": [
    "On associe aux booléens des opérateurs permettent de combiner plusieurs tests.\n",
    "\n",
    "c1 et c2 sont deux conditions :\n",
    "\n",
    "**not c1** (la négation) est réalisée lorsque la condition c1 n'est pas réalisée ;\n",
    "\n",
    "**c1 and c2** (la conjonction) est réalisée lorsque les conditions c1 et c2 sont toutes deux réalisées ;\n",
    "\n",
    "**c1 or c2** (la disjonction) est réalisée lorsqu'au moins l'une des conditions c1 ou c2 est réalisée ;\n",
    "\n",
    "**c1 xor c2** (la disjonction exclulsive) est réalisée lorsque l'une des deux conditions c1 ou c2 est réalisée, mais pas l'autre ; en langage Python, xor s'écrit à l'aide du symbole **^**."
   ]
  },
  {
   "cell_type": "code",
   "execution_count": null,
   "metadata": {},
   "outputs": [],
   "source": [
    "x = 5\n",
    "if (x >= 0) and (x <= 10):\n",
    "    print(\"Ce nombre appartient à l'intervalle [0 ; 10]\")\n",
    "else:\n",
    "    print(\"Ce nombre n'appartient pas à l'intervalle [0 ; 10]\")"
   ]
  },
  {
   "cell_type": "markdown",
   "metadata": {},
   "source": [
    "$\\underline{Remarque :}$\n",
    "\n",
    "Les parenthèses permettent de mieux visualiser les tests."
   ]
  },
  {
   "cell_type": "markdown",
   "metadata": {},
   "source": [
    "$\\underline{Exercice}$ 14 :\n",
    "\n",
    "Créer un jeu demandant un nombre entier compris entre 1 et 100 à un joueur et qui lui indique quels sont ses gains, suivant les règles suivantes :\n",
    "\n",
    "- si le nombre est pair et supérieur ou égal à 90, il perd 1 euros ;\n",
    "\n",
    "- si le nombre est impair ou compris strictement entre 25 et 90, il ne gagne rien ;\n",
    "\n",
    "- sinon, il gagne 2 euros.\n"
   ]
  },
  {
   "cell_type": "markdown",
   "metadata": {},
   "source": [
    "[Retour au sommaire](#som)"
   ]
  }
 ],
 "metadata": {
  "kernelspec": {
   "display_name": "Python 3",
   "language": "python",
   "name": "python3"
  },
  "language_info": {
   "codemirror_mode": {
    "name": "ipython",
    "version": 3
   },
   "file_extension": ".py",
   "mimetype": "text/x-python",
   "name": "python",
   "nbconvert_exporter": "python",
   "pygments_lexer": "ipython3",
   "version": "3.7.3"
  }
 },
 "nbformat": 4,
 "nbformat_minor": 2
}
