{
 "cells": [
  {
   "cell_type": "markdown",
   "metadata": {},
   "source": [
    "# <center> Listes, $p$-uplets et $p$-uplets nommés.</center>\n",
    "    "
   ]
  },
  {
   "cell_type": "markdown",
   "metadata": {},
   "source": [
    ">Nous avons déjà rencontrés différents types de base en Python : en citer 4 (au moins) !\n",
    "\n",
    ">On peut travailler avec des éléments plus élaborés, par exemples des séquences.\n",
    "\n",
    "> Une séquence est un ensemble fini et ordonné d'éléments. Nous aborderons deux types de séquences : $\\textbf{les listes}$ et $\\textbf{les tuples}$."
   ]
  },
  {
   "cell_type": "markdown",
   "metadata": {},
   "source": [
    "## <font color =red>I Les listes</font>"
   ]
  },
  {
   "cell_type": "code",
   "execution_count": 5,
   "metadata": {},
   "outputs": [],
   "source": [
    "L = []"
   ]
  },
  {
   "cell_type": "markdown",
   "metadata": {},
   "source": [
    "Nous venons de créer ici la liste L qui est vide"
   ]
  },
  {
   "cell_type": "code",
   "execution_count": 6,
   "metadata": {},
   "outputs": [
    {
     "name": "stdout",
     "output_type": "stream",
     "text": [
      "[0, 0, 0, 0, 0, 0, 0, 0, 0, 0]\n"
     ]
    }
   ],
   "source": [
    "L = [0]*10\n",
    "print(L)"
   ]
  },
  {
   "cell_type": "markdown",
   "metadata": {},
   "source": [
    "La liste L contient exactement dix fois le nombre 0."
   ]
  },
  {
   "cell_type": "code",
   "execution_count": 7,
   "metadata": {},
   "outputs": [
    {
     "name": "stdout",
     "output_type": "stream",
     "text": [
      "[0, 1, 2, 3, 4]\n"
     ]
    }
   ],
   "source": [
    "L = [i for i in range(5)]\n",
    "print(L)"
   ]
  },
  {
   "cell_type": "markdown",
   "metadata": {},
   "source": [
    "La liste L vient ici d'être construite $\\textbf{par compréhension}$."
   ]
  },
  {
   "cell_type": "markdown",
   "metadata": {},
   "source": [
    "Une liste est une séquence : elle est ordonnée. $\\textbf{Son premier indice a pour rang 0}$ !!"
   ]
  },
  {
   "cell_type": "markdown",
   "metadata": {},
   "source": [
    "On accède ainsi aux éléments de la liste par leur rang.\n",
    "Prenons par exemple la liste suivante L = [1,5,-2,3,'toto',2/3]."
   ]
  },
  {
   "cell_type": "code",
   "execution_count": 11,
   "metadata": {},
   "outputs": [],
   "source": [
    "L = [1,5,-2,3,'toto',2/3]"
   ]
  },
  {
   "cell_type": "markdown",
   "metadata": {},
   "source": [
    "Que renvoie les commandes :\n",
    "<ul>\n",
    "  <li>  L[2] ?\n",
    "  <li> L[:2] ?\n",
    "  <li> L[2:] ?\n",
    "  <li> L[2:4] ?\n",
    "  <li> type(L[4]) ? \n",
    "</ul>"
   ]
  },
  {
   "cell_type": "code",
   "execution_count": 12,
   "metadata": {},
   "outputs": [],
   "source": [
    "#tester cela ici et prendre des notes !"
   ]
  },
  {
   "cell_type": "markdown",
   "metadata": {},
   "source": [
    "$\\textbf{Les listes sont mutables :}$ on peut changer un élément de valeur !\n",
    "\n",
    "On peut par exemple écrire L[2] = -87, et l'élément de rang 2 de la liste L prend alors la valeur 87, la preuve :"
   ]
  },
  {
   "cell_type": "code",
   "execution_count": 13,
   "metadata": {},
   "outputs": [
    {
     "name": "stdout",
     "output_type": "stream",
     "text": [
      "[1, 5, -87, 3, 'toto', 0.6666666666666666]\n"
     ]
    }
   ],
   "source": [
    "L[2] = -87\n",
    "print(L)"
   ]
  },
  {
   "cell_type": "markdown",
   "metadata": {},
   "source": [
    "On peut $\\textbf{ajouter}$ un élément à une liste à l'aide de la méthode $\\texttt{append}$.\n",
    "\n",
    "Il vient de positionner au dernier rang de la liste.\n",
    "\n",
    "Un exemple :"
   ]
  },
  {
   "cell_type": "code",
   "execution_count": 14,
   "metadata": {},
   "outputs": [
    {
     "name": "stdout",
     "output_type": "stream",
     "text": [
      "[1, 5, -87, 3, 'toto', 0.6666666666666666, 14]\n"
     ]
    }
   ],
   "source": [
    "L.append(14)\n",
    "print(L)"
   ]
  },
  {
   "cell_type": "markdown",
   "metadata": {},
   "source": [
    "On peut $\\textbf{supprimer}$ un élément d'une liste à l'aide de la méthode $\\texttt{del}$."
   ]
  },
  {
   "cell_type": "code",
   "execution_count": 15,
   "metadata": {},
   "outputs": [
    {
     "name": "stdout",
     "output_type": "stream",
     "text": [
      "[1, 5, 3, 'toto', 0.6666666666666666, 14]\n"
     ]
    }
   ],
   "source": [
    "del(L[2])\n",
    "print(L)"
   ]
  },
  {
   "cell_type": "markdown",
   "metadata": {},
   "source": [
    "La méthode $\\texttt{remove}$ permet aussi d'enlever les éléments d'une liste.\n",
    "\n",
    "La commande L.remove(5) enlèverra $\\textbf{tous}$ les 5 de la liste L. Ici il n'y en a qu'un !"
   ]
  },
  {
   "cell_type": "code",
   "execution_count": 16,
   "metadata": {},
   "outputs": [
    {
     "name": "stdout",
     "output_type": "stream",
     "text": [
      "[1, 3, 'toto', 0.6666666666666666, 14]\n"
     ]
    }
   ],
   "source": [
    "L.remove(5)\n",
    "print(L)"
   ]
  },
  {
   "cell_type": "markdown",
   "metadata": {},
   "source": [
    "On peut connaître la longueur de la liste avec le méthode $\\texttt{len}$ :"
   ]
  },
  {
   "cell_type": "code",
   "execution_count": 17,
   "metadata": {},
   "outputs": [
    {
     "name": "stdout",
     "output_type": "stream",
     "text": [
      "5\n"
     ]
    }
   ],
   "source": [
    "print(len(L))"
   ]
  },
  {
   "cell_type": "markdown",
   "metadata": {},
   "source": [
    "<h3> Parcourir une liste"
   ]
  },
  {
   "cell_type": "markdown",
   "metadata": {},
   "source": [
    "On peut parcourir tous les éléments d'un liste :"
   ]
  },
  {
   "cell_type": "code",
   "execution_count": 18,
   "metadata": {},
   "outputs": [
    {
     "name": "stdout",
     "output_type": "stream",
     "text": [
      "1\n",
      "2\n",
      "3\n",
      "4\n",
      "5\n"
     ]
    }
   ],
   "source": [
    "L1 = [1,2,3,4,5]\n",
    "for valeur in L1:\n",
    "    print(valeur)"
   ]
  },
  {
   "cell_type": "code",
   "execution_count": null,
   "metadata": {},
   "outputs": [],
   "source": [
    "On peut aussi afficher autre chose à partir des éléments de la liste :"
   ]
  },
  {
   "cell_type": "code",
   "execution_count": 20,
   "metadata": {},
   "outputs": [
    {
     "name": "stdout",
     "output_type": "stream",
     "text": [
      "1\n",
      "4\n",
      "9\n",
      "16\n",
      "25\n"
     ]
    }
   ],
   "source": [
    "\n",
    "for valeur in L1 : \n",
    "    print(valeur**2)"
   ]
  },
  {
   "cell_type": "markdown",
   "metadata": {},
   "source": [
    "On peut aussi tester la présence d'un élément dans une liste :"
   ]
  },
  {
   "cell_type": "code",
   "execution_count": 21,
   "metadata": {},
   "outputs": [
    {
     "data": {
      "text/plain": [
       "\"j'y suis\""
      ]
     },
     "execution_count": 21,
     "metadata": {},
     "output_type": "execute_result"
    }
   ],
   "source": [
    "def teslaoupas(v):\n",
    "    if v in L1:\n",
    "        return \"j'y suis\"\n",
    "    else:\n",
    "        return \"pas là\"\n",
    "teslaoupas(5)"
   ]
  },
  {
   "cell_type": "code",
   "execution_count": 22,
   "metadata": {},
   "outputs": [
    {
     "data": {
      "text/plain": [
       "'pas là'"
      ]
     },
     "execution_count": 22,
     "metadata": {},
     "output_type": "execute_result"
    }
   ],
   "source": [
    "teslaoupas(-3)"
   ]
  },
  {
   "cell_type": "code",
   "execution_count": 23,
   "metadata": {},
   "outputs": [
    {
     "data": {
      "text/plain": [
       "False"
      ]
     },
     "execution_count": 23,
     "metadata": {},
     "output_type": "execute_result"
    }
   ],
   "source": [
    "#version plus courte, la fonction est booléenne.\n",
    "def teslaoupasbis(v):\n",
    "    return v in L1\n",
    "teslaoupasbis(8)"
   ]
  },
  {
   "cell_type": "markdown",
   "metadata": {},
   "source": [
    "<h3> Copie d'une liste (dans une autre)"
   ]
  },
  {
   "cell_type": "markdown",
   "metadata": {},
   "source": [
    "On considère toujours la liste L1."
   ]
  },
  {
   "cell_type": "code",
   "execution_count": 26,
   "metadata": {},
   "outputs": [
    {
     "name": "stdout",
     "output_type": "stream",
     "text": [
      "[1, 2, 3, 4, 5]\n"
     ]
    }
   ],
   "source": [
    " m = L1\n",
    "print(m)"
   ]
  },
  {
   "cell_type": "code",
   "execution_count": 28,
   "metadata": {},
   "outputs": [
    {
     "name": "stdout",
     "output_type": "stream",
     "text": [
      "[1, 2, 8, 4, 5]\n"
     ]
    }
   ],
   "source": [
    "L1[2] = 8\n",
    "print(m)"
   ]
  },
  {
   "cell_type": "markdown",
   "metadata": {},
   "source": [
    "La modification de la liste L1 entraine donc celle de m.\n",
    "\n",
    "Peut-on éviter cela ? Oui bien sûr !"
   ]
  },
  {
   "cell_type": "code",
   "execution_count": 30,
   "metadata": {},
   "outputs": [
    {
     "name": "stdout",
     "output_type": "stream",
     "text": [
      "[1, 2, 8, 4, 5]\n"
     ]
    }
   ],
   "source": [
    "n = L1[:] # on met ici L1[:] au lieu de L1\n",
    "print(n)"
   ]
  },
  {
   "cell_type": "code",
   "execution_count": 34,
   "metadata": {},
   "outputs": [
    {
     "name": "stdout",
     "output_type": "stream",
     "text": [
      "[1, 2, 8, 4, 5]\n",
      "[1, 2, 8, 4, 5, 2019, 2019, 2019, 2019]\n",
      "[1, 2, 8, 4, 5, 2019, 2019, 2019, 2019]\n"
     ]
    }
   ],
   "source": [
    "# Je modifie L1 et affiche n\n",
    "L1.append(2019)\n",
    "print(n)\n",
    "print(L1)\n",
    "print(m)"
   ]
  },
  {
   "cell_type": "markdown",
   "metadata": {},
   "source": [
    "$\\underline{Remarque }$: on aurait pu écrire n = list(L1) au lieu de n = L1[:]"
   ]
  },
  {
   "cell_type": "markdown",
   "metadata": {},
   "source": [
    "<h3> Création d'une liste en compréhension "
   ]
  },
  {
   "cell_type": "markdown",
   "metadata": {},
   "source": [
    ">la compréhension de liste est une expression qui permet de construire une liste\n",
    "à partir de tout autre objet itérable (liste, chaîne de caractère,...). Le résultat obtenu est toujours une liste !"
   ]
  },
  {
   "cell_type": "code",
   "execution_count": 35,
   "metadata": {},
   "outputs": [
    {
     "name": "stdout",
     "output_type": "stream",
     "text": [
      "['a', 'l', 'b', 'e', 'r', 't']\n"
     ]
    }
   ],
   "source": [
    "prenom = 'albert'\n",
    "L2 = [lettre for lettre in prenom]\n",
    "print(L2)"
   ]
  },
  {
   "cell_type": "code",
   "execution_count": 36,
   "metadata": {},
   "outputs": [
    {
     "name": "stdout",
     "output_type": "stream",
     "text": [
      "[0, 1, 4, 9, 16, 25, 36, 49, 64, 81, 100, 121, 144, 169, 196]\n"
     ]
    }
   ],
   "source": [
    "L3 = [p**2 for p in range(15)]\n",
    "print(L3)"
   ]
  },
  {
   "cell_type": "markdown",
   "metadata": {},
   "source": [
    "On peut même utiliser des instructions conditionnelles dans la création d'une liste par compréhension !"
   ]
  },
  {
   "cell_type": "code",
   "execution_count": 37,
   "metadata": {},
   "outputs": [
    {
     "name": "stdout",
     "output_type": "stream",
     "text": [
      "[0, 9, 36, 81, 144]\n"
     ]
    }
   ],
   "source": [
    "L4 = [p**2 for p in range(15) if p%3 == 0]\n",
    "print(L4)"
   ]
  },
  {
   "cell_type": "code",
   "execution_count": 39,
   "metadata": {},
   "outputs": [
    {
     "name": "stdout",
     "output_type": "stream",
     "text": [
      "[0, 1, 2, 3, 4, 5, 6, 7, 8, 9, 10, 11, 12, 13, 14, 15] [0, 3, 4, 9, 16, 15, 36, 21, 64, 27, 100, 33, 144, 39, 196, 45]\n"
     ]
    }
   ],
   "source": [
    "L5 = [i for i in range(16)]\n",
    "L6 = [n**2 if n%2 == 0 else n*3 for n in L5]\n",
    "print(L5,L6)"
   ]
  },
  {
   "cell_type": "markdown",
   "metadata": {},
   "source": [
    "### <font color = olive> Exercices<font>"
   ]
  },
  {
   "cell_type": "markdown",
   "metadata": {},
   "source": [
    "<ol>\n",
    "    <li> Soit L = [1,2,5,7,9], créer une liste à partir de L, qui contient les cubes des éléments de L.\n",
    "    <li> Soit L = [A,b,C,d]. Ecrire un programme qui remplace chaque lettre de la liste L par son code ASCII.\n",
    "        <li> Créer une liste qui contient les 100 premiers nombres entiers non multiples de 2,3 ou 5.\n",
    "            <li> Créer une liste par compréhension qui contient les cubes des entiers non multiples de 5 plus petits que 101. \n",
    "</ol>"
   ]
  },
  {
   "cell_type": "markdown",
   "metadata": {},
   "source": [
    "## <font color = red> II Les tuples<font>"
   ]
  },
  {
   "cell_type": "markdown",
   "metadata": {},
   "source": [
    ">Si les tuples ont des points communs avec les suites, ce sont des séquences (ensemble fini d'éléments ordonnés), ils diffèrent dans la mesure où se sont des objets $\\textbf{non mutables}$."
   ]
  },
  {
   "cell_type": "code",
   "execution_count": 42,
   "metadata": {},
   "outputs": [
    {
     "name": "stdout",
     "output_type": "stream",
     "text": [
      "<class 'tuple'>\n",
      "5\n",
      "2\n"
     ]
    }
   ],
   "source": [
    "t = (1,2,3,4,5)\n",
    "print(type(t))\n",
    "print(len(t))\n",
    "print(t[1])"
   ]
  },
  {
   "cell_type": "markdown",
   "metadata": {},
   "source": [
    "Illustration du fait qu'un tuple soit non mutable : "
   ]
  },
  {
   "cell_type": "code",
   "execution_count": 43,
   "metadata": {},
   "outputs": [
    {
     "ename": "TypeError",
     "evalue": "'tuple' object does not support item assignment",
     "output_type": "error",
     "traceback": [
      "\u001b[0;31m---------------------------------------------------------------------------\u001b[0m",
      "\u001b[0;31mTypeError\u001b[0m                                 Traceback (most recent call last)",
      "\u001b[0;32m<ipython-input-43-b64842b18d35>\u001b[0m in \u001b[0;36m<module>\u001b[0;34m\u001b[0m\n\u001b[0;32m----> 1\u001b[0;31m \u001b[0mt\u001b[0m\u001b[0;34m[\u001b[0m\u001b[0;36m1\u001b[0m\u001b[0;34m]\u001b[0m\u001b[0;34m=\u001b[0m\u001b[0;36m14\u001b[0m\u001b[0;34m\u001b[0m\u001b[0;34m\u001b[0m\u001b[0m\n\u001b[0m",
      "\u001b[0;31mTypeError\u001b[0m: 'tuple' object does not support item assignment"
     ]
    }
   ],
   "source": [
    "t[1]=14"
   ]
  },
  {
   "cell_type": "markdown",
   "metadata": {},
   "source": [
    "Les propriétés des tuples sont assez identiques à celles des listes. On peut cependant réaliser l'opération suivante (que je ne connaissais pas...)"
   ]
  },
  {
   "cell_type": "code",
   "execution_count": 44,
   "metadata": {},
   "outputs": [
    {
     "name": "stdout",
     "output_type": "stream",
     "text": [
      "(7, 2, 3, 4, 5)\n"
     ]
    }
   ],
   "source": [
    "t = (7,)+t[1:]\n",
    "print(t)"
   ]
  },
  {
   "cell_type": "markdown",
   "metadata": {},
   "source": [
    "Ne pas oublier la virgule dans (7,)..."
   ]
  },
  {
   "cell_type": "code",
   "execution_count": 45,
   "metadata": {},
   "outputs": [
    {
     "ename": "TypeError",
     "evalue": "unsupported operand type(s) for +: 'int' and 'tuple'",
     "output_type": "error",
     "traceback": [
      "\u001b[0;31m---------------------------------------------------------------------------\u001b[0m",
      "\u001b[0;31mTypeError\u001b[0m                                 Traceback (most recent call last)",
      "\u001b[0;32m<ipython-input-45-76cdbf53e88f>\u001b[0m in \u001b[0;36m<module>\u001b[0;34m\u001b[0m\n\u001b[0;32m----> 1\u001b[0;31m \u001b[0mt\u001b[0m \u001b[0;34m=\u001b[0m \u001b[0;34m(\u001b[0m\u001b[0;36m7\u001b[0m\u001b[0;34m)\u001b[0m\u001b[0;34m+\u001b[0m\u001b[0mt\u001b[0m\u001b[0;34m[\u001b[0m\u001b[0;36m1\u001b[0m\u001b[0;34m:\u001b[0m\u001b[0;34m]\u001b[0m\u001b[0;34m\u001b[0m\u001b[0;34m\u001b[0m\u001b[0m\n\u001b[0m",
      "\u001b[0;31mTypeError\u001b[0m: unsupported operand type(s) for +: 'int' and 'tuple'"
     ]
    }
   ],
   "source": [
    "t = (7)+t[1:]"
   ]
  },
  {
   "cell_type": "markdown",
   "metadata": {},
   "source": [
    "$\\textit{Remarque, on peut avoir une présentation plus soignée :}$"
   ]
  },
  {
   "cell_type": "markdown",
   "metadata": {},
   "source": [
    "## <font color = red> III Les tableaux à deux dimensions <font>"
   ]
  },
  {
   "cell_type": "markdown",
   "metadata": {},
   "source": [
    ">Après avoir jouer avec des tableaux à une dimension, nous allons maintenant nous pencher (mais pas trop quand même) sur les tableaux à deux dimensions !\n",
    "\n",
    "> On va définir ces tableaux à l'aide d'une liste de listes !\n"
   ]
  },
  {
   "cell_type": "markdown",
   "metadata": {},
   "source": [
    "<h3> Création des tableaux\n"
   ]
  },
  {
   "cell_type": "markdown",
   "metadata": {},
   "source": [
    "Supposons que nous voulions créer un tableau de 5 lignes et 5 colonnes contenant de 0 !\n",
    "\n",
    "On peut très bien faire :\n",
    "tab = [[0,0,0,0,0],[0,0,0,0,0],....] bref c'est pénible surtout si l'on veut plus grand. Alors on peut écrire :\n"
   ]
  },
  {
   "cell_type": "code",
   "execution_count": 46,
   "metadata": {},
   "outputs": [
    {
     "name": "stdout",
     "output_type": "stream",
     "text": [
      "[[0, 0, 0, 0, 0], [0, 0, 0, 0, 0], [0, 0, 0, 0, 0], [0, 0, 0, 0, 0], [0, 0, 0, 0, 0]]\n"
     ]
    }
   ],
   "source": [
    "tab = [[0]*5]*5\n",
    "print(tab)"
   ]
  },
  {
   "cell_type": "markdown",
   "metadata": {},
   "source": [
    "En détail : [0]*5 crée [0,0,0,0,0] et on répète 5 fois l'opération qui est enfin stockée dans la liste tab !"
   ]
  },
  {
   "cell_type": "markdown",
   "metadata": {},
   "source": [
    "### <font color = olive> Exercices<font>"
   ]
  },
  {
   "cell_type": "markdown",
   "metadata": {},
   "source": [
    "Créer un tableau dont le première ligne contient les entiers de 0 à 9, la seconde ligne ligne les entiers de 10 à 19, ..., la dernière ligne (dixième donc) les entiers de 90 à 99 :\n",
    "<ol>\n",
    "   <li> le faire à l'aide de boucle for\n",
    "   <li> en utilisant des listes par compréhension\n",
    "</ol>"
   ]
  },
  {
   "cell_type": "markdown",
   "metadata": {},
   "source": [
    "<h3> Recherche d'un élément dns un tableau !"
   ]
  },
  {
   "cell_type": "markdown",
   "metadata": {},
   "source": [
    "On considère le tableau suivant : "
   ]
  },
  {
   "cell_type": "code",
   "execution_count": 48,
   "metadata": {},
   "outputs": [
    {
     "name": "stdout",
     "output_type": "stream",
     "text": [
      "[[0, 1, 2, 3, 4], [5, 6, 7, 8, 9], [10, 11, 12, 13]]\n"
     ]
    }
   ],
   "source": [
    "tab = [[0,1,2,3,4],[5,6,7,8,9],[10,11,12,13]]\n",
    "print(tab)"
   ]
  },
  {
   "cell_type": "markdown",
   "metadata": {},
   "source": [
    "Que valents les éléments tab[2][1] et tab[1][2] du tableau ?"
   ]
  },
  {
   "cell_type": "code",
   "execution_count": 50,
   "metadata": {},
   "outputs": [],
   "source": [
    "#tab[2][1]\n",
    "#tab[1][2]"
   ]
  },
  {
   "cell_type": "markdown",
   "metadata": {},
   "source": [
    ">L'élément tab[i][j] correspond au j-ième élément de la i-ième liste (On compte à partir de 0 !!!!)-"
   ]
  },
  {
   "cell_type": "markdown",
   "metadata": {},
   "source": [
    "<h3> Trier un tableau (ou une liste)"
   ]
  },
  {
   "cell_type": "markdown",
   "metadata": {},
   "source": [
    ">Avant de travailler sur certains algorithmes de tri, la méthode $\\texttt{sort}$ permet de trier\n",
    "de manière efficace en Python ! "
   ]
  },
  {
   "cell_type": "code",
   "execution_count": 52,
   "metadata": {},
   "outputs": [
    {
     "name": "stdout",
     "output_type": "stream",
     "text": [
      "[-3, 0, 2, 4, 8, 9]\n"
     ]
    }
   ],
   "source": [
    "Liste = [-3,4,0,8,9,2]\n",
    "Liste.sort()\n",
    "print(Liste)\n"
   ]
  },
  {
   "cell_type": "code",
   "execution_count": 55,
   "metadata": {},
   "outputs": [
    {
     "name": "stdout",
     "output_type": "stream",
     "text": [
      "['abc', 'acb', 'bac', 'bca', 'cab', 'cba']\n"
     ]
    }
   ],
   "source": [
    "Listebis =['bac','cab','acb','abc','cba','bca']\n",
    "Listebis.sort()\n",
    "print(Listebis)"
   ]
  },
  {
   "cell_type": "code",
   "execution_count": 56,
   "metadata": {},
   "outputs": [
    {
     "name": "stdout",
     "output_type": "stream",
     "text": [
      "['cba', 'cab', 'bca', 'bac', 'acb', 'abc']\n"
     ]
    }
   ],
   "source": [
    "Listebis.sort(reverse=True) # dans l'ordre décroissant !\n",
    "print(Listebis)"
   ]
  },
  {
   "cell_type": "markdown",
   "metadata": {},
   "source": [
    ">Pour trier un tableau ayant plusieurs types de données, on doit alors choisir un critère de classement !"
   ]
  },
  {
   "cell_type": "code",
   "execution_count": 58,
   "metadata": {},
   "outputs": [
    {
     "name": "stdout",
     "output_type": "stream",
     "text": [
      "[['Kevin', 9], ['benjamin', 12], ['Sarah', 15], ['Anna', 17]]\n"
     ]
    }
   ],
   "source": [
    "T = [['Anna',17],['benjamin',12],['Sarah',15],['Kevin',9]]\n",
    "tri = sorted(T, key = lambda note : note[1])\n",
    "print(tri)"
   ]
  },
  {
   "cell_type": "markdown",
   "metadata": {},
   "source": [
    "Expliquons : on peut classer par ordre alphabétique, ou par notes croissantesn voir décroissantes !"
   ]
  },
  {
   "cell_type": "markdown",
   "metadata": {},
   "source": [
    "On trie donc suivant l'élément 0 (le nom) ou l'élément 1 la note."
   ]
  },
  {
   "cell_type": "markdown",
   "metadata": {},
   "source": [
    "On utilise la méthode $\\texttt{sorted}$. La liste triée s'appelle tri"
   ]
  },
  {
   "cell_type": "markdown",
   "metadata": {},
   "source": [
    "### <font color = olive> Exercices<font>"
   ]
  },
  {
   "cell_type": "markdown",
   "metadata": {},
   "source": [
    "<ol>\n",
    "   <li>Afficher le tableau T classé par ordre alphabétique inversé.\n",
    "   <li>\n",
    "       \n",
    "       a) créer une liste de cinq listes contenant chacune trois éléments :        \n",
    "       un mot en français, sa traduction en deux autres langues.\n",
    "       \n",
    "       b) Afficher le tableau avec un classement par ordre alphabétique en français, puis dans une autre langue.\n",
    "       \n",
    "       c) Afficher le tableau tel que le premier élément de chaque liste soit un mot étranger.\n",
    " </ol>"
   ]
  },
  {
   "cell_type": "code",
   "execution_count": null,
   "metadata": {},
   "outputs": [],
   "source": []
  }
 ],
 "metadata": {
  "kernelspec": {
   "display_name": "Python 3",
   "language": "python",
   "name": "python3"
  },
  "language_info": {
   "codemirror_mode": {
    "name": "ipython",
    "version": 3
   },
   "file_extension": ".py",
   "mimetype": "text/x-python",
   "name": "python",
   "nbconvert_exporter": "python",
   "pygments_lexer": "ipython3",
   "version": "3.7.3"
  }
 },
 "nbformat": 4,
 "nbformat_minor": 2
}
