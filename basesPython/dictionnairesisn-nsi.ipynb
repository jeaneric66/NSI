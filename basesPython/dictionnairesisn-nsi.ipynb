{
 "cells": [
  {
   "cell_type": "markdown",
   "metadata": {},
   "source": [
    "# <center> Les dictionnaires.</center>\n",
    "    "
   ]
  },
  {
   "cell_type": "markdown",
   "metadata": {},
   "source": [
    ">Le dictionnaire est un type de données qui se rapproche des listes, mais, contrairement aux listes, qui n'ont pas de structure ordonnée.\n",
    "\n",
    ">Un dictionnaire est composé de clés auxquelles sont associées une valeur. Aussi bien les clés que les valeurs peuvent être de tout type !\n"
   ]
  },
  {
   "cell_type": "markdown",
   "metadata": {},
   "source": [
    "## <font color =red>I Création d'un dictionnaire</font>"
   ]
  },
  {
   "cell_type": "markdown",
   "metadata": {},
   "source": [
    "Le dictionnaire se crée à l'aide d'une accolade (quand les listes sont créées avec des crochets et les tuples avecs des parenthèses)."
   ]
  },
  {
   "cell_type": "code",
   "execution_count": null,
   "metadata": {},
   "outputs": [],
   "source": [
    "dico={}\n",
    "type(dico)"
   ]
  },
  {
   "cell_type": "markdown",
   "metadata": {},
   "source": [
    "Pour créer une clé, on la nomme entre guillements, le tout entre crochet. On lui affecte sa valeur à l'aide du signe =."
   ]
  },
  {
   "cell_type": "code",
   "execution_count": null,
   "metadata": {},
   "outputs": [],
   "source": [
    "dico = {}\n",
    "dico [\"Nom \"]= \"Chan\"\n",
    "dico [\"Prénom \"]= \"Jacky\"\n",
    "dico"
   ]
  },
  {
   "cell_type": "markdown",
   "metadata": {},
   "source": [
    "On peut aussi le créer directement :"
   ]
  },
  {
   "cell_type": "code",
   "execution_count": null,
   "metadata": {},
   "outputs": [],
   "source": [
    "dico1={ \"Nom\": \"Chan\", \"Prénom\":\"Jacky\"}\n",
    "dico1"
   ]
  },
  {
   "cell_type": "markdown",
   "metadata": {},
   "source": [
    "La syntaxe n'est pas tout à fait la même, la clé n'étant plus entre crochet et l'affectation se faisant avec :."
   ]
  },
  {
   "cell_type": "markdown",
   "metadata": {},
   "source": [
    "## <font color = red> II Opérations sur les dictionnaires<font>"
   ]
  },
  {
   "cell_type": "markdown",
   "metadata": {},
   "source": [
    "### <font color = olive> 1. Parcourir un dictionnaire<font>"
   ]
  },
  {
   "cell_type": "code",
   "execution_count": null,
   "metadata": {},
   "outputs": [],
   "source": [
    "for cle in dico1.keys():\n",
    "    print(cle)"
   ]
  },
  {
   "cell_type": "markdown",
   "metadata": {},
   "source": [
    "Ou bien :"
   ]
  },
  {
   "cell_type": "code",
   "execution_count": null,
   "metadata": {},
   "outputs": [],
   "source": [
    "for cle in dico1: # même résultat\n",
    "    print(cle)"
   ]
  },
  {
   "cell_type": "markdown",
   "metadata": {},
   "source": [
    "Pour parcourir la liste des valeurs, on utilise la méthode $\\texttt{values}$ :"
   ]
  },
  {
   "cell_type": "code",
   "execution_count": null,
   "metadata": {},
   "outputs": [],
   "source": [
    "for valeurs in dico1.values():\n",
    "    print(valeurs)"
   ]
  },
  {
   "cell_type": "markdown",
   "metadata": {},
   "source": [
    "Pour avoir les clés et les valeurs on utilise la méthode $\\texttt{items}$ :"
   ]
  },
  {
   "cell_type": "code",
   "execution_count": null,
   "metadata": {},
   "outputs": [],
   "source": [
    "for cle, valeur in dico1.items():\n",
    "    print(cle, valeur)"
   ]
  },
  {
   "cell_type": "markdown",
   "metadata": {},
   "source": [
    "$\\textit{Remarque, on peut avoir une présentation plus soignée :}$"
   ]
  },
  {
   "cell_type": "code",
   "execution_count": null,
   "metadata": {},
   "outputs": [],
   "source": [
    "for cle, valeur in dico1.items():# A l'aide d'un fprint ou de la méthode format\n",
    "    print(f'le {cle} est {valeur}')\n",
    "for cle, valeur in dico1.items():\n",
    "    print('le {} est {}'.format(cle, valeur))"
   ]
  },
  {
   "cell_type": "markdown",
   "metadata": {},
   "source": [
    "Pour avoir la valeur d'une clé, on utilise la méthode $\\texttt{get}$ :\n"
   ]
  },
  {
   "cell_type": "code",
   "execution_count": null,
   "metadata": {},
   "outputs": [],
   "source": [
    "print(dico1.get(\"Nom\"))\n"
   ]
  },
  {
   "cell_type": "markdown",
   "metadata": {},
   "source": [
    "$\\textbf{Attention !}$ On peut utiliser la méthode $\\texttt{get}$ avec deux paramètres : le nom de la clé et 0 au cas où\n",
    "    la clé n'aurait pas de valeurs."
   ]
  },
  {
   "cell_type": "markdown",
   "metadata": {},
   "source": [
    "### <font color = olive> 2. Supprimer, ajouter un élément.<font>"
   ]
  },
  {
   "cell_type": "markdown",
   "metadata": {},
   "source": [
    "Pour ajouter un élément, il suffit de créer une nouvelle clé."
   ]
  },
  {
   "cell_type": "code",
   "execution_count": null,
   "metadata": {},
   "outputs": [],
   "source": [
    "dico1[\"Age\"] = 24\n",
    "dico1"
   ]
  },
  {
   "cell_type": "markdown",
   "metadata": {},
   "source": [
    "Pour modifier la valeur d'une clé, on procède comme pour une variable :"
   ]
  },
  {
   "cell_type": "code",
   "execution_count": null,
   "metadata": {},
   "outputs": [],
   "source": [
    "dico1[\"Nom \"]=\"Kennedy\"\n",
    "dico1"
   ]
  },
  {
   "cell_type": "markdown",
   "metadata": {},
   "source": [
    "Pour supprimer une clé, on utilise la méthode $\\texttt{del}$ (ou la méthode $\\texttt{pop}$ si on veut conserver la valeur associée à la clé supprimée en mémoire) :"
   ]
  },
  {
   "cell_type": "code",
   "execution_count": null,
   "metadata": {},
   "outputs": [],
   "source": [
    "del(dico1[\"Age\"])\n",
    "dico1.pop(\"Prénom\")\n",
    "dico1"
   ]
  },
  {
   "cell_type": "markdown",
   "metadata": {},
   "source": [
    "Enfin, pour copier un dictionnaire de façon indépendante, on utilise la méthode $\\texttt{copy}$, sinon la modification d'un dictionnaire modifiera l'autre. Cette remarque fonction aussi pour les listes."
   ]
  },
  {
   "cell_type": "code",
   "execution_count": null,
   "metadata": {},
   "outputs": [],
   "source": [
    "dico1={ \"Nom\": \"Chan\", \"Prénom\":\"Jacky\"}\n",
    "dico2=dico1\n",
    "dico3=dico1.copy()\n",
    "dico1[\"Nom\"]=\"Kennedy\"\n",
    "print(dico1,dico2,dico3)\n"
   ]
  },
  {
   "cell_type": "markdown",
   "metadata": {},
   "source": [
    "#### Exercice"
   ]
  },
  {
   "cell_type": "markdown",
   "metadata": {},
   "source": [
    ">A partir d'une phrase entrée par l'utilisateur, créer un dictionnaire qui ait les lettres en clés et leur occurence en valeurs.\n",
    "Transformer ce dictionnaire en liste (ou tuple) et afficher le résultat par ordre alphabétique.\n",
    "\n",
    ">$\\textbf{Prolongation}$ : afficher ce résultat sous forme d'histogramme avec le module matplotlib"
   ]
  },
  {
   "cell_type": "code",
   "execution_count": null,
   "metadata": {},
   "outputs": [],
   "source": [
    "\"\"\"\n",
    "Created on Sun Apr 14 16:46:40 2019\n",
    "\n",
    "@author: jeanericrichard\n",
    "\"\"\"\n",
    "\n",
    "\n",
    "\n",
    "import matplotlib.pyplot as plt\n",
    "import numpy as np\n",
    "\n",
    "phrase = str(input('Phrase svp :'))\n",
    "dico={}\n",
    "for lettre in phrase:\n",
    "    dico[str(lettre)]=phrase.count(lettre)\n",
    "print(dico)\n",
    "\n",
    "L=[]\n",
    "for lettre in dico.keys():\n",
    "    L.append(lettre)\n",
    "    L.sort()\n",
    "print(L)\n",
    "nbrL=[]\n",
    "for lettre in L:\n",
    "    nbrL.append(dico[lettre])\n",
    "print(nbrL)\n",
    "\n",
    "x = np.arange(len(L))\n",
    "plt.bar(x, height= nbrL)\n",
    "plt.xticks(x, L)"
   ]
  },
  {
   "cell_type": "code",
   "execution_count": null,
   "metadata": {},
   "outputs": [],
   "source": []
  }
 ],
 "metadata": {
  "kernelspec": {
   "display_name": "Python 3",
   "language": "python",
   "name": "python3"
  },
  "language_info": {
   "codemirror_mode": {
    "name": "ipython",
    "version": 3
   },
   "file_extension": ".py",
   "mimetype": "text/x-python",
   "name": "python",
   "nbconvert_exporter": "python",
   "pygments_lexer": "ipython3",
   "version": "3.7.3"
  }
 },
 "nbformat": 4,
 "nbformat_minor": 2
}
