{
 "cells": [
  {
   "cell_type": "markdown",
   "metadata": {
    "deletable": false,
    "editable": false
   },
   "source": [
    "# Utilisation de fichiers textes avec Python"
   ]
  },
  {
   "cell_type": "markdown",
   "metadata": {
    "deletable": false,
    "editable": false
   },
   "source": [
    "Pour pourvoir accéder un fichier texte en python, il suffit d'indiquer son chemin d'accès dans un script python avec la fonction **open**. On refermera ce fichier avec la fonction **close**."
   ]
  },
  {
   "cell_type": "code",
   "execution_count": null,
   "metadata": {
    "deletable": false,
    "editable": false
   },
   "outputs": [],
   "source": [
    "\n",
    "fichier = open('exemple.txt','r') # ouverture du fichier qui est dans le même répertoire que mon script.\n",
    "contenu = fichier.read()# la fonction open attend deux arguments : le nomn du cfichier à ouvrir (ici exemple.txt), \n",
    "print(contenu) # et le mode d'ouverture 'r' signifie lecture ici. \n",
    "fichier.close()"
   ]
  },
  {
   "cell_type": "markdown",
   "metadata": {
    "deletable": false,
    "editable": false
   },
   "source": [
    "** Les 3 modes  principaux ** :\n",
    "\n",
    "-**mode 'r'** : on est en lecture. Sur notre exemple, on affecte à la variable (contenu) l'intégralité du fichier, à l'aide de la méthode **read**. L'impression de cette variable donne l'intégralité du fichier.\n",
    "\n",
    "-**mode 'w'** : le mode écriture, avec **écrasement** des données préalables.\n",
    "\n",
    "_**mode 'a'** : le mode ajout, le texte entré est alors ajouté."
   ]
  },
  {
   "cell_type": "code",
   "execution_count": null,
   "metadata": {
    "deletable": false,
    "editable": false
   },
   "outputs": [],
   "source": [
    "# Exemple pour le mode 'w'\n",
    "\n",
    "fichier =  open('exemple.txt','w') #exemple pour le mode 'w'\n",
    "contenu = fichier.write(\"C'était vraiment un texte très basique !\") # Change le contenu du fichier\n",
    "fichier = open('exemple.txt','r') #On recharge en lecture le ficher\n",
    "contenu= fichier.read() #Lecture\n",
    "print(contenu) #visualisation"
   ]
  },
  {
   "cell_type": "code",
   "execution_count": null,
   "metadata": {
    "deletable": false,
    "editable": false
   },
   "outputs": [],
   "source": [
    "#exemple pour le mode 'a'\n",
    "fichier =  open('exemple.txt','a') #exemple pour le mode 'a'\n",
    "contenu = fichier.write(\" Donc là, on ne va pas effacer la phrase précédente ?\") # Change le contenu du fichier\n",
    "fichier.close()\n",
    "fichier = open('exemple.txt','r') #On recharge en lecture le ficher\n",
    "contenu= fichier.read() #Lecture\n",
    "print(contenu)\n"
   ]
  },
  {
   "cell_type": "markdown",
   "metadata": {
    "deletable": false,
    "editable": false
   },
   "source": [
    "Au-delà de la mise en forme du texte, on voit bien le résultat. Pour aller à la ligne on utilise le marqueur **\\n**"
   ]
  },
  {
   "cell_type": "code",
   "execution_count": null,
   "metadata": {
    "deletable": false,
    "editable": false
   },
   "outputs": [],
   "source": [
    "fichier =  open('exemple.txt','a')\n",
    "contenu = fichier.write(\"\\n Donc là, on ne va pas effacer la phrase précédente ?\") # Change le contenu du fichier\n",
    "fichier.close()\n",
    "fichier = open('exemple.txt','r') #On recharge en lecture le ficher\n",
    "contenu= fichier.read() #Lecture\n",
    "print(contenu)\n",
    "\n"
   ]
  },
  {
   "cell_type": "markdown",
   "metadata": {
    "deletable": false,
    "editable": false
   },
   "source": [
    "On peut aussi utiliser la méthode **readlines** pour lire les lignes indépendamment les unes des autres, la méthode **readlines**\n",
    "transférant toutes les autres lignes dans une liste des chaînes."
   ]
  },
  {
   "cell_type": "code",
   "execution_count": null,
   "metadata": {
    "deletable": false,
    "editable": false
   },
   "outputs": [],
   "source": [
    "fichier =  open('exemple.txt','r') \n",
    "contenu = fichier.readlines()\n",
    "print(contenu)"
   ]
  },
  {
   "cell_type": "markdown",
   "metadata": {
    "deletable": false,
    "editable": false
   },
   "source": [
    "Comment entrer des valeurs numériques en écriture ?\n",
    "\n",
    "Tout ce que vous rentrez en écriture est du type chaîne de caractères, soit <<str>> en python.\n",
    "    \n",
    "Si l'on veut rentrer des valeurs numériques, il faut d'abord les convertir en chaîne de caractères."
   ]
  },
  {
   "cell_type": "code",
   "execution_count": null,
   "metadata": {},
   "outputs": [],
   "source": [
    "fichier =  open('exemple.txt','a') \n",
    "contenu = fichier.write(str(8))\n",
    "fichier.close()\n",
    "fichier = open('exemple.txt','r')\n",
    "contenu=fichier.read()\n",
    "print(contenu)"
   ]
  },
  {
   "cell_type": "markdown",
   "metadata": {
    "deletable": false,
    "editable": false
   },
   "source": [
    "Il existe aussi un module du nom de **pickle** qui permet de gérer différents types de données dans un fichier."
   ]
  },
  {
   "cell_type": "code",
   "execution_count": null,
   "metadata": {
    "deletable": false,
    "editable": false
   },
   "outputs": [],
   "source": [
    "import pickle\n",
    "a,b,c,d=1.2,5,'complexe',[1,2,'réel']\n",
    "contenu = open('données_test','wb')\n",
    "pickle.dump(a,contenu)\n",
    "pickle.dump(b,contenu)\n",
    "pickle.dump(c,contenu)\n",
    "pickle.dump(d,contenu)\n",
    "contenu.close()\n",
    "contenu = open('données_test','rb')\n",
    "e=pickle.load(contenu)\n",
    "f=pickle.load(contenu)\n",
    "g=pickle.load(contenu)\n",
    "h=pickle.load(contenu)\n",
    "print(e,type(e))\n",
    "print(f,type(f))\n",
    "print(g,type(g))\n",
    "print(h,type(h))"
   ]
  },
  {
   "cell_type": "markdown",
   "metadata": {
    "deletable": false,
    "editable": false
   },
   "source": [
    "Ici, on utilise **'wb'** et **'rb'** comme méthode, signifiant que l'on écrit en binaire et non en format texte (d'ailleurs notre fichier n'a pas d'extension).\n",
    "\n",
    "La fonction **dump** du module **pickle** attend deux arguments : la variable et l'objet fichier où l'on travaille. \n",
    "\n",
    "La fonction **load** du module **pickle** restitue chaque variable avec son type.\n",
    "\n",
    "Pas belle la vie ???"
   ]
  }
 ],
 "metadata": {
  "kernelspec": {
   "display_name": "Python 3",
   "language": "python",
   "name": "python3"
  },
  "language_info": {
   "codemirror_mode": {
    "name": "ipython",
    "version": 3
   },
   "file_extension": ".py",
   "mimetype": "text/x-python",
   "name": "python",
   "nbconvert_exporter": "python",
   "pygments_lexer": "ipython3",
   "version": "3.7.3"
  }
 },
 "nbformat": 4,
 "nbformat_minor": 2
}
