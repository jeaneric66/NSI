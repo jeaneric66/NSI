{
 "cells": [
  {
   "cell_type": "markdown",
   "metadata": {},
   "source": [
    "# Utilisation de fichiers textes avec Python (suite)"
   ]
  },
  {
   "cell_type": "markdown",
   "metadata": {},
   "source": [
    "\n",
    "<a id = \"sommaire\"></a>\n",
    "Nous objectif est de préparer un ensemble de fiches personnalisées à partir d'un fichier _modele.txt_ et d'un ensemble d'informations sur un groupe d'élèves. Au final, un fichier spécifique sera créé pour chaque élève. Ce fichier sera nommé en fonction de l'élève, respectera le cadre du modele fourni et intégrera les informations spécifiques chaque l'élève considéré.<br>\n",
    "\n",
    "[Etape 1](#etape1)\n",
    "Nous apprendrons à lire le contenu d'un fichier texte (extension .txt) et à créer un nouveau fichier texte  dans lequel nous placerons le contenu du premier fichier.\n",
    "En d'autres termes nous ferons une copie du fichier modèle sans passer par l'explorateur de fichier.<br>\n",
    "\n",
    "[Etape 2](#etape2)\n",
    "Nous verrons comment remplacer une portion de texte par une autre dans une chaine de caractères. <br>\n",
    "\n",
    "[Etape 3](#etape3)\n",
    "Nous créerons un fichier texte en donnant un nom explicite au fichier créé ; un nom prenant en compte les informations sur un élève.<br>\n",
    "Nous remplirons  ce fichier en tenant compte du fichier modèle et des informations sur l'élève. <br>\n",
    "\n",
    "[Etape 4](#etape4)\n",
    "Nous intégrerons l'ensemble de nos informations sur les élèves dans un tableau.\n",
    "Puis nous bouclerons sur ce tableau pour lire élève par élève les données à intégrer. Pour chaque élève : <ul>\n",
    "    <li> nous ouvrirons le fichier modèle pour lire le contenu standard avant de le refermer proprement ; </li>\n",
    "    <li> nous opérerons les remplacements attendus sur ce contenu ; </li>\n",
    "    <li> nous créerons un fichier associé à cet élève que nous remplierons avec le contenu modifié ;</li>\n",
    "    <li> finalement nous refermerons proprement ce fichier. </li> </ul>\n",
    " \n",
    "[Etape 5](#etape5) \n",
    "Pour éviter d'avoir à modifier le programme pour ajouter un élève ou modifier les informations relatives à un élève, les données sur les élèves seront elles aussi contenues dans un fichier texte. Il faudra les lire pour remplir le tableau que nous avons utiliser jusqu'ici.\n",
    " \n",
    "[Etape 6](#etape6)  \n",
    "A titre d'exercice, je vous propose de faciliter l'utilisation de notre programme : les mots à remplacer seront aussi contenus dans le fichier texte.<br>\n",
    "[Exo1](#exo1) <br>\n",
    "[Exo2](#exo2)<br>\n",
    "<br>\n",
    "[correction Exo1](#corr_exo2)<br>\n",
    "[correction Exo2](#corr_exo2)<br>\n",
    "<br>\n",
    "[Pour conclure et ouvrir vers d'autres possibilités](#conclusion)  \n",
    " "
   ]
  },
  {
   "cell_type": "markdown",
   "metadata": {},
   "source": [
    "[sommaire](#sommaire)\n",
    "<a id = \"etape1\"></a>\n",
    "##  1. Création d'une copie de notre fichier modele.txt .\n",
    "\n",
    "Nous apprendrons à lire le contenu d'un fichier texte (extension .txt) ; à créer un nouveau fichier texte  dans lequel nous placerons le contenu du premier fichier."
   ]
  },
  {
   "cell_type": "code",
   "execution_count": 1,
   "metadata": {},
   "outputs": [
    {
     "name": "stdout",
     "output_type": "stream",
     "text": [
      "Fiche récapitulative du travail de ==nom==   date de naissance : ==ddn==  classe: ==classe==\n",
      "séance 1:\n",
      "séance 2 :\n",
      "séance 3 :\n",
      "Appréciation générale :\n",
      "\n",
      "\n",
      "Fiche récapitulative du travail de ==nom==   date de naissance : ==ddn==  classe: ==classe==\n",
      "séance 1:\n",
      "séance 2 :\n",
      "séance 3 :\n",
      "Appréciation générale :\n",
      "\n",
      "\n"
     ]
    }
   ],
   "source": [
    "fichier = open('modele.txt','r') # ouverture en lecture du fichier qui est dans le même répertoire que mon script.\n",
    "contenu = fichier.read() # l'intégralité de ce fichier texte est placé dans la variable contenu \n",
    "print(contenu) # affichage du contenu de ce fichier\n",
    "fichier.close()\n",
    "\n",
    "fichier = open('modele_copie.txt','w') # ouverture/création du fichier modele_copie.txt en écriture\n",
    "fichier.write(contenu)# on place la valeur de contenu dans ce nouveau fichier \n",
    "fichier.close()\n",
    "\n",
    "fichier = open('modele_copie.txt','r') # ouverture du fichier modele_copie.txt en lecture\n",
    "contenu = fichier.read() \n",
    "print(contenu) # on affiche le contenu de modele_copie.txt\n",
    "fichier.close()"
   ]
  },
  {
   "cell_type": "markdown",
   "metadata": {},
   "source": [
    "==> Sans surprise, sous le nom *modele_copie.txt* nous avons créé une copie de _modele.txt_."
   ]
  },
  {
   "cell_type": "markdown",
   "metadata": {},
   "source": [
    "[sommaire](#sommaire)\n",
    "<a id = \"etape2\"></a>\n",
    "## 2. Remplacer une portion de texte par une autre dans une chaine de caractères.\n",
    "\n",
    "Voyons maintenant comment utiliser des informations associées à un élève pour créer un fichier au nom explicite et adapter le contenu de ce fichier aux données que nous possédons sur cet l'élève.<br>\n",
    "Nous utiliserons la méthode _replace()_ qui s'applique à la variable de type string dont on souhaite modifier la valeur.\n",
    "Cette méthode prends trois paramètres : <br>\n",
    "replace(chaine_que_l_on_souhaite_remplacer, <br>\n",
    "        valeur_par_laquelle_la_remplacer, <br>\n",
    "        nombre_max_de remplacement_dans_l'ensemble_du_texte) <br>\n",
    "La valeur retournée par _replace()_ est la chaine de caractères modifiée (type <string\\>).\n",
    "\n",
    "Attention : <ul> <li>la méthode *replace()* ne modifie pas la chaine de caractères sur laquelle elle s'applique ; elle renvoie une chaine de caractères modifiée. Pour modifier une chaine de caractères, il est nécessaire de la passer en paramètre ET de placer à l'intérieur ce que retourne la méthode *replace()*  (voir exemples).</li>\n",
    "<li> *replace()* est sensible à la casse (majuscule, minuscules).</li></ul>\n",
    "\n",
    "Exemples ci-dessous :"
   ]
  },
  {
   "cell_type": "code",
   "execution_count": 2,
   "metadata": {},
   "outputs": [
    {
     "name": "stdout",
     "output_type": "stream",
     "text": [
      "mon chat s'appelle michka. Michka, michka! Où es-tu?\n",
      "mon chat s'appelle Michka. Michka, michka! Où es-tu?\n",
      "\n",
      "\n",
      "mon chat s'appelle michka. Michka, michka! Où es-tu?\n",
      "mon chat s'appelle Michka. Michka, Michka! Où es-tu?\n"
     ]
    }
   ],
   "source": [
    "#exemple 1:\n",
    "phrase=\"mon chat s'appelle michka. Michka, michka! Où es-tu?\"\n",
    "print(phrase)\n",
    "phrase=phrase.replace(\"michka\",\"Michka\",1) # au maximum 1 fois en partant du début du texte\n",
    "print(phrase)\n",
    "print(\"\\n\") # saut de ligne\n",
    "#exemple 2 :\n",
    "phrase=\"mon chat s'appelle michka. Michka, michka! Où es-tu?\"\n",
    "print(phrase)\n",
    "phrase=phrase.replace(\"michka\",\"Michka\") # dans tout le texte\n",
    "print(phrase)"
   ]
  },
  {
   "cell_type": "markdown",
   "metadata": {},
   "source": [
    "[sommaire](#sommaire)\n",
    "<a id = \"etape3\"></a>\n",
    "## 3. Créer un fichier texte en donnant un nom explicite au fichier créé.\n",
    "\n",
    "Pour cela nous utiliserons une variables en paramètre de la fonction *open()*. Cette variable sera bien entendu de type *<string\\>* puisque le paramètre à passer est de ce type.<br>\n",
    "Pour personnaliser le fichier, utilisons une des informations associées à l'élève ; le nom par exemple. Ainsi le fichier *modele_Pierre.txt* qui comportera les informations associées à l'élève Pierre.\n",
    "\n",
    "\n"
   ]
  },
  {
   "cell_type": "code",
   "execution_count": 3,
   "metadata": {},
   "outputs": [
    {
     "name": "stdout",
     "output_type": "stream",
     "text": [
      "Fiche récapitulative du travail de ==nom==   date de naissance : ==ddn==  classe: ==classe==\n",
      "séance 1:\n",
      "séance 2 :\n",
      "séance 3 :\n",
      "Appréciation générale :\n",
      "\n",
      "\n",
      "Fiche récapitulative du travail de Pierre   date de naissance : 20/01/2002  classe: TS2\n",
      "séance 1:\n",
      "séance 2 :\n",
      "séance 3 :\n",
      "Appréciation générale :\n",
      "\n",
      "\n"
     ]
    }
   ],
   "source": [
    "# contenu <-- récupération du texte qui nous sert de modèle\n",
    "fichier = open('modele.txt','r') \n",
    "contenu = fichier.read() \n",
    "fichier.close()\n",
    "\n",
    "# travaillons maintenant sur la variable contenu récupérée\n",
    "print(contenu)  # affichons la valeur initiale de contenu\n",
    "contenu=contenu.replace('==nom==','Pierre',1) # on remplace ==nom== par 'Pierre' , 1 seule fois\n",
    "contenu=contenu.replace('==ddn==','20/01/2002',1) # on remplace ==ddn== par '20/01/2002' , 1 seule fois\n",
    "contenu=contenu.replace('==classe==','TS2',1) # on remplace ==classe== par 'TS2' , 1 seule fois\n",
    "print(contenu) # affichons la valeur de contenu après les remplacements \n",
    "\n",
    "nomNouveauFichier='modele_'+'Pierre'+'.txt'  # nous créons un nouveau nom de fichier (chaine de caractères sans caractères spéciaux)\n",
    "nouveauFichier=open(nomNouveauFichier,'w')  # ouvrons ce fichier en écriture (il est automatiquement créé)\n",
    "nouveauFichier.write(contenu)      # remplissons le avec la valeur de contenu\n",
    "nouveauFichier.close()  # fermons proprement l'accès au fichier"
   ]
  },
  {
   "cell_type": "markdown",
   "metadata": {},
   "source": [
    "[sommaire](#sommaire)\n",
    "<a id = \"etape4\"></a>\n",
    "## 4.  Créer l'ensemble des fichiers à partir d'informations stockées dans un tableau.\n",
    "\n",
    "Nous intégrerons l'ensemble de nos informations sur les élèves dans un tableau.\n",
    "Puis nous bouclerons sur ce tableau pour lire élève par élève les données à intégrer. Pour chaque élève : <ul>\n",
    "    <li> nous ouvrirons le fichier modèle pour lire le contenu standard avant de le refermer proprement ; </li>\n",
    "    <li> nous opérerons les remplacements attendus sur ce contenu ; </li>\n",
    "    <li> nous créerons un fichier associé à cet élève que nous remplierons avec le contenu modifié ;</li>\n",
    "    <li> finalement nous refermerons proprement ce fichier. </li> </ul>"
   ]
  },
  {
   "cell_type": "code",
   "execution_count": 4,
   "metadata": {},
   "outputs": [
    {
     "name": "stdout",
     "output_type": "stream",
     "text": [
      "[('Pierre', '20/01/2002', 'TS2'), ('Julius', '12/08/2002', 'TS3'), ('Frédégonde', '23/05/2002', 'TS2')]\n"
     ]
    }
   ],
   "source": [
    "# déclaration du tableau contenant les informations sur les élèves.\n",
    "tabElev=[('Pierre','20/01/2002','TS2'),\\\n",
    "        ('Julius','12/08/2002','TS3'),\\\n",
    "        ('Frédégonde','23/05/2002','TS2')]\n",
    "print(tabElev)"
   ]
  },
  {
   "cell_type": "code",
   "execution_count": 5,
   "metadata": {},
   "outputs": [
    {
     "name": "stdout",
     "output_type": "stream",
     "text": [
      "Fiche récapitulative du travail de Pierre   date de naissance : 20/01/2002  classe: TS2\n",
      "séance 1:\n",
      "séance 2 :\n",
      "séance 3 :\n",
      "Appréciation générale :\n",
      "\n",
      "\n",
      "Fiche récapitulative du travail de Julius   date de naissance : 12/08/2002  classe: TS3\n",
      "séance 1:\n",
      "séance 2 :\n",
      "séance 3 :\n",
      "Appréciation générale :\n",
      "\n",
      "\n",
      "Fiche récapitulative du travail de Frédégonde   date de naissance : 23/05/2002  classe: TS2\n",
      "séance 1:\n",
      "séance 2 :\n",
      "séance 3 :\n",
      "Appréciation générale :\n",
      "\n",
      "\n"
     ]
    }
   ],
   "source": [
    "for (nom,dateDeNaissance,classe) in tabElev:\n",
    "    # contenu <-- récupération du texte qui nous sert de modèle\n",
    "    fichier = open('modele.txt','r') \n",
    "    contenu = fichier.read() \n",
    "    fichier.close()\n",
    "\n",
    "    # travaillons maintenant sur la variable contenu récupérée\n",
    " #   print(contenu)  # affichons la valeur initiale de contenu\n",
    "    contenu=contenu.replace('==nom==',nom,1) # on remplace ==nom== par 'Pierre' , 1 seule fois\n",
    "    contenu=contenu.replace('==ddn==',dateDeNaissance,1) # on remplace ==ddn== par '20/01/2002' , 1 seule fois\n",
    "    contenu=contenu.replace('==classe==',classe,1) # on remplace ==classe== par 'TS2' , 1 seule fois\n",
    "    print(contenu) # affichons la valeur de contenu après les remplacements \n",
    "\n",
    "    nomNouveauFichier='modele_'+nom+'.txt'  # créons un nouveau nom de fichier\n",
    "    nouveauFichier=open(nomNouveauFichier,'w')  # ouvrons ce fichier en écriture\n",
    "    nouveauFichier.write(contenu)      # remplissons le avec la valeur de contenu\n",
    "    nouveauFichier.close()  # fermons proprement l'accès au fichier"
   ]
  },
  {
   "cell_type": "markdown",
   "metadata": {},
   "source": [
    "[sommaire](#sommaire)\n",
    "<a id = \"etape5\"></a>\n",
    "##  5. Et si on stockait les données élèves dans un fichier texte!\n",
    "\n",
    "Quelle bonne idée! Il ne serait plus nécessaire de modifier le programme pour l'appliquer à un nouveau groupe d'élèves. Le programme, avec une petite notice serait utilisable par une personne qui ne connait rien à la programmation. <br>\n",
    "Pour cela il nous faut: <ul><li> créer 'à la main' avec le blocNote de Windows un fichier *list_elev.txt* contenant les informations ; </li>\n",
    "    <li>lire ce fichier ligne à ligne et reconstituer notre tableau ;</li>\n",
    "    <li> ensuite il suffit de reprendre la portion de code utilisée précédemment. </li>\n",
    " "
   ]
  },
  {
   "cell_type": "code",
   "execution_count": 6,
   "metadata": {},
   "outputs": [
    {
     "name": "stdout",
     "output_type": "stream",
     "text": [
      "['Pierre,20/01/2002,TS2\\n', 'Julius,12/08/2002,TS3\\n', 'Frédégonde,23/05/2002,TS2\\n']\n"
     ]
    }
   ],
   "source": [
    "fichier =  open('list_elev.txt','r') \n",
    "list_donnees_elev = fichier.readlines() # l'ensemble du fichier est placé dans une liste\n",
    "                            # de chaine de caractères. Chaque ligne terminée par un retour chariot\n",
    "                            # est ainsi séparée de la suivante dans la liste.\n",
    "print(list_donnees_elev)\n",
    "# remarquez ci-dessous que le retour chariot est détécté car il correspond en fait\n",
    "# à un caractère , mais un caractère invisible codé \\n"
   ]
  },
  {
   "cell_type": "markdown",
   "metadata": {},
   "source": [
    "Pour constituer notre tableau d'informations il nous faut exploser chaque chaine de caractère pour retrouver 3 informations distinctes pour chaque élève. <br>\n",
    "Nous partons d'une chaine de caractères par exemple 'Pierre,20/01/2002,TS2\\n' et nous devons ajouter le tuple ('Pierre','20/01/2002','TS2\\n') dans la liste *tabElev*.<br>\n",
    "Pour cela nous utiliserons une méthode appliquable aux chaines de caractères: *split()* <br>\n",
    "deux exemples :"
   ]
  },
  {
   "cell_type": "code",
   "execution_count": 7,
   "metadata": {},
   "outputs": [
    {
     "name": "stdout",
     "output_type": "stream",
     "text": [
      "Pierre, charles, 12, 45.6\n",
      "['Pierre', ' charles', ' 12', ' 45.6']\n",
      "\n",
      "attention; bonjour; 45,32 ; 12.6\n",
      "['attention', ' bonjour', ' 45,32 ', ' 12.6']\n"
     ]
    }
   ],
   "source": [
    "maChaineDeCarac='Pierre, charles, 12, 45.6'\n",
    "print(maChaineDeCarac)\n",
    "print(maChaineDeCarac.split(','))  # le séparateur est le caractère ','\n",
    "print()\n",
    "chain2='attention; bonjour; 45,32 ; 12.6'  # le séparateur est le caractère ';'\n",
    "print(chain2)\n",
    "print(chain2.split(';'))"
   ]
  },
  {
   "cell_type": "markdown",
   "metadata": {},
   "source": [
    "Dans chaque cas la méthode *split()* renvoie une liste de chaines de caractères obtenues par découpage de la chaine de caractères à laquelle elle s'applique. Le caractère séparateur est passé en paramètre.<br>\n",
    "Utilisons *split()* pour récupérer séparer les informations associées à chacun de nos élèves.\n"
   ]
  },
  {
   "cell_type": "code",
   "execution_count": 8,
   "metadata": {},
   "outputs": [
    {
     "name": "stdout",
     "output_type": "stream",
     "text": [
      "Pierre,20/01/2002,TS2\n",
      "\n",
      "Julius,12/08/2002,TS3\n",
      "\n",
      "Frédégonde,23/05/2002,TS2\n",
      "\n",
      "['Pierre', '20/01/2002', 'TS2\\n']\n",
      "['Julius', '12/08/2002', 'TS3\\n']\n",
      "['Frédégonde', '23/05/2002', 'TS2\\n']\n"
     ]
    }
   ],
   "source": [
    "for ligneDeDonnees in list_donnees_elev:\n",
    "    print(ligneDeDonnees) # une chaine de caractères unique contient toutes les données associées à un élève\n",
    "    \n",
    "for ligneDeDonnees in list_donnees_elev:    \n",
    "    donneesEleve=ligneDeDonnees.split(',') # ces informations sont désormais sous forme d'une liste\n",
    "    print(donneesEleve)\n",
    "    "
   ]
  },
  {
   "cell_type": "markdown",
   "metadata": {},
   "source": [
    "Comme vous le voyez il y a néanmoins un petit hic. Comment nous débarrasser du caractère de retour chariot, le *\\\\n* ? <br>\n",
    "Il suffit de vous rappeler qu'une chaine de caractères est une liste et que nous souhaitons nous débarrasser du dernier caractère de cette liste. En d'autres termes, le résultat qui nous intéresse est la valeur que fournit la méthode *split()* lorsqu'on l'applique à la chaîne de caractère *ligneDeDonnees* moins son dernier caractère.\n"
   ]
  },
  {
   "cell_type": "code",
   "execution_count": 9,
   "metadata": {
    "scrolled": true
   },
   "outputs": [
    {
     "name": "stdout",
     "output_type": "stream",
     "text": [
      "Pierre,20/01/2002,TS2\n",
      "\n",
      "Julius,12/08/2002,TS3\n",
      "\n",
      "Frédégonde,23/05/2002,TS2\n",
      "\n",
      "['Pierre', '20/01/2002', 'TS2']\n",
      "('Pierre', '20/01/2002', 'TS2')\n",
      "['Julius', '12/08/2002', 'TS3']\n",
      "('Julius', '12/08/2002', 'TS3')\n",
      "['Frédégonde', '23/05/2002', 'TS2']\n",
      "('Frédégonde', '23/05/2002', 'TS2')\n",
      "[('Pierre', '20/01/2002', 'TS2'), ('Julius', '12/08/2002', 'TS3'), ('Frédégonde', '23/05/2002', 'TS2')]\n"
     ]
    }
   ],
   "source": [
    "for ligneDeDonnees in list_donnees_elev:\n",
    "    print(ligneDeDonnees)\n",
    "\n",
    "tabElev=list() # nous sommes certains de repartir de zéro\n",
    "for ligneDeDonnees in list_donnees_elev:    \n",
    "    donneesEleve=ligneDeDonnees[:-1].split(',') # la solution tient en 3 caractères :-1 (de 0 à l'avant dernier)\n",
    "    print(donneesEleve)\n",
    "    tmp_var=tuple(donneesEleve) # la liste des trois infos est mise sous forme de tuple\n",
    "    print(tmp_var)\n",
    "    tabElev.append(tmp_var) # on ajoute ce tuple à la liste tabElev\n",
    "\n",
    "print(tabElev)"
   ]
  },
  {
   "cell_type": "code",
   "execution_count": 10,
   "metadata": {},
   "outputs": [
    {
     "name": "stdout",
     "output_type": "stream",
     "text": [
      "[('Pierre', '20/01/2002', 'TS2'), ('Julius', '12/08/2002', 'TS3'), ('Frédégonde', '23/05/2002', 'TS2')]\n"
     ]
    }
   ],
   "source": [
    "# une fois le code nettoyé, sa brièveté révèle un des atouts du langage Python\n",
    "tabElev=list() # nous sommes certains de repartir de zéro\n",
    "for ligneDeDonnees in list_donnees_elev:    \n",
    "    donneesEleve=ligneDeDonnees[:-1].split(',') # la solution tient en 3 caractères\n",
    "    tabElev.append(tuple(donneesEleve)) # on crée un tuple qu'on ajoute ce tuple à la liste tabElev\n",
    "print(tabElev)"
   ]
  },
  {
   "cell_type": "code",
   "execution_count": 11,
   "metadata": {},
   "outputs": [
    {
     "name": "stdout",
     "output_type": "stream",
     "text": [
      "Fiche récapitulative du travail de Pierre   date de naissance : 20/01/2002  classe: TS2\n",
      "séance 1:\n",
      "séance 2 :\n",
      "séance 3 :\n",
      "Appréciation générale :\n",
      "\n",
      "\n",
      "Fiche récapitulative du travail de Julius   date de naissance : 12/08/2002  classe: TS3\n",
      "séance 1:\n",
      "séance 2 :\n",
      "séance 3 :\n",
      "Appréciation générale :\n",
      "\n",
      "\n",
      "Fiche récapitulative du travail de Frédégonde   date de naissance : 23/05/2002  classe: TS2\n",
      "séance 1:\n",
      "séance 2 :\n",
      "séance 3 :\n",
      "Appréciation générale :\n",
      "\n",
      "\n"
     ]
    }
   ],
   "source": [
    "# juste pour vérifier que ça fonctionne on applique à nouveau le reste du programme\n",
    "for (nom,dateDeNaissance,classe) in tabElev:\n",
    "    # contenu <-- récupération du texte qui nous sert de modèle\n",
    "    fichier = open('modele.txt','r') \n",
    "    contenu = fichier.read() \n",
    "    fichier.close()\n",
    "\n",
    "    # travaillons maintenant sur la variable contenu récupérée\n",
    " #   print(contenu)  # affichons la valeur initiale de contenu\n",
    "    contenu=contenu.replace('==nom==',nom,1) # on remplace ==nom== par 'Pierre' , 1 seule fois\n",
    "    contenu=contenu.replace('==ddn==',dateDeNaissance,1) # on remplace ==ddn== par '20/01/2002' , 1 seule fois\n",
    "    contenu=contenu.replace('==classe==',classe,1) # on remplace ==classe== par 'TS2' , 1 seule fois\n",
    "    print(contenu) # affichons la valeur de contenu après les remplacements \n",
    "\n",
    "    nomNouveauFichier='modele_'+nom+'.txt'  # créons un nouveau nom de fichier\n",
    "    nouveauFichier=open(nomNouveauFichier,'w')  # ouvrons ce fichier en écriture\n",
    "    nouveauFichier.write(contenu)      # remplissons le avec la valeur de contenu\n",
    "    nouveauFichier.close()  # fermons proprement l'accès au fichier"
   ]
  },
  {
   "cell_type": "markdown",
   "metadata": {},
   "source": [
    "[sommaire](#sommaire)\n",
    "<a id = \"etape6\"></a>\n",
    "\n",
    "\n",
    "## 6.  A titre d'exercice. "
   ]
  },
  {
   "cell_type": "markdown",
   "metadata": {},
   "source": [
    "[sommaire](#sommaire)\n",
    "<a id = \"etape6\"></a>\n",
    "<a id = \"exo1\"></a>\n",
    "&nbsp;&nbsp;&nbsp; [Exercice 1](#exo1)\n",
    "&nbsp;&nbsp;&nbsp; [Exercice 2](#exo2)\n",
    "\n",
    "## 6.  A titre d'exercice, placer aussi les mots à remplacer dans le fichier texte. \n",
    "\n",
    "<a id = \"exo1\"></a>\n",
    "\n",
    "### Exercice 1\n",
    "Les groupes de mots à remplacer peuvent être placés sur la première ligne du fichier ; comme ceci (fichier *list_elev_exo1.txt*) : <br>\n",
    "==nom==,==ddn==,==classe==<br>\n",
    "Pierre,20/01/2002,TS2<br>\n",
    "Julius,12/08/2002,TS3<br>\n",
    "Frédégonde,23/05/2002,TS2<br>\n",
    "\n",
    "Testez d'abord votre solution avec les fichiers *list_elev_exo1.txt* et *modele.txt*.<br>\n",
    "\n",
    "Notre programme a beaucoup gagné en souplesse d'utilisation. Il laisse maintenant à l'utilisateur le choix des groupements de lettres à remplacer. Si le programme est bien écrit il devrait fonctionner avec le fichier *list_elev_exo1b.txt* associé au fichier *modele1b.txt*.<br>"
   ]
  },
  {
   "cell_type": "code",
   "execution_count": 12,
   "metadata": {},
   "outputs": [
    {
     "name": "stdout",
     "output_type": "stream",
     "text": [
      "['Pierre,20/01/2002,TS2\\n', 'Julius,12/08/2002,TS3\\n', 'Frédégonde,23/05/2002,TS2\\n']\n"
     ]
    }
   ],
   "source": [
    "# A MODIFIER peut-être...\n",
    "fichier =  open('list_elev.txt','r') \n",
    "list_donnees_elev = fichier.readlines() # l'ensemble du fichier est placé dans une liste\n",
    "                            # de chaine de caractères. Chaque ligne terminée par un retour chariot\n",
    "                            # est ainsi séparée de la suivante dans la liste.\n",
    "print(list_donnees_elev)\n",
    "# remarquez ci-dessous que le retour chariot est détécté car il correspond en fait\n",
    "# à un caractère , mais un caractère invisible codé \\n"
   ]
  },
  {
   "cell_type": "code",
   "execution_count": 13,
   "metadata": {},
   "outputs": [
    {
     "name": "stdout",
     "output_type": "stream",
     "text": [
      "[('Pierre', '20/01/2002', 'TS2'), ('Julius', '12/08/2002', 'TS3'), ('Frédégonde', '23/05/2002', 'TS2')]\n"
     ]
    }
   ],
   "source": [
    "# A MODIFIER peut-être...\n",
    "tabElev=list() # nous sommes certains de repartir de zéro\n",
    "for ligneDeDonnees in list_donnees_elev:    \n",
    "    donneesEleve=ligneDeDonnees[:-1].split(',') # la solution tient en 3 caractères\n",
    "    tabElev.append(tuple(donneesEleve)) # on crée un tuple qu'on ajoute ce tuple à la liste tabElev\n",
    "print(tabElev)"
   ]
  },
  {
   "cell_type": "code",
   "execution_count": null,
   "metadata": {
    "scrolled": false
   },
   "outputs": [],
   "source": [
    "# A MODIFIER peut-être...\n",
    "for (nom,dateDeNaissance,classe) in tabElev:\n",
    "    # contenu <-- récupération du texte qui nous sert de modèle\n",
    "    fichier = open('modele.txt','r') \n",
    "    contenu = fichier.read() \n",
    "    fichier.close()\n",
    "\n",
    "    # travaillons maintenant sur la variable contenu récupérée\n",
    " #   print(contenu)  # affichons la valeur initiale de contenu\n",
    "    contenu=contenu.replace('==nom==',nom,1) # on remplace ==nom== par 'Pierre' , 1 seule fois\n",
    "    contenu=contenu.replace('==ddn==',dateDeNaissance,1) # on remplace ==ddn== par '20/01/2002' , 1 seule fois\n",
    "    contenu=contenu.replace('==classe==',classe,1) # on remplace ==classe== par 'TS2' , 1 seule fois\n",
    "    print(contenu) # affichons la valeur de contenu après les remplacements \n",
    "\n",
    "    nomNouveauFichier='modele_'+nom+'.txt'  # créons un nouveau nom de fichier\n",
    "    nouveauFichier=open(nomNouveauFichier,'w')  # ouvrons ce fichier en écriture\n",
    "    nouveauFichier.write(contenu)      # remplissons le avec la valeur de contenu\n",
    "    nouveauFichier.close()  # fermons proprement l'accès au fichier"
   ]
  },
  {
   "cell_type": "markdown",
   "metadata": {},
   "source": [
    "[sommaire](#sommaire)\n",
    "&nbsp;&nbsp;&nbsp; [Exercice 1](#exo1)\n",
    "&nbsp;&nbsp;&nbsp; [Exercice 2](#exo2)\n",
    "\n",
    "<a id = \"exo2\"></a>\n",
    "\n",
    "### Exercice 2\n",
    "\n",
    "Il est possible d'aller un peu plus loin et de rendre le nombre de groupements variable en fonction des besoins. Le programme fonctionne alors correctement avec les fichier texte suivant (fichiers *list_elev_exo2.txt* et *modele2.txt*):\n",
    "\n",
    "==nom==,==adresse==,==numTel==,==ddn==,==classe==<br>\n",
    "Pierre,2 rue des Tulipes 45000 Orléans,0238234565,20/01/2002,TS2<br>\n",
    "Julius,12 rue de la Gare 45140 Ingré,0238459878,12/08/2002,TS3<br>\n",
    "Frédégonde,298 rue du Faubourg Bannier 45000 Orléans,0238781294,23/05/2002,TS2<br>\n",
    "\n",
    "Copier les programmes ci-dessus avant de les modifier pour intégrer les améliorations attendues."
   ]
  },
  {
   "cell_type": "code",
   "execution_count": null,
   "metadata": {},
   "outputs": [],
   "source": []
  },
  {
   "cell_type": "code",
   "execution_count": null,
   "metadata": {},
   "outputs": [],
   "source": []
  },
  {
   "cell_type": "code",
   "execution_count": null,
   "metadata": {},
   "outputs": [],
   "source": []
  },
  {
   "cell_type": "markdown",
   "metadata": {},
   "source": [
    "[sommaire](#sommaire)\n",
    "<a id = \"corr_exo1\"></a>\n",
    "### correction exercice 1\n",
    "\n",
    "[Exercice 2](#exo2)\n",
    "&nbsp;&nbsp;&nbsp;    [correction Exercice 2](#corr_exo2)\n",
    "&nbsp;&nbsp;&nbsp; [correction Exercice 3](#corr_exo3)"
   ]
  },
  {
   "cell_type": "code",
   "execution_count": 1,
   "metadata": {
    "scrolled": true
   },
   "outputs": [
    {
     "name": "stdout",
     "output_type": "stream",
     "text": [
      "['==Nom==,==Ddn==,==Classe==\\n', 'Pierre,20/01/2002,TS2\\n', 'Julius,12/08/2002,TS3\\n', 'Frédégonde,23/05/2002,TS2']\n"
     ]
    }
   ],
   "source": [
    "#correction exo 1 (1/3)  RIEN ne change dans cette première partie\n",
    "fichier =  open('list_elev_exo1b.txt','r') \n",
    "list_donnees_elev = fichier.readlines() \n",
    "print(list_donnees_elev)"
   ]
  },
  {
   "cell_type": "code",
   "execution_count": 15,
   "metadata": {},
   "outputs": [
    {
     "name": "stdout",
     "output_type": "stream",
     "text": [
      "liste de mots à remplacer:\n",
      "['==Nom==', '==Ddn==', '==Classe==']\n",
      "liste de tuples contenant les informations sur les élèves :\n",
      "[('Pierre', '20/01/2002', 'TS2'), ('Julius', '12/08/2002', 'TS3'), ('Frédégonde', '23/05/2002', 'TS')]\n"
     ]
    }
   ],
   "source": [
    "#correction exo 1 (2/3)\n",
    "tabElev=list() \n",
    "indice=0          # on ajoute une variable pour identifier la lecture de la première ligne\n",
    "for ligneDeDonnees in list_donnees_elev:    \n",
    "    donneesEleve=ligneDeDonnees[:-1].split(',')\n",
    "    if indice==0:                           # si on lit la première ligne contenu dans list_elev_exo1.txt\n",
    "        list_mots_a_remplacer=donneesEleve  # alors on stocke la liste des mots à remplacer      \n",
    "    else:\n",
    "        tabElev.append(tuple(donneesEleve)) # sinon on remplit comme précédemment tabElev\n",
    "    indice=indice+1\n",
    "print(\"liste de mots à remplacer:\")    # on vérifie par qq print le fonctionnement de cette deuxième partie\n",
    "print(list_mots_a_remplacer)\n",
    "print(\"liste de tuples contenant les informations sur les élèves :\")\n",
    "print(tabElev)"
   ]
  },
  {
   "cell_type": "code",
   "execution_count": 16,
   "metadata": {},
   "outputs": [
    {
     "name": "stdout",
     "output_type": "stream",
     "text": [
      "Fiche récapitulative du travail de Pierre   date de naissance : 20/01/2002  classe: TS2\n",
      "séance 1:\n",
      "séance 2 :\n",
      "séance 3 :\n",
      "Appréciation générale :\n",
      "\n",
      "\n",
      "Fiche récapitulative du travail de Julius   date de naissance : 12/08/2002  classe: TS3\n",
      "séance 1:\n",
      "séance 2 :\n",
      "séance 3 :\n",
      "Appréciation générale :\n",
      "\n",
      "\n",
      "Fiche récapitulative du travail de Frédégonde   date de naissance : 23/05/2002  classe: TS\n",
      "séance 1:\n",
      "séance 2 :\n",
      "séance 3 :\n",
      "Appréciation générale :\n",
      "\n",
      "\n"
     ]
    }
   ],
   "source": [
    "#correction exo 1 (3/3) \n",
    "# il faut être plus générique\n",
    "# 1) pas indispensable mais plus propre :on remplace (nom,dateDeNaissance,classe) par (chaine_1,chaine_2,chaine_3)\n",
    "# 2) indispensable par contre :\n",
    "#'==nom==' par list_mots_a_remplacer(0) ; '==ddn==' par list_mots_a_remplacer(1) ;'==classe==' par list_mots_a_remplacer(2) ;\n",
    "\n",
    "for (chaine_1,chaine_2,chaine_3) in tabElev:\n",
    "    fichier=open('modele1b.txt','r')\n",
    "    contenu = fichier.read() \n",
    "    fichier.close()\n",
    "\n",
    "    contenu=contenu.replace(list_mots_a_remplacer[0],chaine_1,1) \n",
    "    contenu=contenu.replace(list_mots_a_remplacer[1],chaine_2,1) \n",
    "    contenu=contenu.replace(list_mots_a_remplacer[2],chaine_3,1)\n",
    "    print(contenu) \n",
    "\n",
    "    nomNouveauFichier='modele_'+chaine_1+'.txt'   # Penser à utiliser la variable chaine_1 pour le nom de fichier\n",
    "    nouveauFichier=open(nomNouveauFichier,'w') \n",
    "    nouveauFichier.write(contenu)      \n",
    "    nouveauFichier.close()  "
   ]
  },
  {
   "cell_type": "markdown",
   "metadata": {},
   "source": [
    "[sommaire](#sommaire)\n",
    "<a id = \"corr_exo1\"></a>\n",
    "### correction exercice 2\n",
    "\n",
    "[Exercice 2](#exo2)\n",
    "&nbsp;&nbsp;&nbsp;    [correction Exercice 2](#corr_exo2)\n",
    "&nbsp;&nbsp;&nbsp; [correction Exercice 3](#corr_exo3)"
   ]
  },
  {
   "cell_type": "code",
   "execution_count": 17,
   "metadata": {
    "scrolled": true
   },
   "outputs": [
    {
     "name": "stdout",
     "output_type": "stream",
     "text": [
      "['==nom==,==adresse==,==numTel==,==ddn==,==classe==\\n', 'Pierre,2 rue des Tulipes 45000 Orléans,0238234565,20/01/2002,TS2\\n', 'Julius,12 rue de la Gare 45140 Ingré,0238459878,12/08/2002,TS3\\n', 'Frédégonde,298 rue du Faubourg Bannier 45000 Orléans,0238781294,23/05/2002,TS2\\n']\n"
     ]
    }
   ],
   "source": [
    "#correction exo 2 (1/3)  RIEN ne change dans cette première partie\n",
    "fichier =  open('list_elev_exo2.txt','r') \n",
    "list_donnees_elev = fichier.readlines() \n",
    "print(list_donnees_elev)"
   ]
  },
  {
   "cell_type": "code",
   "execution_count": 18,
   "metadata": {},
   "outputs": [
    {
     "name": "stdout",
     "output_type": "stream",
     "text": [
      "liste de mots à remplacer:\n",
      "['==nom==', '==adresse==', '==numTel==', '==ddn==', '==classe==']\n",
      "liste de tuples contenant les informations sur les élèves :\n",
      "[('Pierre', '2 rue des Tulipes 45000 Orléans', '0238234565', '20/01/2002', 'TS2'), ('Julius', '12 rue de la Gare 45140 Ingré', '0238459878', '12/08/2002', 'TS3'), ('Frédégonde', '298 rue du Faubourg Bannier 45000 Orléans', '0238781294', '23/05/2002', 'TS2')]\n"
     ]
    }
   ],
   "source": [
    "#correction exo 2 (2/3) RIEN ne change dans cette première partie par rapport à l'exo 1\n",
    "tabElev=list() \n",
    "indice=0          # on ajoute une variable pour identifier la lecture de la première ligne\n",
    "for ligneDeDonnees in list_donnees_elev:    \n",
    "    donneesEleve=ligneDeDonnees[:-1].split(',')\n",
    "    if indice==0:                           # si on lit la première ligne contenu dans list_elev_exo1.txt\n",
    "        list_mots_a_remplacer=donneesEleve  # alors on stocke la liste des mots à remplacer      \n",
    "    else:\n",
    "        tabElev.append(tuple(donneesEleve)) # sinon on remplit comme précédemment tabElev\n",
    "    indice=indice+1\n",
    "print(\"liste de mots à remplacer:\")    # on vérifie par qq print le fonctionnement de cette deuxième partie\n",
    "print(list_mots_a_remplacer)\n",
    "print(\"liste de tuples contenant les informations sur les élèves :\")\n",
    "print(tabElev)"
   ]
  },
  {
   "cell_type": "code",
   "execution_count": 19,
   "metadata": {
    "scrolled": true
   },
   "outputs": [
    {
     "name": "stdout",
     "output_type": "stream",
     "text": [
      "Fiche récapitulative du travail de Pierre   date de naissance : 20/01/2002  classe: TS2\n",
      "adresse:2 rue des Tulipes 45000 Orléans\n",
      "numéro de téléphone : 0238234565\n",
      "Appréciation générale :\n",
      "\n",
      "Fiche récapitulative du travail de Julius   date de naissance : 12/08/2002  classe: TS3\n",
      "adresse:12 rue de la Gare 45140 Ingré\n",
      "numéro de téléphone : 0238459878\n",
      "Appréciation générale :\n",
      "\n",
      "Fiche récapitulative du travail de Frédégonde   date de naissance : 23/05/2002  classe: TS2\n",
      "adresse:298 rue du Faubourg Bannier 45000 Orléans\n",
      "numéro de téléphone : 0238781294\n",
      "Appréciation générale :\n",
      "\n"
     ]
    }
   ],
   "source": [
    "#correction exo 2 (3/3) \n",
    "# il faut être plus générique\n",
    "# 1) pas indispensable mais plus propre :on remplace (nom,dateDeNaissance,classe) par (chaine_1,chaine_2,chaine_3)\n",
    "# 2) indispensable par contre :\n",
    "#'==nom==' par list_mots_a_remplacer(0) ; '==ddn==' par list_mots_a_remplacer(1) ;'==classe==' par list_mots_a_remplacer(2) ;\n",
    "\n",
    "nbGroup=len(list_mots_a_remplacer)\n",
    "\n",
    "for tuplElev in tabElev:\n",
    "    fichier=open('modele2.txt','r')\n",
    "    contenu = fichier.read() \n",
    "    fichier.close()\n",
    "    \n",
    "    for i in range(nbGroup):\n",
    "        contenu=contenu.replace(list_mots_a_remplacer[i],tuplElev[i],1)\n",
    "              \n",
    "    print(contenu) \n",
    "\n",
    "    nomNouveauFichier='modele_'+tuplElev[0]+'.txt' \n",
    "    nouveauFichier=open(nomNouveauFichier,'w') \n",
    "    nouveauFichier.write(contenu)      \n",
    "    nouveauFichier.close()  \n",
    "\n"
   ]
  },
  {
   "cell_type": "markdown",
   "metadata": {},
   "source": [
    "[sommaire](#sommaire)\n",
    "<a id = \"conclusion\"></a>\n",
    "\n",
    "## En guise de conclusion\n",
    "\n",
    "Pourquoi travailler sur des fichiers texte alors que des traitements de texte offrent des mises en page beaucoup plus esthétiques?<br>\n",
    "Derrière les fichiers aux formats docx,odt,tex,pdf,... se cachent des informations codées au format texte. Pour vous en convaincre, créez un fichier au format .odt avec libreOffice Writer. Enregistrez-le puis renommez-le en modifiant son extension en .zip (à la place de .odt). Placez ce fichier tout seul dans un nouveau dossier, par exemple de nom odt2zip. Effectuez ensuite une décompression de ce fichier à l'aide de 7zip ou d'un autre logiciel de décompression. Celui-ci fait apparaitre tout un ensemble de fichiers au format .xml. Ouvez-en quelques-uns avec le bloc-note (notepad) pour vous convaincre qu'il s'agit bien là de fichiers texte. Ouvrez en particulier le fichier content.xml, vous y retrouverez facilement le texte tapé dans le fichier .odt d'origine.<br>\n",
    "Et il en est de même pour les tableurs tels que Excel ou Calc (fichiers de type .xls, .xlsx, .ods). Vous ne manquerez pas d'occasion de mettre en oeuvre vos nouvelles compétences."
   ]
  }
 ],
 "metadata": {
  "celltoolbar": "Edit Metadata",
  "kernelspec": {
   "display_name": "Python 3",
   "language": "python",
   "name": "python3"
  },
  "language_info": {
   "codemirror_mode": {
    "name": "ipython",
    "version": 3
   },
   "file_extension": ".py",
   "mimetype": "text/x-python",
   "name": "python",
   "nbconvert_exporter": "python",
   "pygments_lexer": "ipython3",
   "version": "3.6.4"
  }
 },
 "nbformat": 4,
 "nbformat_minor": 2
}
