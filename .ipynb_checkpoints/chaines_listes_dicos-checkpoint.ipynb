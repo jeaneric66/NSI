{
 "cells": [
  {
   "cell_type": "markdown",
   "metadata": {
    "colab_type": "text",
    "id": "bLYrOEGwSWs1"
   },
   "source": [
    "<a id='sommaire'></a>\n",
    "# Sommaire\n",
    "\n",
    "[Chaînes de caractères :  création, concaténation, parcours, extraction](#chaines)\n",
    "\n",
    "[Chaînes et `print()`](chaines_et_print)\n",
    "\n",
    "[Listes :  création, parcours, extraction, min, max, tri](#listes)\n",
    "\n",
    "[Méthodes de listes :  `append(), insert(), remove(), extend()`](#methodes_de_listes)\n",
    "\n",
    "[Bonus :  représenter graphiquement les termes d'une suite : `plot()`](representer_liste)\n",
    "\n",
    "[Opérateur `in`](#operateur_in)\n",
    "\n",
    "[Exercice : parcours d'une liste de mots](#exercice_parcours)\n",
    "\n",
    "[Exercice : cadavre exquis](#exercice_cadavre)\n",
    "\n",
    "[Exercice : passer au crible](#exercice_crible)\n",
    "\n",
    "[Dictionnaires](#dictionnaires)\n",
    "\n",
    "[Exercice : distributeur de billets](#exercice_distributeur)\n",
    "\n",
    "[Exercice : transcripteur ADN](#exercice_transcripteur)"
   ]
  },
  {
   "cell_type": "markdown",
   "metadata": {
    "colab_type": "text",
    "id": "CvfK8IkFSWs5"
   },
   "source": [
    "<a id='chaines'></a>\n",
    "# Chaînes de caractères : création, parcours, extraction\n",
    "\n",
    "Les chaînes de caractères sont des séquences de caractères. \n"
   ]
  },
  {
   "cell_type": "markdown",
   "metadata": {
    "colab_type": "text",
    "id": "4ki3jK6pSWs6"
   },
   "source": [
    "### Création et longueur d'une chaîne de caractères\n",
    "\n",
    "La création d'une chaîne de caractères peut s'effectuer en indiquant la séquence de caractères entre guillemets simples ou doubles (ou triple doubles pour niveau confirmé).\n",
    "La longueur d'une chaîne `s`s'obtient grâce à `len(s)`"
   ]
  },
  {
   "cell_type": "code",
   "execution_count": 2,
   "metadata": {
    "colab": {
     "autoexec": {
      "startup": false,
      "wait_interval": 0
     }
    },
    "colab_type": "code",
    "id": "4ABceZ2ASWs8",
    "outputId": "471ae39f-6d56-480e-8b7e-cb2a2768f118"
   },
   "outputs": [
    {
     "name": "stdout",
     "output_type": "stream",
     "text": [
      "Bonjour\n",
      "Monsieur\n"
     ]
    },
    {
     "data": {
      "text/plain": [
       "('Bonjour', 'Monsieur')"
      ]
     },
     "execution_count": 2,
     "metadata": {},
     "output_type": "execute_result"
    }
   ],
   "source": [
    "# création de deux chaînes de caractères\n",
    "s1 = \"Bonjour\"\n",
    "t1 = 'Monsieur'\n",
    "print(s1)   # print affiche le texte en console (sans les guillemets)\n",
    "print(t1)\n",
    "s1, t1      # La trace des variables s1 et t1 montre que ce sont des chaines de caractères (les guillemets)\n"
   ]
  },
  {
   "cell_type": "code",
   "execution_count": 3,
   "metadata": {},
   "outputs": [
    {
     "data": {
      "text/plain": [
       "str"
      ]
     },
     "execution_count": 3,
     "metadata": {},
     "output_type": "execute_result"
    }
   ],
   "source": [
    "type(s1)     # en python les chaines sont de type [str]"
   ]
  },
  {
   "cell_type": "code",
   "execution_count": null,
   "metadata": {
    "collapsed": true
   },
   "outputs": [],
   "source": [
    "\n",
    "# Ceci n'est pas une guillemet double isolée mais une chaîne vide\n",
    "v = ''\n",
    "len(v)"
   ]
  },
  {
   "cell_type": "code",
   "execution_count": null,
   "metadata": {
    "collapsed": true
   },
   "outputs": [],
   "source": [
    "# Utilisation du caractère spécial \\ pour insérer des guillemets :\n",
    "s3 = 'C\\'est bon.'\n",
    "t3 = \"Il a dit \\\"Merci\\\".\"\n",
    "print(s3)\n",
    "print(t3)"
   ]
  },
  {
   "cell_type": "code",
   "execution_count": 2,
   "metadata": {},
   "outputs": [
    {
     "name": "stdout",
     "output_type": "stream",
     "text": [
      "123\n",
      "456\n",
      "Un texte\n",
      "multi-\n",
      "lignes\n"
     ]
    },
    {
     "data": {
      "text/plain": [
       "'Un texte\\nmulti-\\nlignes'"
      ]
     },
     "execution_count": 2,
     "metadata": {},
     "output_type": "execute_result"
    }
   ],
   "source": [
    "# Les sauts de lignes\n",
    "txt1 = '123\\n456'\n",
    "txt2=\"\"\"Un texte\n",
    "multi-\n",
    "lignes\"\"\" #pour niveau confirmé\n",
    "print(txt1)\n",
    "print(txt2)\n",
    "txt2"
   ]
  },
  {
   "cell_type": "code",
   "execution_count": 7,
   "metadata": {},
   "outputs": [
    {
     "data": {
      "text/plain": [
       "7"
      ]
     },
     "execution_count": 7,
     "metadata": {},
     "output_type": "execute_result"
    }
   ],
   "source": [
    "#longueur d'une chaîne de caractères\n",
    "len(txt1)\n",
    "\n"
   ]
  },
  {
   "cell_type": "code",
   "execution_count": 8,
   "metadata": {},
   "outputs": [
    {
     "data": {
      "text/plain": [
       "'Bonjour Monsieur'"
      ]
     },
     "execution_count": 8,
     "metadata": {},
     "output_type": "execute_result"
    }
   ],
   "source": [
    "# on peut concaténer des chaînes de caractères entre elles :\n",
    "s4 = s1 + \" \" + t1\n",
    "s4"
   ]
  },
  {
   "cell_type": "markdown",
   "metadata": {
    "colab_type": "text",
    "id": "ZLzDPM6XSWtL"
   },
   "source": [
    "Attention : un nombre doit être converti en chaîne de caractères grâce à `str()` si on veut l'utiliser en tant que chaîne (les conversions de type ne sont pas automatiques dans le langage python - on dit que python est \"fortement typé\") :"
   ]
  },
  {
   "cell_type": "code",
   "execution_count": 9,
   "metadata": {
    "colab": {
     "autoexec": {
      "startup": false,
      "wait_interval": 0
     }
    },
    "colab_type": "code",
    "id": "TgpEk-NlSWtN",
    "outputId": "c2fabb1e-f7f9-4d81-990c-27780bb21622"
   },
   "outputs": [
    {
     "data": {
      "text/plain": [
       "'La somme de 3 et 5 est égale à 8'"
      ]
     },
     "execution_count": 9,
     "metadata": {},
     "output_type": "execute_result"
    }
   ],
   "source": [
    "a = 3\n",
    "b = 5\n",
    "c = a+b\n",
    "\"La somme de \" + str(a) + \" et \" + str(b) + \" est égale à \" + str(c)"
   ]
  },
  {
   "cell_type": "code",
   "execution_count": 11,
   "metadata": {},
   "outputs": [
    {
     "ename": "TypeError",
     "evalue": "Can't convert 'int' object to str implicitly",
     "output_type": "error",
     "traceback": [
      "\u001b[1;31m---------------------------------------------------------------------------\u001b[0m",
      "\u001b[1;31mTypeError\u001b[0m                                 Traceback (most recent call last)",
      "\u001b[1;32m<ipython-input-11-72631e3478eb>\u001b[0m in \u001b[0;36m<module>\u001b[1;34m()\u001b[0m\n\u001b[1;32m----> 1\u001b[1;33m \u001b[1;34m\"chaîne \"\u001b[0m \u001b[1;33m+\u001b[0m \u001b[0ma\u001b[0m\u001b[1;33m\u001b[0m\u001b[0m\n\u001b[0m",
      "\u001b[1;31mTypeError\u001b[0m: Can't convert 'int' object to str implicitly"
     ]
    }
   ],
   "source": [
    "\"chaîne \" + a"
   ]
  },
  {
   "cell_type": "markdown",
   "metadata": {
    "colab_type": "text",
    "id": "rOWyQs00SWtV"
   },
   "source": [
    "### Parcours et manipulation\n",
    "\n",
    "Les symboles `[]` permettent d'accéder aux caractères contenus dans une chaîne. \n",
    "\n",
    "> Les chaînes sont **non mutables**, c'est-à-dire que l'on ne peut pas modifier les valeurs des caractères. \n",
    "\n",
    "Les chaînes étant néanmoins des séquences, il est possible de les parcourir en utilisant une boucle `for`."
   ]
  },
  {
   "cell_type": "code",
   "execution_count": null,
   "metadata": {
    "collapsed": true
   },
   "outputs": [],
   "source": [
    "S = \"Ceci est une chaîne\"\n",
    "S"
   ]
  },
  {
   "cell_type": "code",
   "execution_count": 13,
   "metadata": {
    "colab": {
     "autoexec": {
      "startup": false,
      "wait_interval": 0
     }
    },
    "colab_type": "code",
    "id": "oZrw0GbfSWtX",
    "outputId": "96dc4321-5e46-4cd1-94ed-a8a070184c59"
   },
   "outputs": [
    {
     "name": "stdout",
     "output_type": "stream",
     "text": [
      "c\n"
     ]
    },
    {
     "data": {
      "text/plain": [
       "'C-e-c-i- -e-s-t- -u-n-e- -c-h-a-î-n-e-'"
      ]
     },
     "execution_count": 13,
     "metadata": {},
     "output_type": "execute_result"
    }
   ],
   "source": [
    "# parcours avec une boucle for : plus simple\n",
    "T = ''\n",
    "for car in S: # à traduire par : \"pour chaque élément caractère de la chaîne S faire :\"\n",
    "    T = T + car + '-'\n",
    "\n",
    "T"
   ]
  },
  {
   "cell_type": "code",
   "execution_count": 14,
   "metadata": {
    "collapsed": true
   },
   "outputs": [],
   "source": [
    "clefs = \"\"\n",
    "T = \"\"\n",
    "# parcours avec une boucle for + enumerate pour accéder simultanement au caractère et à son indice :\n",
    "for (indice, caractere) in enumerate(S):\n",
    "    clefs = clefs + str(indice) + \" . \"\n",
    "    T = T + caractere + \" . \"\n",
    "    "
   ]
  },
  {
   "cell_type": "code",
   "execution_count": 15,
   "metadata": {},
   "outputs": [
    {
     "data": {
      "text/plain": [
       "'0 . 1 . 2 . 3 . 4 . 5 . 6 . 7 . 8 . 9 . 10 . 11 . 12 . 13 . 14 . 15 . 16 . 17 . 18 . '"
      ]
     },
     "execution_count": 15,
     "metadata": {},
     "output_type": "execute_result"
    }
   ],
   "source": [
    "clefs"
   ]
  },
  {
   "cell_type": "code",
   "execution_count": 16,
   "metadata": {},
   "outputs": [
    {
     "data": {
      "text/plain": [
       "'C . e . c . i .   . e . s . t .   . u . n . e .   . c . h . a . î . n . e . '"
      ]
     },
     "execution_count": 16,
     "metadata": {},
     "output_type": "execute_result"
    }
   ],
   "source": [
    "T"
   ]
  },
  {
   "cell_type": "markdown",
   "metadata": {},
   "source": [
    "### Lecture individuelle des caractères.\n",
    "\n",
    "La syntaxe est : `chaine[indice]`. \n",
    "\n",
    "Attention : la numérotation commence toujours à `0` et se termine donc à `len(S)-1` (où  `S` est la chaîne considérée ...)"
   ]
  },
  {
   "cell_type": "code",
   "execution_count": 17,
   "metadata": {},
   "outputs": [
    {
     "data": {
      "text/plain": [
       "'C'"
      ]
     },
     "execution_count": 17,
     "metadata": {},
     "output_type": "execute_result"
    }
   ],
   "source": [
    "S[0] # le premier caractere de la chaine est d'indice 0"
   ]
  },
  {
   "cell_type": "code",
   "execution_count": 22,
   "metadata": {},
   "outputs": [
    {
     "data": {
      "text/plain": [
       "'e'"
      ]
     },
     "execution_count": 22,
     "metadata": {},
     "output_type": "execute_result"
    }
   ],
   "source": [
    "S[1]  # le second caractre"
   ]
  },
  {
   "cell_type": "code",
   "execution_count": 24,
   "metadata": {},
   "outputs": [
    {
     "data": {
      "text/plain": [
       "('e', 'e')"
      ]
     },
     "execution_count": 24,
     "metadata": {},
     "output_type": "execute_result"
    }
   ],
   "source": [
    "S[-1] ,  S[len(S) - 1]  # le dernier ! Les deux syntaxes sont équivalentes."
   ]
  },
  {
   "cell_type": "code",
   "execution_count": 20,
   "metadata": {},
   "outputs": [
    {
     "ename": "IndexError",
     "evalue": "string index out of range",
     "output_type": "error",
     "traceback": [
      "\u001b[1;31m---------------------------------------------------------------------------\u001b[0m",
      "\u001b[1;31mIndexError\u001b[0m                                Traceback (most recent call last)",
      "\u001b[1;32m<ipython-input-20-59032790e38a>\u001b[0m in \u001b[0;36m<module>\u001b[1;34m()\u001b[0m\n\u001b[1;32m----> 1\u001b[1;33m \u001b[0mS\u001b[0m\u001b[1;33m[\u001b[0m\u001b[0mlen\u001b[0m\u001b[1;33m(\u001b[0m\u001b[0mS\u001b[0m\u001b[1;33m)\u001b[0m\u001b[1;33m]\u001b[0m \u001b[1;31m# juste après le dernier ?\u001b[0m\u001b[1;33m\u001b[0m\u001b[0m\n\u001b[0m",
      "\u001b[1;31mIndexError\u001b[0m: string index out of range"
     ]
    }
   ],
   "source": [
    "S[len(S)] # juste après le dernier ?"
   ]
  },
  {
   "cell_type": "markdown",
   "metadata": {},
   "source": [
    "> L'erreur `index out of range` signifie que l'on tente de lire un élément au delà de la taille de l'objet (indice en dehors de l'intervalle des indices)."
   ]
  },
  {
   "cell_type": "markdown",
   "metadata": {
    "colab_type": "text",
    "id": "3CdEZSegSWtg"
   },
   "source": [
    "### Extraction de sous-chaînes\n",
    "\n",
    "Il est possible d'extraire une partie d'une sous-chaîne en utilisant l'opérateur `:` (rappelons que `len(l)-1` est le dernier indice de la chaîne). Typiquement cet opérateur fonctionne comme suit : `début : fin : pas`. Le pas est facultatif."
   ]
  },
  {
   "cell_type": "code",
   "execution_count": 25,
   "metadata": {
    "colab": {
     "autoexec": {
      "startup": false,
      "wait_interval": 0
     }
    },
    "colab_type": "code",
    "id": "SatXMO0LSWti",
    "outputId": "5de0bd46-5074-4ba8-b917-7a4146504f49"
   },
   "outputs": [
    {
     "data": {
      "text/plain": [
       "'Ce'"
      ]
     },
     "execution_count": 25,
     "metadata": {},
     "output_type": "execute_result"
    }
   ],
   "source": [
    "S[0:2] # les deux premiers éléments d'indices 0 et 1 (l'indice 2 est exclus)"
   ]
  },
  {
   "cell_type": "code",
   "execution_count": 26,
   "metadata": {},
   "outputs": [
    {
     "data": {
      "text/plain": [
       "'ci est une chaîne'"
      ]
     },
     "execution_count": 26,
     "metadata": {},
     "output_type": "execute_result"
    }
   ],
   "source": [
    "S[2:len(S)] # les éléments restants (l'indice len(l) - qui n'existe pas - est exclu)\n"
   ]
  },
  {
   "cell_type": "code",
   "execution_count": 27,
   "metadata": {},
   "outputs": [
    {
     "data": {
      "text/plain": [
       "'Cc s n hîe'"
      ]
     },
     "execution_count": 27,
     "metadata": {},
     "output_type": "execute_result"
    }
   ],
   "source": [
    "S[0:len(S):2] # les éléments du début à la fin avec un pas de 2\n"
   ]
  },
  {
   "cell_type": "code",
   "execution_count": 28,
   "metadata": {},
   "outputs": [
    {
     "data": {
      "text/plain": [
       "'enîahc enu tse ice'"
      ]
     },
     "execution_count": 28,
     "metadata": {},
     "output_type": "execute_result"
    }
   ],
   "source": [
    "S[len(S)-1:0:-1] #avec un pas négatif on inverse le sens, attention on s'arrête à l'indice 1"
   ]
  },
  {
   "cell_type": "markdown",
   "metadata": {
    "colab_type": "text",
    "id": "n8Id7L30SWtq"
   },
   "source": [
    "Certains paramètres sont optionnels et égaux par défaut à `0`, `len(S)` ou `1`. Ainsi, les trois premières lignes de code ci-dessous renvoient les mêmes listes que ci-dessus (quant à la quatrième il y a une petite différence): "
   ]
  },
  {
   "cell_type": "code",
   "execution_count": 29,
   "metadata": {
    "colab": {
     "autoexec": {
      "startup": false,
      "wait_interval": 0
     }
    },
    "colab_type": "code",
    "id": "PF8CUyj6SWtr",
    "outputId": "4082afae-fdf1-420e-dcf3-f90949e1d30c"
   },
   "outputs": [
    {
     "data": {
      "text/plain": [
       "'Ce'"
      ]
     },
     "execution_count": 29,
     "metadata": {},
     "output_type": "execute_result"
    }
   ],
   "source": [
    "S[:2]"
   ]
  },
  {
   "cell_type": "code",
   "execution_count": 30,
   "metadata": {},
   "outputs": [
    {
     "data": {
      "text/plain": [
       "'ci est une chaîne'"
      ]
     },
     "execution_count": 30,
     "metadata": {},
     "output_type": "execute_result"
    }
   ],
   "source": [
    "S[2:]"
   ]
  },
  {
   "cell_type": "code",
   "execution_count": 31,
   "metadata": {},
   "outputs": [
    {
     "data": {
      "text/plain": [
       "'Cc s n hîe'"
      ]
     },
     "execution_count": 31,
     "metadata": {},
     "output_type": "execute_result"
    }
   ],
   "source": [
    "S[::2]"
   ]
  },
  {
   "cell_type": "code",
   "execution_count": 32,
   "metadata": {},
   "outputs": [
    {
     "data": {
      "text/plain": [
       "'enîahc enu tse iceC'"
      ]
     },
     "execution_count": 32,
     "metadata": {},
     "output_type": "execute_result"
    }
   ],
   "source": [
    "S[::-1]"
   ]
  },
  {
   "cell_type": "markdown",
   "metadata": {
    "colab_type": "text",
    "id": "TL0DY7PySWt0"
   },
   "source": [
    "### Exercice - Mot de passe aléatoire\n",
    "\n",
    "Pour l'exercice qui suit on pourra utiliser la méthode `choice` du module random qui permet de tirer un élément au hasard dans un séquence (en particulier de tirer au hasard un caractère dans une chaîne) :"
   ]
  },
  {
   "cell_type": "code",
   "execution_count": 19,
   "metadata": {
    "colab": {
     "autoexec": {
      "startup": false,
      "wait_interval": 0
     }
    },
    "colab_type": "code",
    "id": "G6GahhBlSWt2",
    "outputId": "c73ecac8-3942-4c3a-b3a4-b19ebf3aaf7e"
   },
   "outputs": [
    {
     "data": {
      "text/plain": [
       "'v'"
      ]
     },
     "execution_count": 19,
     "metadata": {},
     "output_type": "execute_result"
    }
   ],
   "source": [
    "from random import choice\n",
    "\n",
    "alphabet = 'abcdefghijklmnopqrstuvwxyz'\n",
    "\n",
    "choice(alphabet)"
   ]
  },
  {
   "cell_type": "markdown",
   "metadata": {
    "colab_type": "text",
    "id": "61ZeZxD7SWt-"
   },
   "source": [
    "Compléter la fonction ci-dessous afin qu'elle renvoie un mot de passe composé de 8  lettres choisies au hasard dans l'alphabet et de 4 chiffres choisis au hasard. "
   ]
  },
  {
   "cell_type": "code",
   "execution_count": 24,
   "metadata": {
    "colab": {
     "autoexec": {
      "startup": false,
      "wait_interval": 0
     }
    },
    "colab_type": "code",
    "id": "nT8G4yprSWuC"
   },
   "outputs": [
    {
     "data": {
      "text/plain": [
       "'golfhcgg7009'"
      ]
     },
     "execution_count": 24,
     "metadata": {},
     "output_type": "execute_result"
    }
   ],
   "source": [
    "from random import randint, choice\n",
    "\n",
    "def mot_de_passe():\n",
    "    mot = ''\n",
    "    for i in range(8) :\n",
    "        mot = mot + choice(alphabet)\n",
    "    for i in range(4) :\n",
    "        mot = mot + str(randint(0,9))\n",
    "    return mot\n",
    "mot_de_passe()"
   ]
  },
  {
   "cell_type": "markdown",
   "metadata": {
    "colab_type": "text",
    "id": "X6h3stgVSWuJ"
   },
   "source": [
    "<a id='chaines_et_print'></a>\n",
    "[Retour au sommaire](#sommaire)\n",
    "# Chaînes et `print()`\n",
    "\n",
    "Il faut garder en tête que, lorqu'on utilise la fonction `print()`, par défaut l'affichage est réalisé sur une nouvelle ligne. Pour que les affichages successifs soient réalisés sur la même ligne courante de texte on utilisera l'argument optionnel `end`."
   ]
  },
  {
   "cell_type": "code",
   "execution_count": 3,
   "metadata": {
    "colab": {
     "autoexec": {
      "startup": false,
      "wait_interval": 0
     }
    },
    "colab_type": "code",
    "id": "mCXjy7VbSWuL",
    "outputId": "b1b392fd-3cdd-41ab-c0bd-ae162f0c3462"
   },
   "outputs": [
    {
     "name": "stdout",
     "output_type": "stream",
     "text": [
      "TUT 0\n",
      "TUT 1\n",
      "TUT 2\n",
      "TUT 0 - TUT 1 - TUT 2 - "
     ]
    }
   ],
   "source": [
    "for i in range(3):\n",
    "    print('TUT ' + str(i))\n",
    "\n",
    "for i in range(3):\n",
    "    print('TUT ' + str(i), end = ' - ')"
   ]
  },
  {
   "cell_type": "markdown",
   "metadata": {
    "colab_type": "text",
    "id": "NZXNlzIPSWuV"
   },
   "source": [
    "<a id='listes'></a>\n",
    "[Retour au sommaire](#sommaire)\n",
    "# Listes : création, parcours, extraction, min, max et tri\n",
    "\n",
    "Les listes sont un type d'objet particulièrement puissant en Python. Il s'agit d'une séquence d'objets **quelconques** : une liste peut donc représenter une séquence de valeurs entières, une séquence de chaînes de caractères ou **n'importe quelle combinaison** de types de données. \n",
    "\n",
    "Par exemple dans une utilisation dans un cadre mathématique une utilisation typique peut-être :\n",
    "- garder en mémoire un grand nombre de résultats issus de la répétition d'une expérience aléatoire\n",
    "- garder en mémoire toutes les valeurs d'une série statistique\n",
    "- garder en mémoire les coordonnées d'un point de l'espace (liste de longueur 3)\n",
    "- etc."
   ]
  },
  {
   "cell_type": "markdown",
   "metadata": {
    "colab_type": "text",
    "id": "yPhBW1EZSWuW"
   },
   "source": [
    "### Création et longueur d'une liste\n",
    "\n",
    "La création de liste peut s'effectuer de deux façons différentes, soit en utilisant le mot-clé `list`, soit en utilisant les symboles `[]`.\n",
    "\n",
    "La longueur d'une liste `l`s'obtient, comme pour les chaînes de caractères, grâce à `len(l)`"
   ]
  },
  {
   "cell_type": "code",
   "execution_count": 35,
   "metadata": {
    "colab": {
     "autoexec": {
      "startup": false,
      "wait_interval": 0
     }
    },
    "colab_type": "code",
    "id": "k_xyXO9ISWua",
    "outputId": "ecf205e1-a167-4e17-dfd2-58719f615ac9"
   },
   "outputs": [
    {
     "data": {
      "text/plain": [
       "[1, 2, 8, 4, 5]"
      ]
     },
     "execution_count": 35,
     "metadata": {},
     "output_type": "execute_result"
    }
   ],
   "source": [
    "# création d'une liste d'entiers\n",
    "l = [1,2,8,4,5] \n",
    "l"
   ]
  },
  {
   "cell_type": "code",
   "execution_count": 36,
   "metadata": {},
   "outputs": [
    {
     "data": {
      "text/plain": [
       "['A', 2, 5.0, 'B']"
      ]
     },
     "execution_count": 36,
     "metadata": {},
     "output_type": "execute_result"
    }
   ],
   "source": [
    "# création d'une liste contenant différents types \n",
    "l1 = ['A', 2, 5.0, 'B'] \n",
    "l1"
   ]
  },
  {
   "cell_type": "code",
   "execution_count": 37,
   "metadata": {},
   "outputs": [
    {
     "data": {
      "text/plain": [
       "[[1, 2, 8, 4, 5], ['A', 2, 5.0, 'B']]"
      ]
     },
     "execution_count": 37,
     "metadata": {},
     "output_type": "execute_result"
    }
   ],
   "source": [
    "# une liste peut contenir d'autres listes\n",
    "l3 = [l, l1] \n",
    "l3"
   ]
  },
  {
   "cell_type": "code",
   "execution_count": 41,
   "metadata": {},
   "outputs": [
    {
     "data": {
      "text/plain": [
       "10"
      ]
     },
     "execution_count": 41,
     "metadata": {},
     "output_type": "execute_result"
    }
   ],
   "source": [
    "len(l)"
   ]
  },
  {
   "cell_type": "markdown",
   "metadata": {
    "colab_type": "text",
    "id": "Zps06PyYSWui"
   },
   "source": [
    "Il est également possible de *convertir* certains objets en listes en utilisant la fonction `list()`. Par exemple, pour une chaîne de caractères : "
   ]
  },
  {
   "cell_type": "code",
   "execution_count": 42,
   "metadata": {
    "colab": {
     "autoexec": {
      "startup": false,
      "wait_interval": 0
     }
    },
    "colab_type": "code",
    "id": "L1NbbUveSWul",
    "outputId": "1d29767f-dcfa-4f75-f1e7-ee9b88715d7c"
   },
   "outputs": [
    {
     "data": {
      "text/plain": [
       "['C',\n",
       " 'e',\n",
       " 'c',\n",
       " 'i',\n",
       " ' ',\n",
       " 'n',\n",
       " \"'\",\n",
       " 'e',\n",
       " 's',\n",
       " 't',\n",
       " ' ',\n",
       " 'p',\n",
       " 'a',\n",
       " 's',\n",
       " ' ',\n",
       " 'u',\n",
       " 'n',\n",
       " ' ',\n",
       " 't',\n",
       " 'e',\n",
       " 's',\n",
       " 't']"
      ]
     },
     "execution_count": 42,
     "metadata": {},
     "output_type": "execute_result"
    }
   ],
   "source": [
    "chaine = \"Ceci n'est pas un test\"\n",
    "list(chaine)"
   ]
  },
  {
   "cell_type": "markdown",
   "metadata": {
    "colab_type": "text",
    "id": "78LtHvFySWu0"
   },
   "source": [
    "### Parcours et manipulation\n",
    "\n",
    "Comme pour les chaînes de caractères, les symboles `[]` permettent d'accéder aux éléments contenus dans une liste. \n",
    "\n",
    "> Les listes sont **mutables**, c'est-à-dire que l'on peut modifier les valeurs des éléments (ce n'était pas le cas des chaînes de caractères). \n",
    "\n",
    "Les listes étant des séquences, il est possible de les parcourir en utilisant une boucle `for` ou `while`, selon les besoins."
   ]
  },
  {
   "cell_type": "code",
   "execution_count": 7,
   "metadata": {
    "colab": {
     "autoexec": {
      "startup": false,
      "wait_interval": 0
     }
    },
    "colab_type": "code",
    "id": "D5eBNCXVSWu1",
    "outputId": "75923d4a-e1cf-4852-8c30-c77ad2ba54f2"
   },
   "outputs": [
    {
     "data": {
      "text/plain": [
       "'tom'"
      ]
     },
     "execution_count": 7,
     "metadata": {},
     "output_type": "execute_result"
    }
   ],
   "source": [
    "l = ['joe', 'tom', 'zoé', 'tim', 'anna']\n",
    "l[1] # élément de rang 1 - les rangs commencent à 0"
   ]
  },
  {
   "cell_type": "code",
   "execution_count": 5,
   "metadata": {},
   "outputs": [
    {
     "data": {
      "text/plain": [
       "['joe', 'tom', 5, 'tim', 'ana']"
      ]
     },
     "execution_count": 5,
     "metadata": {},
     "output_type": "execute_result"
    }
   ],
   "source": [
    "# modification du deuxième élément de la liste, CE QUI N'EST PAS POSSIBLE AVEC LES CHAINES\n",
    "l[2] = 5\n",
    "l"
   ]
  },
  {
   "cell_type": "code",
   "execution_count": 6,
   "metadata": {},
   "outputs": [
    {
     "name": "stdout",
     "output_type": "stream",
     "text": [
      "joe tom 5 tim ana "
     ]
    }
   ],
   "source": [
    "# parcours avec une boucle for : plus simple qu'avec while\n",
    "for elt in l: # à traduire par : \"pour chaque élément elt de la liste l faire :\"\n",
    "    print(elt, end=' ')"
   ]
  },
  {
   "cell_type": "code",
   "execution_count": 49,
   "metadata": {},
   "outputs": [
    {
     "name": "stdout",
     "output_type": "stream",
     "text": [
      "l[ 0 ] =  1\n",
      "l[ 1 ] =  -2\n",
      "l[ 2 ] =  5\n",
      "l[ 3 ] =  7\n",
      "l[ 4 ] =  9\n",
      "l[ 5 ] =  8\n",
      "l[ 6 ] =  7\n",
      "l[ 7 ] =  6\n",
      "l[ 8 ] =  5\n",
      "l[ 9 ] =  4\n"
     ]
    }
   ],
   "source": [
    "# parcours avec une boucle for / enumerate : moins simple mais on a accès à l'indice auquel on se trouve\n",
    "for (i, elt) in enumerate(l):\n",
    "    print(\"l[\",i,\"] = \",elt)"
   ]
  },
  {
   "cell_type": "markdown",
   "metadata": {
    "colab_type": "text",
    "id": "hz4IDG0iSWu7"
   },
   "source": [
    "### Extraction de sous-listes\n",
    "\n",
    "Comme pour les chaînes de caractères, il est également possible d'extraire une partie de la liste en utilisant l'opérateur `:` (rappelons que `len(l)-1` est le dernier indice de la liste)"
   ]
  },
  {
   "cell_type": "code",
   "execution_count": 50,
   "metadata": {
    "colab": {
     "autoexec": {
      "startup": false,
      "wait_interval": 0
     }
    },
    "colab_type": "code",
    "id": "7p_DQ4oJSWu9",
    "outputId": "03d572c5-aa41-40a1-b036-f407da2b6183"
   },
   "outputs": [
    {
     "data": {
      "text/plain": [
       "[1, -2]"
      ]
     },
     "execution_count": 50,
     "metadata": {},
     "output_type": "execute_result"
    }
   ],
   "source": [
    "l[0:2] # les deux premiers éléments d'indices 0 et 1 (l'indice 2 est exclus)"
   ]
  },
  {
   "cell_type": "code",
   "execution_count": 51,
   "metadata": {},
   "outputs": [
    {
     "data": {
      "text/plain": [
       "[5, 7, 9, 8, 7, 6, 5, 4]"
      ]
     },
     "execution_count": 51,
     "metadata": {},
     "output_type": "execute_result"
    }
   ],
   "source": [
    "l[2:len(l)] #  les éléments restants (l'indice len(l) - qui n'existe pas - est exclu)"
   ]
  },
  {
   "cell_type": "code",
   "execution_count": 52,
   "metadata": {},
   "outputs": [
    {
     "data": {
      "text/plain": [
       "[1, 5, 9, 7, 5]"
      ]
     },
     "execution_count": 52,
     "metadata": {},
     "output_type": "execute_result"
    }
   ],
   "source": [
    "l[0:len(l):2] #  les éléments du début à la fin avec un pas de 2"
   ]
  },
  {
   "cell_type": "code",
   "execution_count": 53,
   "metadata": {},
   "outputs": [
    {
     "data": {
      "text/plain": [
       "[4, 5, 6, 7, 8, 9, 7, 5, -2]"
      ]
     },
     "execution_count": 53,
     "metadata": {},
     "output_type": "execute_result"
    }
   ],
   "source": [
    "l[len(l)-1:0:-1] #avec un pas négatif on inverse le sens, attention on s'arrête à l'indice 1"
   ]
  },
  {
   "cell_type": "markdown",
   "metadata": {
    "colab_type": "text",
    "id": "jUv9YpU3SWvE"
   },
   "source": [
    "Certains paramètres sont optionnels et égaux par défaut à `0`, `len(l)` ou `1`. Ainsi, les trois premières lignes de code ci-dessous renvoient les mêmes listes que ci-dessus (quant à la quatrième il y a une petite différence): "
   ]
  },
  {
   "cell_type": "code",
   "execution_count": 54,
   "metadata": {
    "colab": {
     "autoexec": {
      "startup": false,
      "wait_interval": 0
     }
    },
    "colab_type": "code",
    "id": "wmOYtaA1SWvG",
    "outputId": "0bfb0e08-865f-47c1-f599-0824bd2bbd2d"
   },
   "outputs": [
    {
     "data": {
      "text/plain": [
       "[1, -2]"
      ]
     },
     "execution_count": 54,
     "metadata": {},
     "output_type": "execute_result"
    }
   ],
   "source": [
    "l[:2]"
   ]
  },
  {
   "cell_type": "code",
   "execution_count": 55,
   "metadata": {},
   "outputs": [
    {
     "data": {
      "text/plain": [
       "[5, 7, 9, 8, 7, 6, 5, 4]"
      ]
     },
     "execution_count": 55,
     "metadata": {},
     "output_type": "execute_result"
    }
   ],
   "source": [
    "l[2:]\n"
   ]
  },
  {
   "cell_type": "code",
   "execution_count": 56,
   "metadata": {},
   "outputs": [
    {
     "data": {
      "text/plain": [
       "[1, 5, 9, 7, 5]"
      ]
     },
     "execution_count": 56,
     "metadata": {},
     "output_type": "execute_result"
    }
   ],
   "source": [
    "l[::2]"
   ]
  },
  {
   "cell_type": "code",
   "execution_count": 57,
   "metadata": {},
   "outputs": [
    {
     "data": {
      "text/plain": [
       "[4, 5, 6, 7, 8, 9, 7, 5, -2, 1]"
      ]
     },
     "execution_count": 57,
     "metadata": {},
     "output_type": "execute_result"
    }
   ],
   "source": [
    "l[::-1]"
   ]
  },
  {
   "cell_type": "markdown",
   "metadata": {
    "colab_type": "text",
    "id": "AKwhJ48iSWvS"
   },
   "source": [
    "### Exercice - Minimum/Maximum\n",
    "\n",
    "Ecrire une fonction permettant de trouver le **maximum** d'une liste d'entiers. Votre fonction devra renvoyer le maximum **et** sa position dans la liste (s'il apparaît plusieurs fois, renvoyer le plus petit indice) **sans utiliser la remarque ci-dessous bien entendu !**"
   ]
  },
  {
   "cell_type": "code",
   "execution_count": 15,
   "metadata": {
    "colab": {
     "autoexec": {
      "startup": false,
      "wait_interval": 0
     }
    },
    "colab_type": "code",
    "id": "dDpTROJlSWvT"
   },
   "outputs": [
    {
     "data": {
      "text/plain": [
       "(321.85, 4)"
      ]
     },
     "execution_count": 15,
     "metadata": {},
     "output_type": "execute_result"
    }
   ],
   "source": [
    "l = [ 5.2, 1.5, 8.1, 13.33, 321.85, 2.5, 43.0, 5.6, 3.67, 3.124, 9.8 ]\n",
    "## CODE A INSERER ##\n",
    "def trouver_max_position ( liste ) :\n",
    "   maxi = liste[0] \n",
    "   rang = 0\n",
    "   for i in range(len(liste)) :\n",
    "        if liste[i] > maxi :\n",
    "            maxi = liste[i]\n",
    "            rang = i\n",
    "   return maxi,rang\n",
    "\n",
    "trouver_max_position ( l )\n"
   ]
  },
  {
   "cell_type": "markdown",
   "metadata": {
    "colab_type": "text",
    "id": "jyHln_3WfwtE"
   },
   "source": [
    "#### Remarque : \n",
    "\n",
    "Trouver le minimum ou le maximum d'une liste de nombres (ou de chaînes de caractères - en considérant l'ordre alphabétique) est une tâche fréquemment rencontrée. Par conséquent les concepteurs du langage python ont pensé aux programmeurs et ont créé deux fonctions idoines pour obtenir le minimum et le maximum d'une liste : il s'agit des méthodes `min()` et `max()`.\n",
    "\n",
    "Profitons-en au passage pour signaler qu'on dispose aussi d'une méthode `sorted()` pour renvoyer une copie de la liste triée par ordre croissant (fort utile : par exemple pour faire des statistiques ... par exemple après avoir stocké des résultats d'une simulation probabiliste dans une liste ...).\n",
    "Attention : la méthode `sorted()` ne trie pas la liste fournie ! Elle retourne une nouvelle liste, copie triée de la liste fournie."
   ]
  },
  {
   "cell_type": "code",
   "execution_count": 58,
   "metadata": {
    "colab": {
     "autoexec": {
      "startup": false,
      "wait_interval": 0
     }
    },
    "colab_type": "code",
    "collapsed": true,
    "id": "GxxvLpcifwtO",
    "outputId": "3c035fd3-ae7b-4889-9856-d0360243bf6f"
   },
   "outputs": [],
   "source": [
    "ma_liste = [3, 6, 8, 3, 4, 1, 0, 8, 5, 8, 9, 4, 10, 9, 8, 7]\n",
    "ta_liste = ['teckel', 'chihuahua', 'yorkshire', 'épagneul', 'chow-chow']\n",
    "\n",
    "m = min(ma_liste)\n",
    "M = max(ta_liste) #comment sont pris en compte les accents dans l'ordre alphabétique ?\n",
    "\n",
    "ma_liste_triee = sorted(ma_liste)\n"
   ]
  },
  {
   "cell_type": "code",
   "execution_count": 59,
   "metadata": {},
   "outputs": [
    {
     "data": {
      "text/plain": [
       "0"
      ]
     },
     "execution_count": 59,
     "metadata": {},
     "output_type": "execute_result"
    }
   ],
   "source": [
    "m"
   ]
  },
  {
   "cell_type": "code",
   "execution_count": 60,
   "metadata": {},
   "outputs": [
    {
     "data": {
      "text/plain": [
       "'épagneul'"
      ]
     },
     "execution_count": 60,
     "metadata": {},
     "output_type": "execute_result"
    }
   ],
   "source": [
    "M"
   ]
  },
  {
   "cell_type": "code",
   "execution_count": 61,
   "metadata": {},
   "outputs": [
    {
     "data": {
      "text/plain": [
       "[0, 1, 3, 3, 4, 4, 5, 6, 7, 8, 8, 8, 8, 9, 9, 10]"
      ]
     },
     "execution_count": 61,
     "metadata": {},
     "output_type": "execute_result"
    }
   ],
   "source": [
    "ma_liste_triee"
   ]
  },
  {
   "cell_type": "code",
   "execution_count": 62,
   "metadata": {},
   "outputs": [
    {
     "data": {
      "text/plain": [
       "[3, 6, 8, 3, 4, 1, 0, 8, 5, 8, 9, 4, 10, 9, 8, 7]"
      ]
     },
     "execution_count": 62,
     "metadata": {},
     "output_type": "execute_result"
    }
   ],
   "source": [
    "ma_liste    # non modifiée !"
   ]
  },
  {
   "cell_type": "markdown",
   "metadata": {
    "colab_type": "text",
    "id": "8xiInOtVSWvY"
   },
   "source": [
    "<a id='methodes_de_listes'></a>\n",
    "[Retour au sommaire](#sommaire)\n",
    "# Méthodes de listes : `append(), insert(), remove(), extend()`\n",
    "\n",
    "Les listes étant des objets, il est possible de leur appliquer de nombreuses *méthodes*. Contrairement aux chaînes de caractères, ces méthodes modifient **directement** la liste à laquelle elles s'appliquent (rappelons que les méthodes des chaînes de caractères renvoyaient elles une nouvelle chaîne). En voici quelques exemples :"
   ]
  },
  {
   "cell_type": "code",
   "execution_count": 63,
   "metadata": {
    "colab": {
     "autoexec": {
      "startup": false,
      "wait_interval": 0
     }
    },
    "colab_type": "code",
    "id": "ObPsVQckSWvZ",
    "outputId": "a679568b-a0e6-4330-dda6-132c0018af75"
   },
   "outputs": [
    {
     "data": {
      "text/plain": [
       "[1]"
      ]
     },
     "execution_count": 63,
     "metadata": {},
     "output_type": "execute_result"
    }
   ],
   "source": [
    "l = []\n",
    "l.append(1) # ajout d'une nouvelle valeur en fin de liste\n",
    "l"
   ]
  },
  {
   "cell_type": "code",
   "execution_count": 64,
   "metadata": {},
   "outputs": [
    {
     "data": {
      "text/plain": [
       "[1, 0, 1, 4, 9, 16, 25, 36, 49, 64, 81]"
      ]
     },
     "execution_count": 64,
     "metadata": {},
     "output_type": "execute_result"
    }
   ],
   "source": [
    "for i in range(10): #procédé très fréquent pour remplir une liste séquentiellement\n",
    "    l.append(i*i)\n",
    "l"
   ]
  },
  {
   "cell_type": "code",
   "execution_count": 65,
   "metadata": {},
   "outputs": [
    {
     "data": {
      "text/plain": [
       "[1, 0, [], 1, 4, 9, 16, 25, 36, 49, 64, 81]"
      ]
     },
     "execution_count": 65,
     "metadata": {},
     "output_type": "execute_result"
    }
   ],
   "source": [
    "l.insert(2, []) # insère une liste vide en position 2\n",
    "l"
   ]
  },
  {
   "cell_type": "code",
   "execution_count": 66,
   "metadata": {},
   "outputs": [
    {
     "data": {
      "text/plain": [
       "[1, 0, [], 1, 4, 16, 25, 36, 49, 64, 81]"
      ]
     },
     "execution_count": 66,
     "metadata": {},
     "output_type": "execute_result"
    }
   ],
   "source": [
    "l.remove(9) # suppression d'une valeur de la liste (uniquement la première occurence)\n",
    "l"
   ]
  },
  {
   "cell_type": "code",
   "execution_count": 67,
   "metadata": {},
   "outputs": [
    {
     "data": {
      "text/plain": [
       "[1, 0, [], 1, 4, 16, 25, 36, 49, 64, 81, 'liste', 'de', 'mots']"
      ]
     },
     "execution_count": 67,
     "metadata": {},
     "output_type": "execute_result"
    }
   ],
   "source": [
    "l1 = [\"liste\", \"de\", \"mots\"]\n",
    "l.extend(l1) # ajoute les éléments de la liste l1 à la fin de l\n",
    "l"
   ]
  },
  {
   "cell_type": "markdown",
   "metadata": {
    "colab_type": "text",
    "id": "5WLXcuioSWvf"
   },
   "source": [
    "### La commande help\n",
    "\n",
    "> Pour une liste exhaustive, utiliser la commande `help(list)`"
   ]
  },
  {
   "cell_type": "code",
   "execution_count": 0,
   "metadata": {
    "colab": {
     "autoexec": {
      "startup": false,
      "wait_interval": 0
     }
    },
    "colab_type": "code",
    "collapsed": true,
    "id": "zLLYlozkSWvh"
   },
   "outputs": [],
   "source": [
    "help(list)"
   ]
  },
  {
   "cell_type": "markdown",
   "metadata": {
    "colab_type": "text",
    "id": "ivug_uOjfwt9"
   },
   "source": [
    "<a id='representer_liste'></a>\n",
    "[Retour au sommaire](#sommaire)\n",
    "# Représenter graphiquement une suite : `plot()`"
   ]
  },
  {
   "cell_type": "markdown",
   "metadata": {
    "colab_type": "text",
    "id": "FonDLoCPfwuC"
   },
   "source": [
    "Pour utiliser la méthode plot, il suffit simplement d'importer la bibliothèque `matplotlib.pyplot` et de demander ensuite à `matplotlib.pyplot` de tracer ce que l'on souhaite en lui demandant d'exécuter la méthode `plot()` (to plot : tracer un graphique).\n",
    "\n",
    "Puisque `matplotlib.pyplot` est un peu long à écrire on peut, lors de l'import du module, lui donner un nom diminutif (au même titre que \"Jean-Baptiste\" donne \"Jeanbat\"). Traditionnellement ce diminutif est `plt` (mais si vous souhaitez vous pouvez choisir ce que vous voulez ... libre à vous).\n",
    "\n",
    "Cette commande permet de tracer une courbe ou un nuage de points à partir d'une liste d'ordonnées.\n",
    "La liste des abscisses est optionnelle.\n",
    "\n",
    "Voyons un exemple (supprimez ensuite les abscisses pour voir ce que ça donne) :"
   ]
  },
  {
   "cell_type": "code",
   "execution_count": 0,
   "metadata": {
    "colab": {
     "autoexec": {
      "startup": false,
      "wait_interval": 0
     }
    },
    "colab_type": "code",
    "id": "8lkP_EowfwuE",
    "outputId": "546b905b-4ff2-4d33-9367-f40bbaf18358"
   },
   "outputs": [
    {
     "data": {
      "image/png": "[encoded data removed]",
      "text/plain": [
       "<matplotlib.figure.Figure at 0x1d3d596e0b8>"
      ]
     },
     "metadata": {
      "tags": []
     },
     "output_type": "display_data"
    }
   ],
   "source": [
    "import matplotlib.pyplot as plt #on importe le module en lui donnant le joli nom de 'plt'\n",
    "\n",
    "ordo1 = [5, 3, 5, 3, 5, 1, 7]\n",
    "absc1 = [12, 14, 16, 18, 20, 25, 30]       \n",
    "\n",
    "plt.plot(absc1, ordo1) #équivaut à \"matplotlib.pyplot, s'il te plait, trace un graphique\"\n",
    "plt.show() #et ne le garde pas pour toi : montre le à l'écran ... merci :)"
   ]
  },
  {
   "cell_type": "markdown",
   "metadata": {
    "colab_type": "text",
    "id": "K7PFqRO6fwu2"
   },
   "source": [
    "Certes, mais on n'a pas un nuage de points ! En fait on dispose d'un \n",
    "autre paramètre optionnel que les abscisses. C'est le format de tracé. Il s'agit d'une chaîne de caractères qui permet de préciser dans l'ordre :\n",
    "- la couleur\n",
    "- le type de marqueur de points\n",
    "- le type de tracé de ligne\n",
    "\n",
    "**Pour la couleur :**\n",
    "\n",
    "'b'     blue,\n",
    "'g' \tgreen,\n",
    "'r' \tred,\n",
    "'c' \tcyan,\n",
    "'m' \tmagenta,\n",
    "'y' \tyellow,\n",
    "'k' \tblack,\n",
    "'w' \twhite.\n",
    "\n",
    "\n",
    "**Pour les marqueurs de points :**\n",
    "\n",
    "'.' \tpoint    ,\n",
    "',' \tpixel    ,\n",
    "'o' \tcercle    ,\n",
    "'v' \ttriangle bas   ,\n",
    "'^' \ttriangle haut   ,\n",
    "'<' \ttriangle gauche   ,\n",
    "'>' \ttriangle droit   ,\n",
    "'1' \taccent circonflexe bas    ,\n",
    "'2' \taccent circonflexe haut    ,\n",
    "'3' \taccent circonflexe gauche    ,\n",
    "'4' \taccent circonflexe droit    ,\n",
    "'s' \tcarré   ,\n",
    "'p' \tpentagone   ,\n",
    "'$\\star$' \tétoile   ,\n",
    "'h' \thexagone 1   ,\n",
    "'H' \thexagone 2   ,\n",
    "'+' \tplus   ,\n",
    "'x' \tx    ,\n",
    "'D' \tdiamant   ,\n",
    "'d' \tpetit diamant   ,\n",
    "'|' \ttrait vertical   ,\n",
    "'\\_' \ttrait horizontal   .\n",
    "\n",
    "\n",
    "**Pour les tracés de ligne :**\n",
    "\n",
    "'-' \tligne pleine,\n",
    "'--' \tligne discontinue,\n",
    "'-.' \tligne discontinue et pointillée,\n",
    "':' \tligne pointillée.\n",
    "\n",
    "L'absence de caractère équivaut à ne pas tracer de ligne, c'est à dire à tracer un nuage de points.\n",
    "\n",
    "**Exemple :**\n",
    "\n",
    "l'argument 'co-' permet de tracer en couleur cyan, avec des cercles en marqueurs de points, points reliés par une ligne pleine."
   ]
  },
  {
   "cell_type": "code",
   "execution_count": 0,
   "metadata": {
    "colab": {
     "autoexec": {
      "startup": false,
      "wait_interval": 0
     }
    },
    "colab_type": "code",
    "id": "YwSAS_2vfwu5",
    "outputId": "163d12a5-7994-4c06-dcb2-54c015f34d86"
   },
   "outputs": [
    {
     "data": {
      "image/png": "[encoded data removed]",
      "text/plain": [
       "<matplotlib.figure.Figure at 0x1d3d7c97320>"
      ]
     },
     "metadata": {
      "tags": []
     },
     "output_type": "display_data"
    },
    {
     "data": {
      "image/png": "[encoded data removed]",
      "text/plain": [
       "<matplotlib.figure.Figure at 0x1d3d7c68630>"
      ]
     },
     "metadata": {
      "tags": []
     },
     "output_type": "display_data"
    }
   ],
   "source": [
    "import matplotlib.pyplot as Medor #pourquoi pas ?\n",
    "\n",
    "ordo1 = [5, 3, 5, 3, 5, 1, 7]\n",
    "ordo2 = [8, 6, 8, 6, 8, 4, 10] #la même que ordo1 augmentée de 3\n",
    "ordo3 = [-5, -3, -5, -3, -5, -1, -7]\n",
    "absc = [10, 11, 14, 13, 18, 20, 22]       \n",
    "\n",
    "#avec abscisses\n",
    "Medor.plot(absc, ordo1, 'rD--') #ligne pointillés rouges avec points diamants\n",
    "Medor.plot(absc, ordo2, 'co') #nuage de points cercles - on y est enfin - cyan\n",
    "Medor.show()\n",
    "\n",
    "#sans abscisses\n",
    "Medor.plot(ordo3, 'gx')\n",
    "Medor.show()"
   ]
  },
  {
   "cell_type": "markdown",
   "metadata": {
    "colab_type": "text",
    "id": "ToN-8YFIfwvC"
   },
   "source": [
    "### Exercice :\n",
    "\n",
    "Ecrire une fonction permettant de stocker dans une liste les cinquante premiers termes de la suite géométrique $u$ de terme initial $u_0=1$ et de raison $q = -1,02$ puis les représenter graphiquement.\n",
    "\n",
    "Note : une suite géométrique de raison $q$ est une suite de nombres dont chaque terme est égal au terme précédent multiplié par $q$. Par exemple les premiers termes d'une suite géométrique de premier terme $4$ et de raison 2 sont : $4, 8, 16, 32, 64, 128 ...$"
   ]
  },
  {
   "cell_type": "code",
   "execution_count": 9,
   "metadata": {
    "colab": {
     "autoexec": {
      "startup": false,
      "wait_interval": 0
     }
    },
    "colab_type": "code",
    "id": "wKpLoFuGfwvF"
   },
   "outputs": [
    {
     "data": {
      "image/png": "[encoded data removed]",
      "text/plain": [
       "<matplotlib.figure.Figure at 0x25e7b6e6438>"
      ]
     },
     "metadata": {},
     "output_type": "display_data"
    }
   ],
   "source": [
    "import matplotlib.pyplot as plt\n",
    "\n",
    "def tracer_suite():\n",
    "    q=-1.02\n",
    "    absci = []\n",
    "    ordo = []\n",
    "    for i in range (0,50) :\n",
    "        absci.append(i)\n",
    "        ordo.append(q**i)\n",
    "    plt.plot(absci,ordo,'co')\n",
    "    plt.show()\n",
    "    return #\n",
    "tracer_suite()"
   ]
  },
  {
   "cell_type": "markdown",
   "metadata": {
    "colab_type": "text",
    "id": "uhnMGEQoSWvl"
   },
   "source": [
    "\n",
    "<a id='operateur_in'></a>\n",
    "[Retour au sommaire](#sommaire)\n",
    "# Opérateur `in`\n",
    "\n",
    "Puisque nous venons de voir les chaînes de caractères et les listes, il est possible de voir l'opérateur `in` qui permet de tester la présence d'une (a priori petite) chaîne de caractères dans une (a priori plus grande) chaîne de caractères ou de tester la présence d'un élément dans une liste. Cet opérateur vous sera sans doute utile pour l'exercice suivant."
   ]
  },
  {
   "cell_type": "code",
   "execution_count": 68,
   "metadata": {
    "colab": {
     "autoexec": {
      "startup": false,
      "wait_interval": 0
     }
    },
    "colab_type": "code",
    "id": "8qfOFHjSSWvn",
    "outputId": "c3b0f109-555b-4198-ea0c-397eab39fa7c"
   },
   "outputs": [
    {
     "data": {
      "text/plain": [
       "True"
      ]
     },
     "execution_count": 68,
     "metadata": {},
     "output_type": "execute_result"
    }
   ],
   "source": [
    "'k' in 'koala'"
   ]
  },
  {
   "cell_type": "code",
   "execution_count": 69,
   "metadata": {},
   "outputs": [
    {
     "data": {
      "text/plain": [
       "False"
      ]
     },
     "execution_count": 69,
     "metadata": {},
     "output_type": "execute_result"
    }
   ],
   "source": [
    "'7' in [5, 6, 7, 8]"
   ]
  },
  {
   "cell_type": "code",
   "execution_count": 70,
   "metadata": {},
   "outputs": [
    {
     "data": {
      "text/plain": [
       "True"
      ]
     },
     "execution_count": 70,
     "metadata": {},
     "output_type": "execute_result"
    }
   ],
   "source": [
    "7 in [5, 6, 7, 8]"
   ]
  },
  {
   "cell_type": "code",
   "execution_count": 71,
   "metadata": {},
   "outputs": [
    {
     "data": {
      "text/plain": [
       "True"
      ]
     },
     "execution_count": 71,
     "metadata": {},
     "output_type": "execute_result"
    }
   ],
   "source": [
    "99 not in [5, 6, 7, 8]"
   ]
  },
  {
   "cell_type": "code",
   "execution_count": 73,
   "metadata": {},
   "outputs": [
    {
     "data": {
      "text/plain": [
       "True"
      ]
     },
     "execution_count": 73,
     "metadata": {},
     "output_type": "execute_result"
    }
   ],
   "source": [
    "'nbe' in 'gutenberg'"
   ]
  },
  {
   "cell_type": "markdown",
   "metadata": {
    "colab_type": "text",
    "id": "VvomK1DeSWvt"
   },
   "source": [
    "<a id='exercice_parcours'></a>\n",
    "[Retour au sommaire](#sommaire)\n",
    "# Exercice - Parcours d'une liste de mots\n",
    "\n",
    "Nous allons utiliser une liste de 336531 mots (issue du projet gutenberg) qu'il faudra parcourir.\n",
    "Pour que cette liste `liste_mots` soit disponible il suffit d'exécuter la cellule ci-dessous qui importe un module définissant la liste `liste_mots`."
   ]
  },
  {
   "cell_type": "code",
   "execution_count": 1,
   "metadata": {
    "colab": {
     "autoexec": {
      "startup": false,
      "wait_interval": 0
     }
    },
    "colab_type": "code",
    "collapsed": true,
    "id": "7LlfN6d6SWvu"
   },
   "outputs": [],
   "source": [
    "from module_chaines_listes_dicos import *"
   ]
  },
  {
   "cell_type": "markdown",
   "metadata": {
    "colab_type": "text",
    "id": "WO8Vfh6NSWvy"
   },
   "source": [
    "Cette liste contenant 336531 mots, il est normal qu'elle mette un peu de temps à être lue par le notebook ... Ne vous amusez par ailleurs pas à faire un `print(liste_mots)` car pour afficher les 336 531 mots à l'écran, cela risque de prendre du temps ...\n",
    "\n",
    "Une fois la cellule ci-dessus exécutée on peut désormais accéder à différents éléments de cette liste (triée par ordre alphabétique). En voici quelques exemples :"
   ]
  },
  {
   "cell_type": "code",
   "execution_count": 2,
   "metadata": {
    "colab": {
     "autoexec": {
      "startup": false,
      "wait_interval": 0
     }
    },
    "colab_type": "code",
    "id": "yUVZqkwUSWv0",
    "outputId": "2f50ecb7-0b6e-46ea-dddc-82db612935fa"
   },
   "outputs": [
    {
     "data": {
      "text/plain": [
       "('a', 'à', 'abaissa', 'zythum')"
      ]
     },
     "execution_count": 2,
     "metadata": {},
     "output_type": "execute_result"
    }
   ],
   "source": [
    "(liste_mots[0], liste_mots[1], liste_mots[2],liste_mots[336530])"
   ]
  },
  {
   "cell_type": "markdown",
   "metadata": {
    "colab_type": "text",
    "id": "hAk4JIadSWv_"
   },
   "source": [
    "Ecrire une fonction prenant en argument `liste_mots` et permettant de sélectionner dans la liste `liste_mots` les mots \n",
    "de longueur supérieure ou égale à 10 et dont les première et troisième lettres sont la lettre z.\n",
    "Les mots qui conviennent seront stockés dans une liste qui sera retournée par la fonction."
   ]
  },
  {
   "cell_type": "code",
   "execution_count": null,
   "metadata": {
    "colab": {
     "autoexec": {
      "startup": false,
      "wait_interval": 0
     }
    },
    "colab_type": "code",
    "id": "ZbmLKPyHSWwD"
   },
   "outputs": [],
   "source": [
    "from module_chaines_listes_dicos import *\n",
    "from random import randint\n",
    "\n",
    "def selection_mots(liste_mots) :\n",
    "    L=[]\n",
    "    for mot in liste_mots :\n",
    "        for i in range(0,len(mot))\n",
    "            \n",
    "            if mot[i]== mot[len(mot)-i] :\n",
    "                L.append(mot)\n",
    "                \n",
    "    return L\n",
    "#Liste= [liste_mots[randint(0,len(liste_mots))]  for i in range(500) ]\n",
    "\n",
    "selection_mots(liste_mots)\n"
   ]
  },
  {
   "cell_type": "markdown",
   "metadata": {
    "colab_type": "text",
    "id": "MohOx7MBSWwL"
   },
   "source": [
    "Modifier alors successivement cette fonction pour qu'elle sélectionne :\n",
    "- les mots contenant les six voyelles a, e, i, o, u, y à la fois.\n",
    "- les palindromes\n",
    "- les mots dont une lettre sur deux est un i (c'est à dire de la forme i\\*i\\*i\\*i\\*i... ou \\*i\\*i\\*i\\*i...)\n",
    "- les mots comportant au moins six fois une même voyelle (sans accents)\n",
    "- ...\n",
    "\n",
    "Remarque : On pourra utiliser la méthode `count` ..."
   ]
  },
  {
   "cell_type": "code",
   "execution_count": 1,
   "metadata": {
    "colab": {
     "autoexec": {
      "startup": false,
      "wait_interval": 0
     }
    },
    "colab_type": "code",
    "id": "qwKV3BbtSWwN"
   },
   "outputs": [
    {
     "data": {
      "text/plain": [
       "5"
      ]
     },
     "execution_count": 1,
     "metadata": {},
     "output_type": "execute_result"
    }
   ],
   "source": [
    "'abracadabra'.count('a')"
   ]
  },
  {
   "cell_type": "markdown",
   "metadata": {
    "colab_type": "text",
    "id": "o_HnZiLZSWwS"
   },
   "source": [
    "## <a id='exercice_cadavre_exquis'></a>\n",
    "[Retour au sommaire](#sommaire)\n",
    "# Exercice - Cadavre Exquis\n",
    "\n",
    "Pour l'exercice qui suit on pourra utiliser la méthode `choice` du module random qui permet de tirer un élément au hasard dans un séquence (en particulier de tirer au hasard un élément d'une liste) :"
   ]
  },
  {
   "cell_type": "code",
   "execution_count": 2,
   "metadata": {
    "colab": {
     "autoexec": {
      "startup": false,
      "wait_interval": 0
     }
    },
    "colab_type": "code",
    "id": "XUEQNE5_SWwT",
    "outputId": "b8d36b3e-6d55-4dda-f233-78d2b0047ae6"
   },
   "outputs": [
    {
     "data": {
      "text/plain": [
       "'café'"
      ]
     },
     "execution_count": 2,
     "metadata": {},
     "output_type": "execute_result"
    }
   ],
   "source": [
    "from random import*\n",
    "\n",
    "liste_boissons = [\"thé\", \"café\", \"chocolat\"]\n",
    "boisson = choice(liste_boissons)\n",
    "boisson"
   ]
  },
  {
   "cell_type": "markdown",
   "metadata": {
    "colab_type": "text",
    "id": "zrau62UmSWwa"
   },
   "source": [
    "Compléter la fonction suivante afin qu'elle retourne un cadavre exquis, c'est à dire une phrase aléatoire :\n",
    "- le sujet de la phrase est choisi au hasard dans la liste S\n",
    "- le verbe au hasard dans la liste V\n",
    "- le complément d'objet au hasard dans la liste C\n",
    "- le complément circonstanciel au hasard dans la liste CC\n",
    "\n",
    "Attention, la contrainte suivante devra être respectée : le type de la variable retournée doit être une chaîne de caractères (utilisation de la concaténation) et NON PAS une liste de chaînes de caractère (utilisation de `append`)."
   ]
  },
  {
   "cell_type": "code",
   "execution_count": 42,
   "metadata": {
    "colab": {
     "autoexec": {
      "startup": false,
      "wait_interval": 0
     }
    },
    "colab_type": "code",
    "id": "sN4LPAKuSWwb"
   },
   "outputs": [
    {
     "data": {
      "text/plain": [
       "'Le promeneur désabusé  regarde  une éclipse de lune  en ricanant.'"
      ]
     },
     "execution_count": 42,
     "metadata": {},
     "output_type": "execute_result"
    }
   ],
   "source": [
    "from random import*\n",
    "\n",
    "def engendrer_cadavre_exquis():\n",
    "    S = [\"Le chien \", \"Le promeneur désabusé \", \"Pinocchio \", \"Le formateur \"]\n",
    "    V = [\"mange \", \"regarde \", \"attend \", \"essaie de corriger \"]\n",
    "    C = [\"un schtroumpf \", \"une galinette cendrée \", \"une éclipse de lune \", \"un algorithme \"]\n",
    "    CC = [\"en ricanant.\", \"sur le périphérique Nord.\", \"depuis plusieurs jours.\", \"au LIFO.\"]\n",
    "    \n",
    "    phrase=choice(S)+' '+ choice(V)+' '+choice(C)+' '+choice(CC)\n",
    "    return phrase\n",
    "\n",
    "engendrer_cadavre_exquis()\n",
    "\n"
   ]
  },
  {
   "cell_type": "markdown",
   "metadata": {
    "colab_type": "text",
    "id": "0lVX5OClSWwg"
   },
   "source": [
    "<a id='exercice_crible'></a>\n",
    "[Retour au sommaire](#sommaire)\n",
    "# Exercice - Passer au crible\n",
    "\n",
    "L'objectif de cet exercice est d'écrire une fonction permettant de déterminer l'ensemble des nombres premiers inférieurs à $n$. \n",
    "Un nombre est premier s'il a exactement deux diviseurs ($1$ et lui-même). \n",
    "\n",
    "Pour réaliser cette fonction, vous utiliserez le [Crible d'Eratosthène](https://fr.wikipedia.org/wiki/Crible_d%27%C3%89ratosth%C3%A8ne). L'idée est de parcourir la liste (en partant de $2$) et d'appliquer le principe suivant tant qu'il reste des éléments ni rayés, ni entourés : \n",
    "\n",
    "- Le premier entier $p$ *ni rayé, ni entouré* de la liste est premier : l'entourer.\n",
    "- *Tous* les entiers multiples de *p* ne sont pas premiers : les rayer.\n",
    "\n",
    "À la fin les nombres entourés sont les nombres premiers.\n",
    "\n",
    "<br />\n",
    "<p><a href=\"https://commons.wikimedia.org/wiki/File:New_Animation_Sieve_of_Eratosthenes.gif#/media/File:New_Animation_Sieve_of_Eratosthenes.gif\"><img src=\"https://upload.wikimedia.org/wikipedia/commons/8/8c/New_Animation_Sieve_of_Eratosthenes.gif\" alt=\"New Animation Sieve of Eratosthenes.gif\"></a><br><center>By <a href=\"//commons.wikimedia.org/w/index.php?title=User:M.qrius&amp;action=edit&amp;redlink=1\" class=\"new\" title=\"User:M.qrius (page does not exist)\">M.qrius</a> - <span class=\"int-own-work\" lang=\"en\">Own work</span>. Inspired on a similar picture by <a href=\"//commons.wikimedia.org/wiki/User:SKopp\" title=\"User:SKopp\">SKopp</a>., <a href=\"http://www.gnu.org/copyleft/fdl.html\" title=\"GNU Free Documentation License\">GFDL</a>, <a href=\"https://commons.wikimedia.org/w/index.php?curid=3287623\">Link</a></center></p>\n"
   ]
  },
  {
   "cell_type": "markdown",
   "metadata": {
    "colab_type": "text",
    "id": "Me06zVuOSWwh"
   },
   "source": [
    "### Avant de commencer l'exercice : Compréhensions de listes\n",
    "\n",
    "Les compréhensions de listes sont un outil très puissant en Python, permettant de **créer** et de **filtrer** des listes de manière naturelle. Prenons un exemple : "
   ]
  },
  {
   "cell_type": "code",
   "execution_count": 0,
   "metadata": {
    "colab": {
     "autoexec": {
      "startup": false,
      "wait_interval": 0
     }
    },
    "colab_type": "code",
    "collapsed": true,
    "id": "6mQDNk4HSWwj"
   },
   "outputs": [],
   "source": [
    "l = [i*i for i in range(1,10)]\n",
    "l"
   ]
  },
  {
   "cell_type": "markdown",
   "metadata": {
    "colab_type": "text",
    "id": "C0VcNK_lSWwo"
   },
   "source": [
    "Cette syntaxe se lit de la manière suivante : la liste `l` contiendra les valeurs `i*i` pour tous les entiers `i` compris entre $1$ et $10$ (non inclus). \n",
    "\n",
    "Il est également possible de **filtrer** une liste en fonction de certains critères. Pour générer la liste ci-dessus mais en ne conservant que les nombres pairs : "
   ]
  },
  {
   "cell_type": "code",
   "execution_count": 0,
   "metadata": {
    "colab": {
     "autoexec": {
      "startup": false,
      "wait_interval": 0
     }
    },
    "colab_type": "code",
    "collapsed": true,
    "id": "z7AQsCnySWwp"
   },
   "outputs": [],
   "source": [
    "pairs = [i*i for i in range(1,10) if (i*i % 2 == 0)]\n",
    "pairs"
   ]
  },
  {
   "cell_type": "markdown",
   "metadata": {
    "colab_type": "text",
    "id": "8H_VPtJQSWwt"
   },
   "source": [
    "### Crible d'Eratosthène \n",
    "\n",
    "Ecrire une fonction `eratosthene_np` retournant la liste des nombres **NON premiers** inférieurs à une valeur donnée en utilisant la compréhension de listes. La liste retournée pourra être épurée des doublons en lisant plus bas."
   ]
  },
  {
   "cell_type": "code",
   "execution_count": 3,
   "metadata": {
    "colab": {
     "autoexec": {
      "startup": false,
      "wait_interval": 0
     }
    },
    "colab_type": "code",
    "id": "6izj34CaSWwv"
   },
   "outputs": [
    {
     "data": {
      "text/plain": [
       "[4,\n",
       " 6,\n",
       " 8,\n",
       " 9,\n",
       " 10,\n",
       " 12,\n",
       " 14,\n",
       " 15,\n",
       " 16,\n",
       " 18,\n",
       " 20,\n",
       " 21,\n",
       " 22,\n",
       " 24,\n",
       " 25,\n",
       " 26,\n",
       " 27,\n",
       " 28,\n",
       " 30,\n",
       " 32,\n",
       " 33,\n",
       " 34,\n",
       " 35,\n",
       " 36,\n",
       " 38,\n",
       " 39,\n",
       " 40,\n",
       " 42,\n",
       " 44,\n",
       " 45,\n",
       " 46,\n",
       " 48,\n",
       " 49,\n",
       " 50,\n",
       " 51,\n",
       " 52,\n",
       " 54,\n",
       " 55,\n",
       " 56,\n",
       " 57,\n",
       " 58,\n",
       " 60,\n",
       " 62,\n",
       " 63,\n",
       " 64,\n",
       " 65,\n",
       " 66,\n",
       " 68,\n",
       " 69,\n",
       " 70,\n",
       " 72,\n",
       " 74,\n",
       " 75,\n",
       " 76,\n",
       " 77,\n",
       " 78,\n",
       " 80,\n",
       " 81,\n",
       " 82,\n",
       " 84,\n",
       " 85,\n",
       " 86,\n",
       " 87,\n",
       " 88,\n",
       " 90,\n",
       " 91,\n",
       " 92,\n",
       " 93,\n",
       " 94,\n",
       " 95,\n",
       " 96,\n",
       " 98,\n",
       " 99,\n",
       " 100]"
      ]
     },
     "execution_count": 3,
     "metadata": {},
     "output_type": "execute_result"
    }
   ],
   "source": [
    "\n",
    "def eratosthene_np(n):    \n",
    "    listentiers=[]\n",
    "    liste_np=[]\n",
    "    for i in range (2,n+1): # construction de la liste\n",
    "        listentiers.append(i)\n",
    "        \n",
    "    for i in listentiers :\n",
    "        j=2 \n",
    "        while i*j <=n:\n",
    "            liste_np.append(i*j)\n",
    "            j=j+1\n",
    "    liste_np.sort()\n",
    "    liste_np=list(set(liste_np))\n",
    "    return liste_np\n",
    "\n",
    "eratosthene_np(100)\n",
    "\n",
    "\n"
   ]
  },
  {
   "cell_type": "markdown",
   "metadata": {
    "colab_type": "text",
    "id": "44G9dJPYSWwz"
   },
   "source": [
    "Il est possible que la liste d'entiers non premiers contiennent énormément de doublons. Pour contourner ce problème, on peut utiliser un `set()` qui représente la notion d'ensemble mathématiques : une séquence de valeurs non ordonnée, où un même élément ne peut être présent qu'une fois."
   ]
  },
  {
   "cell_type": "code",
   "execution_count": 80,
   "metadata": {
    "colab": {
     "autoexec": {
      "startup": false,
      "wait_interval": 0
     }
    },
    "colab_type": "code",
    "id": "2z1JFNGESWw0",
    "outputId": "b32ab2a4-be51-4d1b-a3bd-d3d1c9567161"
   },
   "outputs": [
    {
     "data": {
      "text/plain": [
       "{1, 2, 4}"
      ]
     },
     "execution_count": 80,
     "metadata": {},
     "output_type": "execute_result"
    }
   ],
   "source": [
    "L1 = [1, 2, 2, 2, 2, 4, 4, 4, 2]\n",
    "S1 = set(L1)\n",
    "L2 = list(S1)\n",
    "S1"
   ]
  },
  {
   "cell_type": "code",
   "execution_count": 81,
   "metadata": {},
   "outputs": [
    {
     "data": {
      "text/plain": [
       "[1, 2, 4]"
      ]
     },
     "execution_count": 81,
     "metadata": {},
     "output_type": "execute_result"
    }
   ],
   "source": [
    "L2"
   ]
  },
  {
   "cell_type": "markdown",
   "metadata": {
    "colab_type": "text",
    "id": "LlJy_X41SWw6"
   },
   "source": [
    "Ecrire maintenant une fonction `eratosthene` retournant la liste des nombres premiers inférieurs à une valeur donnée en utilisant la compréhension de listes.\n",
    "\n",
    "On pourra :\n",
    "- soit utiliser la fonction précédente telle quelle, `set()` et `list()`\n",
    "- soit, plus élégamment, copier-coller la fonction précédente et la modifier de façon idoine (sans utiliser `set()`)."
   ]
  },
  {
   "cell_type": "code",
   "execution_count": 5,
   "metadata": {
    "colab": {
     "autoexec": {
      "startup": false,
      "wait_interval": 0
     }
    },
    "colab_type": "code",
    "id": "jwWQWJT9SWw7"
   },
   "outputs": [
    {
     "data": {
      "text/plain": [
       "[2,\n",
       " 3,\n",
       " 5,\n",
       " 7,\n",
       " 11,\n",
       " 13,\n",
       " 17,\n",
       " 19,\n",
       " 23,\n",
       " 29,\n",
       " 31,\n",
       " 37,\n",
       " 41,\n",
       " 43,\n",
       " 47,\n",
       " 53,\n",
       " 59,\n",
       " 61,\n",
       " 67,\n",
       " 71,\n",
       " 73,\n",
       " 79,\n",
       " 83,\n",
       " 89,\n",
       " 97,\n",
       " 101,\n",
       " 103,\n",
       " 107,\n",
       " 109,\n",
       " 113,\n",
       " 127,\n",
       " 131,\n",
       " 137,\n",
       " 139,\n",
       " 149,\n",
       " 151,\n",
       " 157,\n",
       " 163,\n",
       " 167,\n",
       " 173,\n",
       " 179,\n",
       " 181,\n",
       " 191,\n",
       " 193,\n",
       " 197,\n",
       " 199,\n",
       " 211,\n",
       " 223,\n",
       " 227,\n",
       " 229,\n",
       " 233,\n",
       " 239,\n",
       " 241,\n",
       " 251,\n",
       " 257,\n",
       " 263,\n",
       " 269,\n",
       " 271,\n",
       " 277,\n",
       " 281,\n",
       " 283,\n",
       " 293,\n",
       " 307,\n",
       " 311,\n",
       " 313,\n",
       " 317,\n",
       " 331,\n",
       " 337,\n",
       " 347,\n",
       " 349,\n",
       " 353,\n",
       " 359,\n",
       " 367,\n",
       " 373,\n",
       " 379,\n",
       " 383,\n",
       " 389,\n",
       " 397,\n",
       " 401,\n",
       " 409,\n",
       " 419,\n",
       " 421,\n",
       " 431,\n",
       " 433,\n",
       " 439,\n",
       " 443,\n",
       " 449,\n",
       " 457,\n",
       " 461,\n",
       " 463,\n",
       " 467,\n",
       " 479,\n",
       " 487,\n",
       " 491,\n",
       " 499,\n",
       " 503,\n",
       " 509,\n",
       " 521,\n",
       " 523,\n",
       " 541,\n",
       " 547,\n",
       " 557,\n",
       " 563,\n",
       " 569,\n",
       " 571,\n",
       " 577,\n",
       " 587,\n",
       " 593,\n",
       " 599,\n",
       " 601,\n",
       " 607,\n",
       " 613,\n",
       " 617,\n",
       " 619,\n",
       " 631,\n",
       " 641,\n",
       " 643,\n",
       " 647,\n",
       " 653,\n",
       " 659,\n",
       " 661,\n",
       " 673,\n",
       " 677,\n",
       " 683,\n",
       " 691,\n",
       " 701,\n",
       " 709,\n",
       " 719,\n",
       " 727,\n",
       " 733,\n",
       " 739,\n",
       " 743,\n",
       " 751,\n",
       " 757,\n",
       " 761,\n",
       " 769,\n",
       " 773,\n",
       " 787,\n",
       " 797,\n",
       " 809,\n",
       " 811,\n",
       " 821,\n",
       " 823,\n",
       " 827,\n",
       " 829,\n",
       " 839,\n",
       " 853,\n",
       " 857,\n",
       " 859,\n",
       " 863,\n",
       " 877,\n",
       " 881,\n",
       " 883,\n",
       " 887,\n",
       " 907,\n",
       " 911,\n",
       " 919,\n",
       " 929,\n",
       " 937,\n",
       " 941,\n",
       " 947,\n",
       " 953,\n",
       " 967,\n",
       " 971,\n",
       " 977,\n",
       " 983,\n",
       " 991,\n",
       " 997]"
      ]
     },
     "execution_count": 5,
     "metadata": {},
     "output_type": "execute_result"
    }
   ],
   "source": [
    "def eratosthene(n) :\n",
    "    listeprem=[]\n",
    "    for i in range (2,n+1):\n",
    "        listeprem.append(i)\n",
    "    \n",
    "    for i in listeprem :\n",
    "        for j in listeprem :\n",
    "            if j%i==0 and j>i :\n",
    "                listeprem.remove(j)\n",
    "    return listeprem\n",
    "\n",
    "eratosthene(1000)"
   ]
  },
  {
   "cell_type": "markdown",
   "metadata": {
    "colab_type": "text",
    "id": "cmg4mM1MSWxH"
   },
   "source": [
    "<a id='dictionnaires'></a>\n",
    "[Retour au sommaire](#sommaire)\n",
    "# Dictionnaires"
   ]
  },
  {
   "cell_type": "markdown",
   "metadata": {
    "colab_type": "text",
    "id": "D3P59B7NSWxI"
   },
   "source": [
    "Les dictionnaires peuvent être vus comme une extension des listes : ils permettent également de stocker plusieurs éléments (ou *valeurs*) de différents types, mais ne **possèdent pas d'ordre précis**. \n",
    "\n",
    "Ainsi, au lieu d'associer à chaque élément (ou *valeur*) une position (un indice) dans la liste, on lui associé une **clé**. Les clés peuvent être de (presque) tous types, de même que les valeurs. "
   ]
  },
  {
   "cell_type": "code",
   "execution_count": 8,
   "metadata": {
    "colab": {
     "autoexec": {
      "startup": false,
      "wait_interval": 0
     }
    },
    "colab_type": "code",
    "id": "b7pZV2NaSWxK",
    "outputId": "fbab7818-ecec-4b6f-bbd5-26f34b1b595a"
   },
   "outputs": [
    {
     "data": {
      "text/plain": [
       "{0: 'Homme', 'nom': 'Pearson', 'prenom': 'Anthony'}"
      ]
     },
     "execution_count": 8,
     "metadata": {},
     "output_type": "execute_result"
    }
   ],
   "source": [
    "dico = dict() \n",
    "\n",
    "dico[\"nom\"] = \"Pearson\"\n",
    "dico[\"prenom\"] = \"Anthony\"\n",
    "# ici '0' est une clé, en aucun cas une position dans le dictionnaire\n",
    "dico[0] = \"Homme\"\n",
    "\n",
    "dico"
   ]
  },
  {
   "cell_type": "code",
   "execution_count": 9,
   "metadata": {},
   "outputs": [
    {
     "data": {
      "text/plain": [
       "{0: 'Homme', 'nom': 'Pearson', 'prenom': 'Anthony'}"
      ]
     },
     "execution_count": 9,
     "metadata": {},
     "output_type": "execute_result"
    }
   ],
   "source": [
    "# une initialisation équivalente\n",
    "dico1 = {\"nom\": \"Pearson\", \"prenom\": \"Anthony\", 0: \"Homme\"}\n",
    "dico1"
   ]
  },
  {
   "cell_type": "code",
   "execution_count": 10,
   "metadata": {},
   "outputs": [
    {
     "data": {
      "text/plain": [
       "{0: 'Homme', 'nom': 'Pearson', 'prenom': 'Anthony'}"
      ]
     },
     "execution_count": 10,
     "metadata": {},
     "output_type": "execute_result"
    }
   ],
   "source": [
    "# ou encore en passant une liste de tuples à la fonction dict()\n",
    "dico2 = dict([(\"nom\", \"Pearson\"), (\"prenom\", \"Anthony\"), (0, \"Homme\")])\n",
    "dico2"
   ]
  },
  {
   "cell_type": "markdown",
   "metadata": {
    "colab_type": "text",
    "id": "gNhS4Nb4SWxR"
   },
   "source": [
    "Les clés sont *uniques*, mais un dictionnaire peut contenir plusieurs fois la même valeur :"
   ]
  },
  {
   "cell_type": "code",
   "execution_count": 11,
   "metadata": {
    "colab": {
     "autoexec": {
      "startup": false,
      "wait_interval": 0
     }
    },
    "colab_type": "code",
    "id": "i9Jv1SWLSWxS",
    "outputId": "dcf0c3ce-4143-421e-dedc-f38e07f98393"
   },
   "outputs": [
    {
     "data": {
      "text/plain": [
       "{'age': 32, 'dents': 32, 'taille': 178}"
      ]
     },
     "execution_count": 11,
     "metadata": {},
     "output_type": "execute_result"
    }
   ],
   "source": [
    "dico3 = {\"age\":32, \"taille\":178, \"dents\":32}\n",
    "dico3"
   ]
  },
  {
   "cell_type": "markdown",
   "metadata": {
    "colab_type": "text",
    "id": "Qhey2fHxSWxa"
   },
   "source": [
    "## Parcours et manipulation\n",
    "\n",
    "Les dictionnaires n'ayant pas de structure ordonnée, il n'est plus possible de les parcourir en fonction de l'indice des éléments (dans un ordre qui fasse sens).\n",
    "\n",
    "### Parcours des clés\n",
    "\n",
    "Les clés se parcourent comme une liste : attention néanmoins car les dictionnaires ne sont pas ordonnés.Les clés peuvent donc ne pas être affichées dans l'ordre dans lequel elles sont saisies.\n",
    "\n",
    "Ceci étant, si les clés sont des nombres ou des chaînes de caractères on pourra les afficher dans l'odre croissant ou décroissant (ordre alphabétique pour les chaînes).\n"
   ]
  },
  {
   "cell_type": "code",
   "execution_count": 0,
   "metadata": {
    "colab": {
     "autoexec": {
      "startup": false,
      "wait_interval": 0
     }
    },
    "colab_type": "code",
    "id": "WZf1TPiXSWxc",
    "outputId": "2368747d-315e-44b7-a843-d8b69a3aac38"
   },
   "outputs": [
    {
     "name": "stdout",
     "output_type": "stream",
     "text": [
      "age taille dents  - \n",
      "age dents taille  - \n",
      "taille dents age "
     ]
    }
   ],
   "source": [
    "for cle in dico3.keys():\n",
    "    print(cle, end=' ')\n",
    "    \n",
    "print(' - ')\n",
    "\n",
    "for cle in sorted(dico3.keys()):\n",
    "    print(cle, end=' ')\n",
    "\n",
    "print(' - ')  \n",
    "    \n",
    "for cle in reversed(sorted(dico3.keys())):\n",
    "    print(cle, end=' ')\n"
   ]
  },
  {
   "cell_type": "markdown",
   "metadata": {
    "colab_type": "text",
    "id": "oXcIcjZpSWxm"
   },
   "source": [
    " ### Parcours des valeurs"
   ]
  },
  {
   "cell_type": "code",
   "execution_count": 12,
   "metadata": {
    "colab": {
     "autoexec": {
      "startup": false,
      "wait_interval": 0
     }
    },
    "colab_type": "code",
    "id": "xORWy1RESWxo",
    "outputId": "04b6b2db-c2a7-4e3e-f4d7-9578f7f3a957"
   },
   "outputs": [
    {
     "name": "stdout",
     "output_type": "stream",
     "text": [
      "Pearson Anthony Homme -\n",
      "Pearson Anthony Homme -\n",
      "False\n",
      "True\n",
      "False\n"
     ]
    }
   ],
   "source": [
    "# Une solution en utilisant les clés\n",
    "for cle in dico:\n",
    "    print(dico[cle], end=' ')\n",
    "\n",
    "print('-')\n",
    "\n",
    "# Il existe une méthodes values(), principalement utilisée dans les conditionnelles\n",
    "for valeur in dico.values():\n",
    "    print(valeur,end=' ')\n",
    "\n",
    "print('-')\n",
    "\n",
    "# Utilisation de l'opérateur 'in'   \n",
    "print(\"Mathieu\" in dico.values())\n",
    "print(\"Pearson\" in dico.values())\n",
    "# Attention : dico est équivalent à dico.keys()\n",
    "print(\"Pearson\" in dico)"
   ]
  },
  {
   "cell_type": "markdown",
   "metadata": {
    "colab_type": "text",
    "id": "MO6Viq2SSWx5"
   },
   "source": [
    "### Parcours des clés et des valeurs \n",
    "\n",
    "La méthode `items()` renvoie une séquence de tuples `(clé, valeur)` :"
   ]
  },
  {
   "cell_type": "code",
   "execution_count": 0,
   "metadata": {
    "colab": {
     "autoexec": {
      "startup": false,
      "wait_interval": 0
     }
    },
    "colab_type": "code",
    "id": "tdnKE1iYSWx6",
    "outputId": "6ac0db4c-4273-4883-f4d0-c530b3a79680"
   },
   "outputs": [
    {
     "name": "stdout",
     "output_type": "stream",
     "text": [
      "La clé nom contient la valeur Anthony\n",
      "La clé prenom contient la valeur Anthony\n",
      "La clé 0 contient la valeur Homme\n"
     ]
    }
   ],
   "source": [
    "for (cle, valeur) in dico.items():\n",
    "    print(\"La clé\", cle, \"contient la valeur\", valeur)"
   ]
  },
  {
   "cell_type": "markdown",
   "metadata": {
    "colab_type": "text",
    "id": "WmvC_REpSWyH"
   },
   "source": [
    "## Méthodes de dictionnaires\n",
    "\n",
    "Comme pour les listes, il existe de nombreuses méthodes de dictionnaires. Rappelons qu'il est possible de toutes les obtenir avec la fonction `help(dict)`.  "
   ]
  },
  {
   "cell_type": "code",
   "execution_count": 6,
   "metadata": {
    "colab": {
     "autoexec": {
      "startup": false,
      "wait_interval": 0
     }
    },
    "colab_type": "code",
    "id": "xDx30JuaSWyJ"
   },
   "outputs": [
    {
     "name": "stdout",
     "output_type": "stream",
     "text": [
      "Help on class dict in module builtins:\n",
      "\n",
      "class dict(object)\n",
      " |  dict() -> new empty dictionary\n",
      " |  dict(mapping) -> new dictionary initialized from a mapping object's\n",
      " |      (key, value) pairs\n",
      " |  dict(iterable) -> new dictionary initialized as if via:\n",
      " |      d = {}\n",
      " |      for k, v in iterable:\n",
      " |          d[k] = v\n",
      " |  dict(**kwargs) -> new dictionary initialized with the name=value pairs\n",
      " |      in the keyword argument list.  For example:  dict(one=1, two=2)\n",
      " |  \n",
      " |  Methods defined here:\n",
      " |  \n",
      " |  __contains__(self, key, /)\n",
      " |      True if D has a key k, else False.\n",
      " |  \n",
      " |  __delitem__(self, key, /)\n",
      " |      Delete self[key].\n",
      " |  \n",
      " |  __eq__(self, value, /)\n",
      " |      Return self==value.\n",
      " |  \n",
      " |  __ge__(self, value, /)\n",
      " |      Return self>=value.\n",
      " |  \n",
      " |  __getattribute__(self, name, /)\n",
      " |      Return getattr(self, name).\n",
      " |  \n",
      " |  __getitem__(...)\n",
      " |      x.__getitem__(y) <==> x[y]\n",
      " |  \n",
      " |  __gt__(self, value, /)\n",
      " |      Return self>value.\n",
      " |  \n",
      " |  __init__(self, /, *args, **kwargs)\n",
      " |      Initialize self.  See help(type(self)) for accurate signature.\n",
      " |  \n",
      " |  __iter__(self, /)\n",
      " |      Implement iter(self).\n",
      " |  \n",
      " |  __le__(self, value, /)\n",
      " |      Return self<=value.\n",
      " |  \n",
      " |  __len__(self, /)\n",
      " |      Return len(self).\n",
      " |  \n",
      " |  __lt__(self, value, /)\n",
      " |      Return self<value.\n",
      " |  \n",
      " |  __ne__(self, value, /)\n",
      " |      Return self!=value.\n",
      " |  \n",
      " |  __new__(*args, **kwargs) from builtins.type\n",
      " |      Create and return a new object.  See help(type) for accurate signature.\n",
      " |  \n",
      " |  __repr__(self, /)\n",
      " |      Return repr(self).\n",
      " |  \n",
      " |  __setitem__(self, key, value, /)\n",
      " |      Set self[key] to value.\n",
      " |  \n",
      " |  __sizeof__(...)\n",
      " |      D.__sizeof__() -> size of D in memory, in bytes\n",
      " |  \n",
      " |  clear(...)\n",
      " |      D.clear() -> None.  Remove all items from D.\n",
      " |  \n",
      " |  copy(...)\n",
      " |      D.copy() -> a shallow copy of D\n",
      " |  \n",
      " |  fromkeys(iterable, value=None, /) from builtins.type\n",
      " |      Returns a new dict with keys from iterable and values equal to value.\n",
      " |  \n",
      " |  get(...)\n",
      " |      D.get(k[,d]) -> D[k] if k in D, else d.  d defaults to None.\n",
      " |  \n",
      " |  items(...)\n",
      " |      D.items() -> a set-like object providing a view on D's items\n",
      " |  \n",
      " |  keys(...)\n",
      " |      D.keys() -> a set-like object providing a view on D's keys\n",
      " |  \n",
      " |  pop(...)\n",
      " |      D.pop(k[,d]) -> v, remove specified key and return the corresponding value.\n",
      " |      If key is not found, d is returned if given, otherwise KeyError is raised\n",
      " |  \n",
      " |  popitem(...)\n",
      " |      D.popitem() -> (k, v), remove and return some (key, value) pair as a\n",
      " |      2-tuple; but raise KeyError if D is empty.\n",
      " |  \n",
      " |  setdefault(...)\n",
      " |      D.setdefault(k[,d]) -> D.get(k,d), also set D[k]=d if k not in D\n",
      " |  \n",
      " |  update(...)\n",
      " |      D.update([E, ]**F) -> None.  Update D from dict/iterable E and F.\n",
      " |      If E is present and has a .keys() method, then does:  for k in E: D[k] = E[k]\n",
      " |      If E is present and lacks a .keys() method, then does:  for k, v in E: D[k] = v\n",
      " |      In either case, this is followed by: for k in F:  D[k] = F[k]\n",
      " |  \n",
      " |  values(...)\n",
      " |      D.values() -> an object providing a view on D's values\n",
      " |  \n",
      " |  ----------------------------------------------------------------------\n",
      " |  Data and other attributes defined here:\n",
      " |  \n",
      " |  __hash__ = None\n",
      "\n"
     ]
    }
   ],
   "source": [
    "help(dict)"
   ]
  },
  {
   "cell_type": "markdown",
   "metadata": {
    "colab_type": "text",
    "id": "DTZPup59SWyQ"
   },
   "source": [
    "<a id='exercice_distributeur'></a>\n",
    "[Retour au sommaire](#sommaire)\n",
    "# Exercice : distributeur automatique de billets\n",
    "\n",
    "Compléter la fonction `distribuer` ci-dessous afin qu'elle retourne le dictionnaire `coupures` tel que la valeur associée à chaque clé corresponde au nombre de coupures qui seraient distribuées par un D.A.B. lorsque le client demanderait à recevoir la somme `montant` supposée être multiple de 10.\n",
    "\n",
    "L'algorithme de choix des coupures est laissé à votre réflexion ...\n"
   ]
  },
  {
   "cell_type": "code",
   "execution_count": 0,
   "metadata": {
    "colab": {
     "autoexec": {
      "startup": false,
      "wait_interval": 0
     }
    },
    "colab_type": "code",
    "collapsed": true,
    "id": "PNA8N1IsSWyR"
   },
   "outputs": [],
   "source": [
    "def distribuer(montant):\n",
    "    assert(montant%10 == 0)   # message d'erreur si la S n'est pas multiple de 10\n",
    "    coupures = {500 : 0, 200 : 0, 100 : 0, 50 : 0, 20 : 0, 10 : 0}\n",
    "    pass"
   ]
  },
  {
   "cell_type": "markdown",
   "metadata": {
    "colab_type": "text",
    "id": "S_HqT7VsSWyV"
   },
   "source": [
    "<a id='exercice_transcripteur'></a>\n",
    "[Retour au sommaire](#sommaire)\n",
    "# Exercice : transcripteur ADN (en fonction du temps restant ... aller voir récursivité en premier lieu)\n",
    "\n",
    "* En utilisant un dictionnaire adapté, écrire un code permettant de transcrire une chaîne de caractères définie sur A,T,G,C en une chaîne de caractères définie sur A,U,G,C en utilisant les règles suivantes : \n",
    "\n",
    "    - les A deviennent U\n",
    "    - les T deviennent A \n",
    "    - les G deviennent C\n",
    "    - les C deviennent G"
   ]
  },
  {
   "cell_type": "code",
   "execution_count": 0,
   "metadata": {
    "colab": {
     "autoexec": {
      "startup": false,
      "wait_interval": 0
     }
    },
    "colab_type": "code",
    "collapsed": true,
    "id": "ZFRZwXk5SWyW"
   },
   "outputs": [],
   "source": [
    "chaine_a_transcrire = \"TTGGATCGATTACACGA\"\n",
    "chaine_transcrite = \"\"\n",
    "\n",
    "transcription = {}"
   ]
  }
 ],
 "metadata": {
  "colab": {
   "collapsed_sections": [
    "yPhBW1EZSWuW",
    "78LtHvFySWu0",
    "hz4IDG0iSWu7",
    "AKwhJ48iSWvS",
    "jyHln_3WfwtE",
    "5WLXcuioSWvf",
    "ToN-8YFIfwvC",
    "Me06zVuOSWwh",
    "8H_VPtJQSWwt",
    "oXcIcjZpSWxm",
    "MO6Viq2SSWx5"
   ],
   "default_view": {},
   "name": "02_chaines_listes_dicts.ipynb",
   "provenance": [],
   "toc_visible": true,
   "version": "0.3.2",
   "views": {}
  },
  "kernelspec": {
   "display_name": "Python 3",
   "language": "python",
   "name": "python3"
  },
  "language_info": {
   "codemirror_mode": {
    "name": "ipython",
    "version": 3
   },
   "file_extension": ".py",
   "mimetype": "text/x-python",
   "name": "python",
   "nbconvert_exporter": "python",
   "pygments_lexer": "ipython3",
   "version": "3.7.3"
  }
 },
 "nbformat": 4,
 "nbformat_minor": 1
}
